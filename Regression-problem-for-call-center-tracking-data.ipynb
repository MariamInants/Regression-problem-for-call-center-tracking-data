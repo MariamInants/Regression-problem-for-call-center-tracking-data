{
 "cells": [
  {
   "cell_type": "code",
   "execution_count": 59,
   "metadata": {},
   "outputs": [
    {
     "data": {
      "text/html": [
       "        <script type=\"text/javascript\">\n",
       "        window.PlotlyConfig = {MathJaxConfig: 'local'};\n",
       "        if (window.MathJax) {MathJax.Hub.Config({SVG: {font: \"STIX-Web\"}});}\n",
       "        if (typeof require !== 'undefined') {\n",
       "        require.undef(\"plotly\");\n",
       "        requirejs.config({\n",
       "            paths: {\n",
       "                'plotly': ['https://cdn.plot.ly/plotly-latest.min']\n",
       "            }\n",
       "        });\n",
       "        require(['plotly'], function(Plotly) {\n",
       "            window._Plotly = Plotly;\n",
       "        });\n",
       "        }\n",
       "        </script>\n",
       "        "
      ]
     },
     "metadata": {},
     "output_type": "display_data"
    }
   ],
   "source": [
    "import numpy as np\n",
    "import pandas as pd \n",
    "import matplotlib.pyplot as plt\n",
    "from plotly.offline import plot, iplot\n",
    "import plotly.graph_objs as go\n",
    "from plotly.offline import init_notebook_mode\n",
    "init_notebook_mode(connected=True)\n",
    "import plotly.express as px\n",
    "from sklearn import preprocessing\n",
    "from sklearn.preprocessing import StandardScaler,PolynomialFeatures\n",
    "import scipy.stats as stats\n",
    "from plotly.subplots import make_subplots\n",
    "\n",
    "import sklearn.linear_model as skl_lm\n",
    "from sklearn.pipeline import Pipeline\n",
    "from sklearn import svm\n",
    "from sklearn import tree\n",
    "from sklearn import ensemble\n",
    "from sklearn.model_selection import cross_val_score\n",
    "from sklearn.neighbors import NearestNeighbors,KNeighborsClassifier\n",
    "from sklearn.cluster import DBSCAN\n",
    "from sklearn.model_selection import train_test_split\n",
    "from sklearn.metrics import accuracy_score,r2_score\n",
    "from sklearn.naive_bayes import GaussianNB\n",
    "from statsmodels.tsa.stattools import adfuller\n",
    "from statsmodels.tsa.seasonal import seasonal_decompose\n",
    "from statsmodels.tsa.arima_model import ARIMA\n",
    "from pandas.plotting import register_matplotlib_converters\n",
    "register_matplotlib_converters()\n",
    "from pandas.plotting import autocorrelation_plot\n",
    "from matplotlib import pyplot\n",
    "from sklearn.metrics import mean_squared_error\n",
    "from statsmodels.graphics.tsaplots import plot_acf,plot_pacf\n",
    "from sklearn.svm import SVR\n",
    "from sklearn.pipeline import make_pipeline\n",
    "import warnings\n",
    "from sklearn.neighbors import KNeighborsRegressor"
   ]
  },
  {
   "cell_type": "code",
   "execution_count": 2,
   "metadata": {},
   "outputs": [],
   "source": [
    "# read the data\n",
    "df=pd.read_csv(\"archive/311-call-center-tracking-data-archived.csv\")"
   ]
  },
  {
   "cell_type": "code",
   "execution_count": 26,
   "metadata": {},
   "outputs": [],
   "source": [
    "# view the data \n",
    "#df"
   ]
  },
  {
   "cell_type": "code",
   "execution_count": 3,
   "metadata": {},
   "outputs": [],
   "source": [
    "# convert \"Date\" column to datetime type\n",
    "df1=df\n",
    "df1[\"Date\"]=pd.to_datetime(df1['Date'])"
   ]
  },
  {
   "cell_type": "code",
   "execution_count": 5,
   "metadata": {},
   "outputs": [],
   "source": [
    "# create new dataframe name \"df_count\" which is original data group by date.\n",
    "# df_count consist of 2 columns \"Date\"-date and \"count\"- number of calls for each date\n",
    "df_count=df1[[\"Date\"]].groupby(df1.Date).count()\n",
    "df_count=df_count.rename(columns={\"Date\":'count'})\n",
    "df_count=df_count.reset_index()"
   ]
  },
  {
   "cell_type": "code",
   "execution_count": 6,
   "metadata": {},
   "outputs": [],
   "source": [
    "# split year, month and day from \"Date\" column\n",
    "df_count['year'] = df_count['Date'].dt.year\n",
    "df_count['month'] = df_count['Date'].dt.month\n",
    "df_count['day'] = df_count['Date'].dt.day"
   ]
  },
  {
   "cell_type": "code",
   "execution_count": 7,
   "metadata": {},
   "outputs": [],
   "source": [
    "# this function is created spetialy for this dataset with its columns name\n",
    "def count(df,year,month):\n",
    "    if month==0:\n",
    "        out=df.loc[(df[\"year\"]==year),:]\n",
    "    else:\n",
    "        out=df.loc[(df[\"year\"]==year)&(df[\"month\"]==month),:]\n",
    "    return out"
   ]
  },
  {
   "cell_type": "code",
   "execution_count": 8,
   "metadata": {},
   "outputs": [],
   "source": [
    "# month=0 means return result for all month for defined year\n",
    "# I selected data fro 2014 year\n",
    "df_count_2014=count(df_count,year=2014,month=0)"
   ]
  },
  {
   "cell_type": "code",
   "execution_count": 9,
   "metadata": {},
   "outputs": [
    {
     "name": "stdout",
     "output_type": "stream",
     "text": [
      "105\n"
     ]
    }
   ],
   "source": [
    "# here are functions that convert \"Date\" column do days, it means to number in [1,366] range\n",
    "_DAYS_IN_MONTH = [31, 28, 31, 30, 31, 30, 31, 31, 30, 31, 30, 31]\n",
    "\n",
    "def _is_leap(year):\n",
    "    return year % 4 == 0 and (year % 100 != 0 or year % 400 == 0)\n",
    "\n",
    "def _days_in_month(year, month):\n",
    "    if month == 1 and _is_leap(year):\n",
    "        return 29\n",
    "    return _DAYS_IN_MONTH[month]\n",
    "\n",
    "def days(year, month, day):\n",
    "    return sum([_days_in_month(year, m) for m in range(0, month-1)]) + day\n",
    "\n",
    "d = days(1992, 4, 14)\n",
    "print(d)"
   ]
  },
  {
   "cell_type": "code",
   "execution_count": 10,
   "metadata": {},
   "outputs": [
    {
     "name": "stderr",
     "output_type": "stream",
     "text": [
      "<ipython-input-10-855c486c086c>:1: SettingWithCopyWarning:\n",
      "\n",
      "\n",
      "A value is trying to be set on a copy of a slice from a DataFrame.\n",
      "Try using .loc[row_indexer,col_indexer] = value instead\n",
      "\n",
      "See the caveats in the documentation: https://pandas.pydata.org/pandas-docs/stable/user_guide/indexing.html#returning-a-view-versus-a-copy\n",
      "\n"
     ]
    }
   ],
   "source": [
    "# create new column name \"days\"\n",
    "df_count_2014[\"days\"]=df_count_2014.apply(lambda x: days(x['year'], x['month'],x[\"day\"]), axis=1)"
   ]
  },
  {
   "cell_type": "code",
   "execution_count": 11,
   "metadata": {},
   "outputs": [
    {
     "data": {
      "application/vnd.plotly.v1+json": {
       "config": {
        "linkText": "Export to plot.ly",
        "plotlyServerURL": "https://plot.ly",
        "showLink": false
       },
       "data": [
        {
         "marker": {
          "color": "rgba(152,0,0,0.5)",
          "size": 10
         },
         "mode": "markers",
         "name": "Frequency of call for each day)",
         "type": "scatter",
         "x": [
          1,
          2,
          3,
          4,
          5,
          6,
          7,
          8,
          9,
          10,
          11,
          12,
          13,
          14,
          15,
          16,
          17,
          18,
          19,
          20,
          21,
          22,
          23,
          24,
          25,
          26,
          27,
          28,
          29,
          30,
          31,
          32,
          33,
          34,
          35,
          36,
          37,
          38,
          39,
          40,
          41,
          42,
          43,
          44,
          45,
          46,
          47,
          48,
          49,
          50,
          51,
          52,
          53,
          54,
          55,
          56,
          57,
          58,
          59,
          60,
          61,
          62,
          63,
          64,
          65,
          66,
          67,
          68,
          69,
          70,
          71,
          72,
          73,
          74,
          75,
          76,
          77,
          78,
          79,
          80,
          81,
          82,
          83,
          84,
          85,
          86,
          87,
          88,
          89,
          90,
          91,
          92,
          93,
          94,
          95,
          96,
          97,
          98,
          99,
          100,
          101,
          102,
          103,
          104,
          105,
          106,
          107,
          108,
          109,
          110,
          111,
          112,
          113,
          114,
          115,
          116,
          117,
          118,
          119,
          120,
          121,
          122,
          123,
          124,
          125,
          126,
          127,
          128,
          129,
          130,
          131,
          132,
          133,
          134,
          135,
          136,
          137,
          138,
          139,
          140,
          141,
          142,
          143,
          144,
          145,
          146,
          147,
          148,
          149,
          150,
          151,
          152,
          153,
          154,
          155,
          156,
          157,
          158,
          159,
          160,
          161,
          162,
          163,
          164,
          165,
          166,
          167,
          168,
          169,
          170,
          171,
          172,
          173,
          174,
          175,
          176,
          177,
          178,
          179,
          180,
          181,
          182,
          183,
          184,
          185,
          186,
          187,
          188,
          189,
          190,
          191,
          192,
          193,
          194,
          195,
          196,
          197,
          198,
          199,
          200,
          201,
          202,
          203,
          204,
          205,
          206,
          207,
          208,
          209,
          210,
          211,
          212,
          213,
          214,
          215,
          216,
          217,
          218,
          219,
          220,
          221,
          222,
          223,
          224,
          225,
          226,
          227,
          228,
          229,
          230,
          231,
          232,
          233,
          234,
          235,
          236,
          237,
          238,
          239,
          240,
          241,
          242,
          243,
          244,
          245,
          246,
          247,
          248,
          249,
          250,
          251,
          252,
          253,
          254,
          255,
          256,
          257,
          258,
          259,
          260,
          261,
          262,
          263,
          264,
          265,
          266,
          267,
          268,
          269,
          270,
          271,
          272,
          273,
          274,
          275,
          276,
          277,
          278,
          279,
          280,
          281,
          282,
          283,
          284,
          285,
          286,
          287,
          288,
          289,
          290,
          291,
          292,
          293,
          294,
          295,
          296,
          297,
          298,
          299,
          300,
          301,
          302,
          303,
          304,
          305,
          306,
          307,
          308,
          309,
          310,
          311,
          312,
          313,
          314,
          315,
          316,
          317,
          318,
          319,
          320,
          321,
          322,
          323,
          324,
          325,
          326,
          327,
          328,
          329,
          330,
          332,
          333,
          334,
          335,
          336,
          337,
          338,
          339,
          340,
          341,
          342,
          343,
          344,
          345,
          346,
          347,
          348,
          349,
          350,
          351,
          352,
          353,
          354,
          355,
          356,
          357,
          358,
          360,
          361,
          362,
          363,
          364,
          365
         ],
         "y": [
          639,
          2920,
          2632,
          718,
          553,
          2816,
          3054,
          3149,
          2883,
          2693,
          800,
          567,
          3606,
          3209,
          3003,
          2782,
          2810,
          790,
          521,
          1908,
          3455,
          3292,
          2901,
          2663,
          744,
          558,
          3348,
          3156,
          3145,
          3064,
          2762,
          808,
          464,
          3169,
          2930,
          3121,
          2811,
          2655,
          775,
          488,
          3496,
          3030,
          3065,
          2924,
          2589,
          845,
          602,
          1684,
          3575,
          3229,
          3108,
          2784,
          743,
          475,
          3510,
          3252,
          2991,
          2863,
          3083,
          797,
          766,
          3495,
          3082,
          3064,
          2795,
          2697,
          758,
          600,
          3512,
          3254,
          3206,
          2894,
          2675,
          795,
          778,
          3590,
          3332,
          3174,
          3050,
          2788,
          787,
          578,
          3587,
          3423,
          3236,
          3322,
          3032,
          724,
          572,
          2764,
          3807,
          3381,
          3052,
          3006,
          681,
          645,
          3680,
          3401,
          3212,
          3220,
          3076,
          776,
          490,
          3483,
          3028,
          3250,
          3208,
          2652,
          697,
          122,
          3647,
          3324,
          3254,
          3221,
          2913,
          760,
          585,
          3547,
          3456,
          3441,
          3195,
          3059,
          860,
          597,
          3666,
          3270,
          3342,
          3241,
          3001,
          719,
          544,
          3591,
          3532,
          3347,
          3111,
          2923,
          701,
          554,
          5108,
          3700,
          3601,
          3196,
          2924,
          723,
          620,
          778,
          3992,
          3846,
          3409,
          3068,
          789,
          539,
          3791,
          3469,
          3181,
          3060,
          2902,
          844,
          550,
          3727,
          3566,
          3326,
          2935,
          2793,
          822,
          497,
          3641,
          3264,
          3312,
          3221,
          3186,
          831,
          513,
          3905,
          3369,
          3400,
          3385,
          3363,
          788,
          532,
          3972,
          3443,
          3302,
          3115,
          744,
          764,
          577,
          3951,
          3351,
          3338,
          3320,
          3312,
          807,
          502,
          3806,
          3524,
          3478,
          3473,
          3144,
          856,
          594,
          3952,
          3652,
          3520,
          3206,
          3193,
          812,
          579,
          4224,
          3532,
          3400,
          3224,
          3054,
          686,
          569,
          3931,
          3246,
          3216,
          3515,
          2974,
          735,
          473,
          3742,
          3696,
          3757,
          3441,
          3211,
          718,
          513,
          3876,
          3856,
          3548,
          3395,
          2976,
          625,
          493,
          4048,
          3408,
          3599,
          3766,
          3297,
          641,
          584,
          850,
          4204,
          3636,
          3603,
          3249,
          766,
          444,
          3634,
          3485,
          3474,
          3255,
          2949,
          651,
          502,
          3819,
          3454,
          3286,
          3131,
          3111,
          681,
          457,
          3850,
          3068,
          3318,
          3099,
          2930,
          636,
          556,
          3988,
          3535,
          3451,
          3594,
          3315,
          626,
          504,
          3927,
          3495,
          3422,
          3125,
          2798,
          704,
          591,
          3122,
          3981,
          3553,
          3056,
          2911,
          753,
          533,
          3581,
          3419,
          3351,
          3305,
          3067,
          866,
          613,
          3631,
          3644,
          3263,
          3247,
          2763,
          867,
          616,
          3846,
          3210,
          3291,
          3155,
          3203,
          726,
          536,
          3948,
          2187,
          4008,
          3349,
          3095,
          752,
          583,
          3649,
          3644,
          3302,
          3205,
          3095,
          692,
          622,
          3772,
          3129,
          2688,
          1333,
          708,
          552,
          3707,
          3046,
          3117,
          3136,
          2908,
          835,
          571,
          3517,
          3187,
          3267,
          3460,
          3322,
          772,
          441,
          3768,
          3205,
          3357,
          2984,
          3004,
          777,
          512,
          3671,
          3159,
          1876,
          2351,
          666,
          500,
          3420,
          3035,
          2189
         ]
        }
       ],
       "layout": {
        "template": {
         "data": {
          "bar": [
           {
            "error_x": {
             "color": "#2a3f5f"
            },
            "error_y": {
             "color": "#2a3f5f"
            },
            "marker": {
             "line": {
              "color": "#E5ECF6",
              "width": 0.5
             }
            },
            "type": "bar"
           }
          ],
          "barpolar": [
           {
            "marker": {
             "line": {
              "color": "#E5ECF6",
              "width": 0.5
             }
            },
            "type": "barpolar"
           }
          ],
          "carpet": [
           {
            "aaxis": {
             "endlinecolor": "#2a3f5f",
             "gridcolor": "white",
             "linecolor": "white",
             "minorgridcolor": "white",
             "startlinecolor": "#2a3f5f"
            },
            "baxis": {
             "endlinecolor": "#2a3f5f",
             "gridcolor": "white",
             "linecolor": "white",
             "minorgridcolor": "white",
             "startlinecolor": "#2a3f5f"
            },
            "type": "carpet"
           }
          ],
          "choropleth": [
           {
            "colorbar": {
             "outlinewidth": 0,
             "ticks": ""
            },
            "type": "choropleth"
           }
          ],
          "contour": [
           {
            "colorbar": {
             "outlinewidth": 0,
             "ticks": ""
            },
            "colorscale": [
             [
              0,
              "#0d0887"
             ],
             [
              0.1111111111111111,
              "#46039f"
             ],
             [
              0.2222222222222222,
              "#7201a8"
             ],
             [
              0.3333333333333333,
              "#9c179e"
             ],
             [
              0.4444444444444444,
              "#bd3786"
             ],
             [
              0.5555555555555556,
              "#d8576b"
             ],
             [
              0.6666666666666666,
              "#ed7953"
             ],
             [
              0.7777777777777778,
              "#fb9f3a"
             ],
             [
              0.8888888888888888,
              "#fdca26"
             ],
             [
              1,
              "#f0f921"
             ]
            ],
            "type": "contour"
           }
          ],
          "contourcarpet": [
           {
            "colorbar": {
             "outlinewidth": 0,
             "ticks": ""
            },
            "type": "contourcarpet"
           }
          ],
          "heatmap": [
           {
            "colorbar": {
             "outlinewidth": 0,
             "ticks": ""
            },
            "colorscale": [
             [
              0,
              "#0d0887"
             ],
             [
              0.1111111111111111,
              "#46039f"
             ],
             [
              0.2222222222222222,
              "#7201a8"
             ],
             [
              0.3333333333333333,
              "#9c179e"
             ],
             [
              0.4444444444444444,
              "#bd3786"
             ],
             [
              0.5555555555555556,
              "#d8576b"
             ],
             [
              0.6666666666666666,
              "#ed7953"
             ],
             [
              0.7777777777777778,
              "#fb9f3a"
             ],
             [
              0.8888888888888888,
              "#fdca26"
             ],
             [
              1,
              "#f0f921"
             ]
            ],
            "type": "heatmap"
           }
          ],
          "heatmapgl": [
           {
            "colorbar": {
             "outlinewidth": 0,
             "ticks": ""
            },
            "colorscale": [
             [
              0,
              "#0d0887"
             ],
             [
              0.1111111111111111,
              "#46039f"
             ],
             [
              0.2222222222222222,
              "#7201a8"
             ],
             [
              0.3333333333333333,
              "#9c179e"
             ],
             [
              0.4444444444444444,
              "#bd3786"
             ],
             [
              0.5555555555555556,
              "#d8576b"
             ],
             [
              0.6666666666666666,
              "#ed7953"
             ],
             [
              0.7777777777777778,
              "#fb9f3a"
             ],
             [
              0.8888888888888888,
              "#fdca26"
             ],
             [
              1,
              "#f0f921"
             ]
            ],
            "type": "heatmapgl"
           }
          ],
          "histogram": [
           {
            "marker": {
             "colorbar": {
              "outlinewidth": 0,
              "ticks": ""
             }
            },
            "type": "histogram"
           }
          ],
          "histogram2d": [
           {
            "colorbar": {
             "outlinewidth": 0,
             "ticks": ""
            },
            "colorscale": [
             [
              0,
              "#0d0887"
             ],
             [
              0.1111111111111111,
              "#46039f"
             ],
             [
              0.2222222222222222,
              "#7201a8"
             ],
             [
              0.3333333333333333,
              "#9c179e"
             ],
             [
              0.4444444444444444,
              "#bd3786"
             ],
             [
              0.5555555555555556,
              "#d8576b"
             ],
             [
              0.6666666666666666,
              "#ed7953"
             ],
             [
              0.7777777777777778,
              "#fb9f3a"
             ],
             [
              0.8888888888888888,
              "#fdca26"
             ],
             [
              1,
              "#f0f921"
             ]
            ],
            "type": "histogram2d"
           }
          ],
          "histogram2dcontour": [
           {
            "colorbar": {
             "outlinewidth": 0,
             "ticks": ""
            },
            "colorscale": [
             [
              0,
              "#0d0887"
             ],
             [
              0.1111111111111111,
              "#46039f"
             ],
             [
              0.2222222222222222,
              "#7201a8"
             ],
             [
              0.3333333333333333,
              "#9c179e"
             ],
             [
              0.4444444444444444,
              "#bd3786"
             ],
             [
              0.5555555555555556,
              "#d8576b"
             ],
             [
              0.6666666666666666,
              "#ed7953"
             ],
             [
              0.7777777777777778,
              "#fb9f3a"
             ],
             [
              0.8888888888888888,
              "#fdca26"
             ],
             [
              1,
              "#f0f921"
             ]
            ],
            "type": "histogram2dcontour"
           }
          ],
          "mesh3d": [
           {
            "colorbar": {
             "outlinewidth": 0,
             "ticks": ""
            },
            "type": "mesh3d"
           }
          ],
          "parcoords": [
           {
            "line": {
             "colorbar": {
              "outlinewidth": 0,
              "ticks": ""
             }
            },
            "type": "parcoords"
           }
          ],
          "pie": [
           {
            "automargin": true,
            "type": "pie"
           }
          ],
          "scatter": [
           {
            "marker": {
             "colorbar": {
              "outlinewidth": 0,
              "ticks": ""
             }
            },
            "type": "scatter"
           }
          ],
          "scatter3d": [
           {
            "line": {
             "colorbar": {
              "outlinewidth": 0,
              "ticks": ""
             }
            },
            "marker": {
             "colorbar": {
              "outlinewidth": 0,
              "ticks": ""
             }
            },
            "type": "scatter3d"
           }
          ],
          "scattercarpet": [
           {
            "marker": {
             "colorbar": {
              "outlinewidth": 0,
              "ticks": ""
             }
            },
            "type": "scattercarpet"
           }
          ],
          "scattergeo": [
           {
            "marker": {
             "colorbar": {
              "outlinewidth": 0,
              "ticks": ""
             }
            },
            "type": "scattergeo"
           }
          ],
          "scattergl": [
           {
            "marker": {
             "colorbar": {
              "outlinewidth": 0,
              "ticks": ""
             }
            },
            "type": "scattergl"
           }
          ],
          "scattermapbox": [
           {
            "marker": {
             "colorbar": {
              "outlinewidth": 0,
              "ticks": ""
             }
            },
            "type": "scattermapbox"
           }
          ],
          "scatterpolar": [
           {
            "marker": {
             "colorbar": {
              "outlinewidth": 0,
              "ticks": ""
             }
            },
            "type": "scatterpolar"
           }
          ],
          "scatterpolargl": [
           {
            "marker": {
             "colorbar": {
              "outlinewidth": 0,
              "ticks": ""
             }
            },
            "type": "scatterpolargl"
           }
          ],
          "scatterternary": [
           {
            "marker": {
             "colorbar": {
              "outlinewidth": 0,
              "ticks": ""
             }
            },
            "type": "scatterternary"
           }
          ],
          "surface": [
           {
            "colorbar": {
             "outlinewidth": 0,
             "ticks": ""
            },
            "colorscale": [
             [
              0,
              "#0d0887"
             ],
             [
              0.1111111111111111,
              "#46039f"
             ],
             [
              0.2222222222222222,
              "#7201a8"
             ],
             [
              0.3333333333333333,
              "#9c179e"
             ],
             [
              0.4444444444444444,
              "#bd3786"
             ],
             [
              0.5555555555555556,
              "#d8576b"
             ],
             [
              0.6666666666666666,
              "#ed7953"
             ],
             [
              0.7777777777777778,
              "#fb9f3a"
             ],
             [
              0.8888888888888888,
              "#fdca26"
             ],
             [
              1,
              "#f0f921"
             ]
            ],
            "type": "surface"
           }
          ],
          "table": [
           {
            "cells": {
             "fill": {
              "color": "#EBF0F8"
             },
             "line": {
              "color": "white"
             }
            },
            "header": {
             "fill": {
              "color": "#C8D4E3"
             },
             "line": {
              "color": "white"
             }
            },
            "type": "table"
           }
          ]
         },
         "layout": {
          "annotationdefaults": {
           "arrowcolor": "#2a3f5f",
           "arrowhead": 0,
           "arrowwidth": 1
          },
          "coloraxis": {
           "colorbar": {
            "outlinewidth": 0,
            "ticks": ""
           }
          },
          "colorscale": {
           "diverging": [
            [
             0,
             "#8e0152"
            ],
            [
             0.1,
             "#c51b7d"
            ],
            [
             0.2,
             "#de77ae"
            ],
            [
             0.3,
             "#f1b6da"
            ],
            [
             0.4,
             "#fde0ef"
            ],
            [
             0.5,
             "#f7f7f7"
            ],
            [
             0.6,
             "#e6f5d0"
            ],
            [
             0.7,
             "#b8e186"
            ],
            [
             0.8,
             "#7fbc41"
            ],
            [
             0.9,
             "#4d9221"
            ],
            [
             1,
             "#276419"
            ]
           ],
           "sequential": [
            [
             0,
             "#0d0887"
            ],
            [
             0.1111111111111111,
             "#46039f"
            ],
            [
             0.2222222222222222,
             "#7201a8"
            ],
            [
             0.3333333333333333,
             "#9c179e"
            ],
            [
             0.4444444444444444,
             "#bd3786"
            ],
            [
             0.5555555555555556,
             "#d8576b"
            ],
            [
             0.6666666666666666,
             "#ed7953"
            ],
            [
             0.7777777777777778,
             "#fb9f3a"
            ],
            [
             0.8888888888888888,
             "#fdca26"
            ],
            [
             1,
             "#f0f921"
            ]
           ],
           "sequentialminus": [
            [
             0,
             "#0d0887"
            ],
            [
             0.1111111111111111,
             "#46039f"
            ],
            [
             0.2222222222222222,
             "#7201a8"
            ],
            [
             0.3333333333333333,
             "#9c179e"
            ],
            [
             0.4444444444444444,
             "#bd3786"
            ],
            [
             0.5555555555555556,
             "#d8576b"
            ],
            [
             0.6666666666666666,
             "#ed7953"
            ],
            [
             0.7777777777777778,
             "#fb9f3a"
            ],
            [
             0.8888888888888888,
             "#fdca26"
            ],
            [
             1,
             "#f0f921"
            ]
           ]
          },
          "colorway": [
           "#636efa",
           "#EF553B",
           "#00cc96",
           "#ab63fa",
           "#FFA15A",
           "#19d3f3",
           "#FF6692",
           "#B6E880",
           "#FF97FF",
           "#FECB52"
          ],
          "font": {
           "color": "#2a3f5f"
          },
          "geo": {
           "bgcolor": "white",
           "lakecolor": "white",
           "landcolor": "#E5ECF6",
           "showlakes": true,
           "showland": true,
           "subunitcolor": "white"
          },
          "hoverlabel": {
           "align": "left"
          },
          "hovermode": "closest",
          "mapbox": {
           "style": "light"
          },
          "paper_bgcolor": "white",
          "plot_bgcolor": "#E5ECF6",
          "polar": {
           "angularaxis": {
            "gridcolor": "white",
            "linecolor": "white",
            "ticks": ""
           },
           "bgcolor": "#E5ECF6",
           "radialaxis": {
            "gridcolor": "white",
            "linecolor": "white",
            "ticks": ""
           }
          },
          "scene": {
           "xaxis": {
            "backgroundcolor": "#E5ECF6",
            "gridcolor": "white",
            "gridwidth": 2,
            "linecolor": "white",
            "showbackground": true,
            "ticks": "",
            "zerolinecolor": "white"
           },
           "yaxis": {
            "backgroundcolor": "#E5ECF6",
            "gridcolor": "white",
            "gridwidth": 2,
            "linecolor": "white",
            "showbackground": true,
            "ticks": "",
            "zerolinecolor": "white"
           },
           "zaxis": {
            "backgroundcolor": "#E5ECF6",
            "gridcolor": "white",
            "gridwidth": 2,
            "linecolor": "white",
            "showbackground": true,
            "ticks": "",
            "zerolinecolor": "white"
           }
          },
          "shapedefaults": {
           "line": {
            "color": "#2a3f5f"
           }
          },
          "ternary": {
           "aaxis": {
            "gridcolor": "white",
            "linecolor": "white",
            "ticks": ""
           },
           "baxis": {
            "gridcolor": "white",
            "linecolor": "white",
            "ticks": ""
           },
           "bgcolor": "#E5ECF6",
           "caxis": {
            "gridcolor": "white",
            "linecolor": "white",
            "ticks": ""
           }
          },
          "title": {
           "x": 0.05
          },
          "xaxis": {
           "automargin": true,
           "gridcolor": "white",
           "linecolor": "white",
           "ticks": "",
           "title": {
            "standoff": 15
           },
           "zerolinecolor": "white",
           "zerolinewidth": 2
          },
          "yaxis": {
           "automargin": true,
           "gridcolor": "white",
           "linecolor": "white",
           "ticks": "",
           "title": {
            "standoff": 15
           },
           "zerolinecolor": "white",
           "zerolinewidth": 2
          }
         }
        },
        "title": {
         "text": "Frequency of call for each day"
        },
        "xaxis": {
         "showgrid": false,
         "showline": false,
         "title": {
          "text": "day"
         },
         "zeroline": false
        },
        "yaxis": {
         "showgrid": false,
         "showline": false,
         "title": {
          "text": "count"
         },
         "zeroline": false
        }
       }
      },
      "text/html": [
       "<div>                            <div id=\"2610a557-f425-4e92-a971-62dc66f93701\" class=\"plotly-graph-div\" style=\"height:525px; width:100%;\"></div>            <script type=\"text/javascript\">                require([\"plotly\"], function(Plotly) {                    window.PLOTLYENV=window.PLOTLYENV || {};                                    if (document.getElementById(\"2610a557-f425-4e92-a971-62dc66f93701\")) {                    Plotly.newPlot(                        \"2610a557-f425-4e92-a971-62dc66f93701\",                        [{\"marker\": {\"color\": \"rgba(152,0,0,0.5)\", \"size\": 10}, \"mode\": \"markers\", \"name\": \"Frequency of call for each day)\", \"type\": \"scatter\", \"x\": [1, 2, 3, 4, 5, 6, 7, 8, 9, 10, 11, 12, 13, 14, 15, 16, 17, 18, 19, 20, 21, 22, 23, 24, 25, 26, 27, 28, 29, 30, 31, 32, 33, 34, 35, 36, 37, 38, 39, 40, 41, 42, 43, 44, 45, 46, 47, 48, 49, 50, 51, 52, 53, 54, 55, 56, 57, 58, 59, 60, 61, 62, 63, 64, 65, 66, 67, 68, 69, 70, 71, 72, 73, 74, 75, 76, 77, 78, 79, 80, 81, 82, 83, 84, 85, 86, 87, 88, 89, 90, 91, 92, 93, 94, 95, 96, 97, 98, 99, 100, 101, 102, 103, 104, 105, 106, 107, 108, 109, 110, 111, 112, 113, 114, 115, 116, 117, 118, 119, 120, 121, 122, 123, 124, 125, 126, 127, 128, 129, 130, 131, 132, 133, 134, 135, 136, 137, 138, 139, 140, 141, 142, 143, 144, 145, 146, 147, 148, 149, 150, 151, 152, 153, 154, 155, 156, 157, 158, 159, 160, 161, 162, 163, 164, 165, 166, 167, 168, 169, 170, 171, 172, 173, 174, 175, 176, 177, 178, 179, 180, 181, 182, 183, 184, 185, 186, 187, 188, 189, 190, 191, 192, 193, 194, 195, 196, 197, 198, 199, 200, 201, 202, 203, 204, 205, 206, 207, 208, 209, 210, 211, 212, 213, 214, 215, 216, 217, 218, 219, 220, 221, 222, 223, 224, 225, 226, 227, 228, 229, 230, 231, 232, 233, 234, 235, 236, 237, 238, 239, 240, 241, 242, 243, 244, 245, 246, 247, 248, 249, 250, 251, 252, 253, 254, 255, 256, 257, 258, 259, 260, 261, 262, 263, 264, 265, 266, 267, 268, 269, 270, 271, 272, 273, 274, 275, 276, 277, 278, 279, 280, 281, 282, 283, 284, 285, 286, 287, 288, 289, 290, 291, 292, 293, 294, 295, 296, 297, 298, 299, 300, 301, 302, 303, 304, 305, 306, 307, 308, 309, 310, 311, 312, 313, 314, 315, 316, 317, 318, 319, 320, 321, 322, 323, 324, 325, 326, 327, 328, 329, 330, 332, 333, 334, 335, 336, 337, 338, 339, 340, 341, 342, 343, 344, 345, 346, 347, 348, 349, 350, 351, 352, 353, 354, 355, 356, 357, 358, 360, 361, 362, 363, 364, 365], \"y\": [639, 2920, 2632, 718, 553, 2816, 3054, 3149, 2883, 2693, 800, 567, 3606, 3209, 3003, 2782, 2810, 790, 521, 1908, 3455, 3292, 2901, 2663, 744, 558, 3348, 3156, 3145, 3064, 2762, 808, 464, 3169, 2930, 3121, 2811, 2655, 775, 488, 3496, 3030, 3065, 2924, 2589, 845, 602, 1684, 3575, 3229, 3108, 2784, 743, 475, 3510, 3252, 2991, 2863, 3083, 797, 766, 3495, 3082, 3064, 2795, 2697, 758, 600, 3512, 3254, 3206, 2894, 2675, 795, 778, 3590, 3332, 3174, 3050, 2788, 787, 578, 3587, 3423, 3236, 3322, 3032, 724, 572, 2764, 3807, 3381, 3052, 3006, 681, 645, 3680, 3401, 3212, 3220, 3076, 776, 490, 3483, 3028, 3250, 3208, 2652, 697, 122, 3647, 3324, 3254, 3221, 2913, 760, 585, 3547, 3456, 3441, 3195, 3059, 860, 597, 3666, 3270, 3342, 3241, 3001, 719, 544, 3591, 3532, 3347, 3111, 2923, 701, 554, 5108, 3700, 3601, 3196, 2924, 723, 620, 778, 3992, 3846, 3409, 3068, 789, 539, 3791, 3469, 3181, 3060, 2902, 844, 550, 3727, 3566, 3326, 2935, 2793, 822, 497, 3641, 3264, 3312, 3221, 3186, 831, 513, 3905, 3369, 3400, 3385, 3363, 788, 532, 3972, 3443, 3302, 3115, 744, 764, 577, 3951, 3351, 3338, 3320, 3312, 807, 502, 3806, 3524, 3478, 3473, 3144, 856, 594, 3952, 3652, 3520, 3206, 3193, 812, 579, 4224, 3532, 3400, 3224, 3054, 686, 569, 3931, 3246, 3216, 3515, 2974, 735, 473, 3742, 3696, 3757, 3441, 3211, 718, 513, 3876, 3856, 3548, 3395, 2976, 625, 493, 4048, 3408, 3599, 3766, 3297, 641, 584, 850, 4204, 3636, 3603, 3249, 766, 444, 3634, 3485, 3474, 3255, 2949, 651, 502, 3819, 3454, 3286, 3131, 3111, 681, 457, 3850, 3068, 3318, 3099, 2930, 636, 556, 3988, 3535, 3451, 3594, 3315, 626, 504, 3927, 3495, 3422, 3125, 2798, 704, 591, 3122, 3981, 3553, 3056, 2911, 753, 533, 3581, 3419, 3351, 3305, 3067, 866, 613, 3631, 3644, 3263, 3247, 2763, 867, 616, 3846, 3210, 3291, 3155, 3203, 726, 536, 3948, 2187, 4008, 3349, 3095, 752, 583, 3649, 3644, 3302, 3205, 3095, 692, 622, 3772, 3129, 2688, 1333, 708, 552, 3707, 3046, 3117, 3136, 2908, 835, 571, 3517, 3187, 3267, 3460, 3322, 772, 441, 3768, 3205, 3357, 2984, 3004, 777, 512, 3671, 3159, 1876, 2351, 666, 500, 3420, 3035, 2189]}],                        {\"template\": {\"data\": {\"bar\": [{\"error_x\": {\"color\": \"#2a3f5f\"}, \"error_y\": {\"color\": \"#2a3f5f\"}, \"marker\": {\"line\": {\"color\": \"#E5ECF6\", \"width\": 0.5}}, \"type\": \"bar\"}], \"barpolar\": [{\"marker\": {\"line\": {\"color\": \"#E5ECF6\", \"width\": 0.5}}, \"type\": \"barpolar\"}], \"carpet\": [{\"aaxis\": {\"endlinecolor\": \"#2a3f5f\", \"gridcolor\": \"white\", \"linecolor\": \"white\", \"minorgridcolor\": \"white\", \"startlinecolor\": \"#2a3f5f\"}, \"baxis\": {\"endlinecolor\": \"#2a3f5f\", \"gridcolor\": \"white\", \"linecolor\": \"white\", \"minorgridcolor\": \"white\", \"startlinecolor\": \"#2a3f5f\"}, \"type\": \"carpet\"}], \"choropleth\": [{\"colorbar\": {\"outlinewidth\": 0, \"ticks\": \"\"}, \"type\": \"choropleth\"}], \"contour\": [{\"colorbar\": {\"outlinewidth\": 0, \"ticks\": \"\"}, \"colorscale\": [[0.0, \"#0d0887\"], [0.1111111111111111, \"#46039f\"], [0.2222222222222222, \"#7201a8\"], [0.3333333333333333, \"#9c179e\"], [0.4444444444444444, \"#bd3786\"], [0.5555555555555556, \"#d8576b\"], [0.6666666666666666, \"#ed7953\"], [0.7777777777777778, \"#fb9f3a\"], [0.8888888888888888, \"#fdca26\"], [1.0, \"#f0f921\"]], \"type\": \"contour\"}], \"contourcarpet\": [{\"colorbar\": {\"outlinewidth\": 0, \"ticks\": \"\"}, \"type\": \"contourcarpet\"}], \"heatmap\": [{\"colorbar\": {\"outlinewidth\": 0, \"ticks\": \"\"}, \"colorscale\": [[0.0, \"#0d0887\"], [0.1111111111111111, \"#46039f\"], [0.2222222222222222, \"#7201a8\"], [0.3333333333333333, \"#9c179e\"], [0.4444444444444444, \"#bd3786\"], [0.5555555555555556, \"#d8576b\"], [0.6666666666666666, \"#ed7953\"], [0.7777777777777778, \"#fb9f3a\"], [0.8888888888888888, \"#fdca26\"], [1.0, \"#f0f921\"]], \"type\": \"heatmap\"}], \"heatmapgl\": [{\"colorbar\": {\"outlinewidth\": 0, \"ticks\": \"\"}, \"colorscale\": [[0.0, \"#0d0887\"], [0.1111111111111111, \"#46039f\"], [0.2222222222222222, \"#7201a8\"], [0.3333333333333333, \"#9c179e\"], [0.4444444444444444, \"#bd3786\"], [0.5555555555555556, \"#d8576b\"], [0.6666666666666666, \"#ed7953\"], [0.7777777777777778, \"#fb9f3a\"], [0.8888888888888888, \"#fdca26\"], [1.0, \"#f0f921\"]], \"type\": \"heatmapgl\"}], \"histogram\": [{\"marker\": {\"colorbar\": {\"outlinewidth\": 0, \"ticks\": \"\"}}, \"type\": \"histogram\"}], \"histogram2d\": [{\"colorbar\": {\"outlinewidth\": 0, \"ticks\": \"\"}, \"colorscale\": [[0.0, \"#0d0887\"], [0.1111111111111111, \"#46039f\"], [0.2222222222222222, \"#7201a8\"], [0.3333333333333333, \"#9c179e\"], [0.4444444444444444, \"#bd3786\"], [0.5555555555555556, \"#d8576b\"], [0.6666666666666666, \"#ed7953\"], [0.7777777777777778, \"#fb9f3a\"], [0.8888888888888888, \"#fdca26\"], [1.0, \"#f0f921\"]], \"type\": \"histogram2d\"}], \"histogram2dcontour\": [{\"colorbar\": {\"outlinewidth\": 0, \"ticks\": \"\"}, \"colorscale\": [[0.0, \"#0d0887\"], [0.1111111111111111, \"#46039f\"], [0.2222222222222222, \"#7201a8\"], [0.3333333333333333, \"#9c179e\"], [0.4444444444444444, \"#bd3786\"], [0.5555555555555556, \"#d8576b\"], [0.6666666666666666, \"#ed7953\"], [0.7777777777777778, \"#fb9f3a\"], [0.8888888888888888, \"#fdca26\"], [1.0, \"#f0f921\"]], \"type\": \"histogram2dcontour\"}], \"mesh3d\": [{\"colorbar\": {\"outlinewidth\": 0, \"ticks\": \"\"}, \"type\": \"mesh3d\"}], \"parcoords\": [{\"line\": {\"colorbar\": {\"outlinewidth\": 0, \"ticks\": \"\"}}, \"type\": \"parcoords\"}], \"pie\": [{\"automargin\": true, \"type\": \"pie\"}], \"scatter\": [{\"marker\": {\"colorbar\": {\"outlinewidth\": 0, \"ticks\": \"\"}}, \"type\": \"scatter\"}], \"scatter3d\": [{\"line\": {\"colorbar\": {\"outlinewidth\": 0, \"ticks\": \"\"}}, \"marker\": {\"colorbar\": {\"outlinewidth\": 0, \"ticks\": \"\"}}, \"type\": \"scatter3d\"}], \"scattercarpet\": [{\"marker\": {\"colorbar\": {\"outlinewidth\": 0, \"ticks\": \"\"}}, \"type\": \"scattercarpet\"}], \"scattergeo\": [{\"marker\": {\"colorbar\": {\"outlinewidth\": 0, \"ticks\": \"\"}}, \"type\": \"scattergeo\"}], \"scattergl\": [{\"marker\": {\"colorbar\": {\"outlinewidth\": 0, \"ticks\": \"\"}}, \"type\": \"scattergl\"}], \"scattermapbox\": [{\"marker\": {\"colorbar\": {\"outlinewidth\": 0, \"ticks\": \"\"}}, \"type\": \"scattermapbox\"}], \"scatterpolar\": [{\"marker\": {\"colorbar\": {\"outlinewidth\": 0, \"ticks\": \"\"}}, \"type\": \"scatterpolar\"}], \"scatterpolargl\": [{\"marker\": {\"colorbar\": {\"outlinewidth\": 0, \"ticks\": \"\"}}, \"type\": \"scatterpolargl\"}], \"scatterternary\": [{\"marker\": {\"colorbar\": {\"outlinewidth\": 0, \"ticks\": \"\"}}, \"type\": \"scatterternary\"}], \"surface\": [{\"colorbar\": {\"outlinewidth\": 0, \"ticks\": \"\"}, \"colorscale\": [[0.0, \"#0d0887\"], [0.1111111111111111, \"#46039f\"], [0.2222222222222222, \"#7201a8\"], [0.3333333333333333, \"#9c179e\"], [0.4444444444444444, \"#bd3786\"], [0.5555555555555556, \"#d8576b\"], [0.6666666666666666, \"#ed7953\"], [0.7777777777777778, \"#fb9f3a\"], [0.8888888888888888, \"#fdca26\"], [1.0, \"#f0f921\"]], \"type\": \"surface\"}], \"table\": [{\"cells\": {\"fill\": {\"color\": \"#EBF0F8\"}, \"line\": {\"color\": \"white\"}}, \"header\": {\"fill\": {\"color\": \"#C8D4E3\"}, \"line\": {\"color\": \"white\"}}, \"type\": \"table\"}]}, \"layout\": {\"annotationdefaults\": {\"arrowcolor\": \"#2a3f5f\", \"arrowhead\": 0, \"arrowwidth\": 1}, \"coloraxis\": {\"colorbar\": {\"outlinewidth\": 0, \"ticks\": \"\"}}, \"colorscale\": {\"diverging\": [[0, \"#8e0152\"], [0.1, \"#c51b7d\"], [0.2, \"#de77ae\"], [0.3, \"#f1b6da\"], [0.4, \"#fde0ef\"], [0.5, \"#f7f7f7\"], [0.6, \"#e6f5d0\"], [0.7, \"#b8e186\"], [0.8, \"#7fbc41\"], [0.9, \"#4d9221\"], [1, \"#276419\"]], \"sequential\": [[0.0, \"#0d0887\"], [0.1111111111111111, \"#46039f\"], [0.2222222222222222, \"#7201a8\"], [0.3333333333333333, \"#9c179e\"], [0.4444444444444444, \"#bd3786\"], [0.5555555555555556, \"#d8576b\"], [0.6666666666666666, \"#ed7953\"], [0.7777777777777778, \"#fb9f3a\"], [0.8888888888888888, \"#fdca26\"], [1.0, \"#f0f921\"]], \"sequentialminus\": [[0.0, \"#0d0887\"], [0.1111111111111111, \"#46039f\"], [0.2222222222222222, \"#7201a8\"], [0.3333333333333333, \"#9c179e\"], [0.4444444444444444, \"#bd3786\"], [0.5555555555555556, \"#d8576b\"], [0.6666666666666666, \"#ed7953\"], [0.7777777777777778, \"#fb9f3a\"], [0.8888888888888888, \"#fdca26\"], [1.0, \"#f0f921\"]]}, \"colorway\": [\"#636efa\", \"#EF553B\", \"#00cc96\", \"#ab63fa\", \"#FFA15A\", \"#19d3f3\", \"#FF6692\", \"#B6E880\", \"#FF97FF\", \"#FECB52\"], \"font\": {\"color\": \"#2a3f5f\"}, \"geo\": {\"bgcolor\": \"white\", \"lakecolor\": \"white\", \"landcolor\": \"#E5ECF6\", \"showlakes\": true, \"showland\": true, \"subunitcolor\": \"white\"}, \"hoverlabel\": {\"align\": \"left\"}, \"hovermode\": \"closest\", \"mapbox\": {\"style\": \"light\"}, \"paper_bgcolor\": \"white\", \"plot_bgcolor\": \"#E5ECF6\", \"polar\": {\"angularaxis\": {\"gridcolor\": \"white\", \"linecolor\": \"white\", \"ticks\": \"\"}, \"bgcolor\": \"#E5ECF6\", \"radialaxis\": {\"gridcolor\": \"white\", \"linecolor\": \"white\", \"ticks\": \"\"}}, \"scene\": {\"xaxis\": {\"backgroundcolor\": \"#E5ECF6\", \"gridcolor\": \"white\", \"gridwidth\": 2, \"linecolor\": \"white\", \"showbackground\": true, \"ticks\": \"\", \"zerolinecolor\": \"white\"}, \"yaxis\": {\"backgroundcolor\": \"#E5ECF6\", \"gridcolor\": \"white\", \"gridwidth\": 2, \"linecolor\": \"white\", \"showbackground\": true, \"ticks\": \"\", \"zerolinecolor\": \"white\"}, \"zaxis\": {\"backgroundcolor\": \"#E5ECF6\", \"gridcolor\": \"white\", \"gridwidth\": 2, \"linecolor\": \"white\", \"showbackground\": true, \"ticks\": \"\", \"zerolinecolor\": \"white\"}}, \"shapedefaults\": {\"line\": {\"color\": \"#2a3f5f\"}}, \"ternary\": {\"aaxis\": {\"gridcolor\": \"white\", \"linecolor\": \"white\", \"ticks\": \"\"}, \"baxis\": {\"gridcolor\": \"white\", \"linecolor\": \"white\", \"ticks\": \"\"}, \"bgcolor\": \"#E5ECF6\", \"caxis\": {\"gridcolor\": \"white\", \"linecolor\": \"white\", \"ticks\": \"\"}}, \"title\": {\"x\": 0.05}, \"xaxis\": {\"automargin\": true, \"gridcolor\": \"white\", \"linecolor\": \"white\", \"ticks\": \"\", \"title\": {\"standoff\": 15}, \"zerolinecolor\": \"white\", \"zerolinewidth\": 2}, \"yaxis\": {\"automargin\": true, \"gridcolor\": \"white\", \"linecolor\": \"white\", \"ticks\": \"\", \"title\": {\"standoff\": 15}, \"zerolinecolor\": \"white\", \"zerolinewidth\": 2}}}, \"title\": {\"text\": \"Frequency of call for each day\"}, \"xaxis\": {\"showgrid\": false, \"showline\": false, \"title\": {\"text\": \"day\"}, \"zeroline\": false}, \"yaxis\": {\"showgrid\": false, \"showline\": false, \"title\": {\"text\": \"count\"}, \"zeroline\": false}},                        {\"responsive\": true}                    ).then(function(){\n",
       "                            \n",
       "var gd = document.getElementById('2610a557-f425-4e92-a971-62dc66f93701');\n",
       "var x = new MutationObserver(function (mutations, observer) {{\n",
       "        var display = window.getComputedStyle(gd).display;\n",
       "        if (!display || display === 'none') {{\n",
       "            console.log([gd, 'removed!']);\n",
       "            Plotly.purge(gd);\n",
       "            observer.disconnect();\n",
       "        }}\n",
       "}});\n",
       "\n",
       "// Listen for the removal of the full notebook cells\n",
       "var notebookContainer = gd.closest('#notebook-container');\n",
       "if (notebookContainer) {{\n",
       "    x.observe(notebookContainer, {childList: true});\n",
       "}}\n",
       "\n",
       "// Listen for the clearing of the current output cell\n",
       "var outputEl = gd.closest('.output');\n",
       "if (outputEl) {{\n",
       "    x.observe(outputEl, {childList: true});\n",
       "}}\n",
       "\n",
       "                        })                };                });            </script>        </div>"
      ]
     },
     "metadata": {},
     "output_type": "display_data"
    }
   ],
   "source": [
    "# plot new data: number of calls for each day iin 2014 year\n",
    "trace_1 = go.Scatter(x = df_count_2014.days,y=df_count_2014[\"count\"],mode = 'markers',name = \"Frequency of call for each day)\",\n",
    "                     marker = dict(size = 10,color=\"rgba(152,0,0,0.5)\")\n",
    "                    )\n",
    "layout  = dict(title = \"Frequency of call for each day\",\n",
    "               xaxis = dict(title = \"day\",showgrid=False,showline=False,zeroline=False),\n",
    "               yaxis = dict(title = \"count\",showgrid=False,showline=False,zeroline=False)\n",
    "              )\n",
    "\n",
    "data = [trace_1]\n",
    "figure = dict(data=data,layout=layout)\n",
    "iplot(figure)"
   ]
  },
  {
   "cell_type": "markdown",
   "metadata": {},
   "source": [
    "Our goal is to predict the frequency of calls by using days.                                                            \n",
    "At first, I used standard methods to predict frequency, then create a new approach which is a mixture of some methods, and finally find the most optimal solution with the highest accuracy from the used approaches. "
   ]
  },
  {
   "cell_type": "markdown",
   "metadata": {},
   "source": [
    "Let's start with the best approach."
   ]
  },
  {
   "cell_type": "markdown",
   "metadata": {},
   "source": [
    "## ARIMA model"
   ]
  },
  {
   "cell_type": "code",
   "execution_count": 13,
   "metadata": {},
   "outputs": [],
   "source": [
    "# the data that will be used, where Date is index\n",
    "data=pd.DataFrame({\"count\":list(df_count_2014[\"count\"])},index=df_count_2014.Date)"
   ]
  },
  {
   "cell_type": "code",
   "execution_count": 27,
   "metadata": {},
   "outputs": [
    {
     "data": {
      "text/html": [
       "<div>\n",
       "<style scoped>\n",
       "    .dataframe tbody tr th:only-of-type {\n",
       "        vertical-align: middle;\n",
       "    }\n",
       "\n",
       "    .dataframe tbody tr th {\n",
       "        vertical-align: top;\n",
       "    }\n",
       "\n",
       "    .dataframe thead th {\n",
       "        text-align: right;\n",
       "    }\n",
       "</style>\n",
       "<table border=\"1\" class=\"dataframe\">\n",
       "  <thead>\n",
       "    <tr style=\"text-align: right;\">\n",
       "      <th></th>\n",
       "      <th>count</th>\n",
       "    </tr>\n",
       "    <tr>\n",
       "      <th>Date</th>\n",
       "      <th></th>\n",
       "    </tr>\n",
       "  </thead>\n",
       "  <tbody>\n",
       "    <tr>\n",
       "      <th>2014-01-01</th>\n",
       "      <td>639</td>\n",
       "    </tr>\n",
       "    <tr>\n",
       "      <th>2014-01-02</th>\n",
       "      <td>2920</td>\n",
       "    </tr>\n",
       "  </tbody>\n",
       "</table>\n",
       "</div>"
      ],
      "text/plain": [
       "            count\n",
       "Date             \n",
       "2014-01-01    639\n",
       "2014-01-02   2920"
      ]
     },
     "execution_count": 27,
     "metadata": {},
     "output_type": "execute_result"
    }
   ],
   "source": [
    "data.head(2)"
   ]
  },
  {
   "cell_type": "markdown",
   "metadata": {},
   "source": [
    "As we have time series we have to check the stationarity of data."
   ]
  },
  {
   "cell_type": "code",
   "execution_count": 36,
   "metadata": {},
   "outputs": [
    {
     "data": {
      "image/png": "[encoded data removed]",
      "text/plain": [
       "<Figure size 432x288 with 1 Axes>"
      ]
     },
     "metadata": {
      "needs_background": "light"
     },
     "output_type": "display_data"
    }
   ],
   "source": [
    "# check the stationarity by rolling mean and standart deviation\n",
    "rolling_mean = data.rolling(window = 14).mean()\n",
    "rolling_std = data.rolling(window = 14).std()\n",
    "plt.plot(data, color = 'blue', label = 'Original data')\n",
    "plt.plot(rolling_mean, color = 'red', label = 'Rolling Mean of count')\n",
    "plt.plot(rolling_std, color = 'black', label = 'Rolling Std of count')\n",
    "plt.legend(loc = 'best')\n",
    "plt.title('Rolling Mean & Rolling Standard Deviation')\n",
    "plt.show()"
   ]
  },
  {
   "cell_type": "markdown",
   "metadata": {},
   "source": [
    "I this case window size is 2 weeks by changing it you can get a very different result, I mean the lines show more variability.  \n",
    "The rolling mean and standard deviation are not constant but also look stationary I guess that this series is stationary, let's check it more accurately by Dickey Fuller test."
   ]
  },
  {
   "cell_type": "code",
   "execution_count": 432,
   "metadata": {},
   "outputs": [
    {
     "name": "stdout",
     "output_type": "stream",
     "text": [
      "ADF Statistic: -3.261364571098553\n",
      "p-value: 0.016696318434084756\n",
      "Critical Values:\n",
      "\t1%: -3.449226932880019\n",
      "\t5%: -2.869857365438656\n",
      "\t10%: -2.571201085130664\n"
     ]
    }
   ],
   "source": [
    "# Dickey Fuller test.\n",
    "result = adfuller(data['count'])\n",
    "print('ADF Statistic: {}'.format(result[0]))\n",
    "print('p-value: {}'.format(result[1]))\n",
    "print('Critical Values:')\n",
    "for key, value in result[4].items():\n",
    "    print('\\t{}: {}'.format(key, value))"
   ]
  },
  {
   "cell_type": "markdown",
   "metadata": {},
   "source": [
    "As the p-value is lower than 0.05 we can say that the time series is stationary with 95 % confidence."
   ]
  },
  {
   "cell_type": "markdown",
   "metadata": {},
   "source": [
    "Now we can use the ARIMA model to predict the number of calls."
   ]
  },
  {
   "cell_type": "code",
   "execution_count": 44,
   "metadata": {},
   "outputs": [
    {
     "data": {
      "image/png": "[encoded data removed]",
      "text/plain": [
       "<Figure size 432x288 with 1 Axes>"
      ]
     },
     "metadata": {
      "needs_background": "light"
     },
     "output_type": "display_data"
    }
   ],
   "source": [
    "# Autocorrelation\n",
    "plot_acf(data)\n",
    "pyplot.show()\n",
    "# from this plot, I get nothing I guess there is no MA lag or it is low"
   ]
  },
  {
   "cell_type": "code",
   "execution_count": 45,
   "metadata": {},
   "outputs": [
    {
     "data": {
      "image/png": "[encoded data removed]",
      "text/plain": [
       "<Figure size 432x288 with 1 Axes>"
      ]
     },
     "metadata": {
      "needs_background": "light"
     },
     "output_type": "display_data"
    }
   ],
   "source": [
    "# partial autocorrelation\n",
    "plot_pacf(data, lags=50)\n",
    "pyplot.show()\n",
    "# AR lag is high"
   ]
  },
  {
   "cell_type": "code",
   "execution_count": 15,
   "metadata": {},
   "outputs": [],
   "source": [
    "# split data to train and test\n",
    "train_data,test_data = train_test_split(data,test_size = 0.2,random_state=42,shuffle=False)"
   ]
  },
  {
   "cell_type": "code",
   "execution_count": 17,
   "metadata": {},
   "outputs": [
    {
     "name": "stdout",
     "output_type": "stream",
     "text": [
      "predicted=850.036504, expected=753.000000\n",
      "predicted=737.089253, expected=533.000000\n",
      "predicted=3028.949456, expected=3581.000000\n",
      "predicted=3995.183845, expected=3419.000000\n",
      "predicted=3436.230279, expected=3351.000000\n"
     ]
    },
    {
     "name": "stderr",
     "output_type": "stream",
     "text": [
      "/Users/mariam/opt/anaconda3/lib/python3.8/site-packages/statsmodels/base/model.py:567: ConvergenceWarning:\n",
      "\n",
      "Maximum Likelihood optimization failed to converge. Check mle_retvals\n",
      "\n"
     ]
    },
    {
     "name": "stdout",
     "output_type": "stream",
     "text": [
      "predicted=3207.591406, expected=3305.000000\n",
      "predicted=2810.817623, expected=3067.000000\n",
      "predicted=819.481129, expected=866.000000\n",
      "predicted=781.408932, expected=613.000000\n",
      "predicted=3333.411274, expected=3631.000000\n",
      "predicted=3555.680893, expected=3644.000000\n",
      "predicted=3217.759827, expected=3263.000000\n",
      "predicted=3362.636245, expected=3247.000000\n",
      "predicted=2998.255908, expected=2763.000000\n",
      "predicted=962.111610, expected=867.000000\n",
      "predicted=884.601560, expected=616.000000\n",
      "predicted=3422.030779, expected=3846.000000\n",
      "predicted=3731.988556, expected=3210.000000\n",
      "predicted=3182.198221, expected=3291.000000\n",
      "predicted=3313.225038, expected=3155.000000\n",
      "predicted=2731.589998, expected=3203.000000\n",
      "predicted=885.416443, expected=726.000000\n",
      "predicted=891.844619, expected=536.000000\n",
      "predicted=3567.093875, expected=3948.000000\n",
      "predicted=3422.356748, expected=2187.000000\n",
      "predicted=3132.061548, expected=4008.000000\n",
      "predicted=3339.528314, expected=3349.000000\n",
      "predicted=2986.775676, expected=3095.000000\n",
      "predicted=792.592691, expected=752.000000\n",
      "predicted=908.917430, expected=583.000000\n",
      "predicted=3495.629459, expected=3649.000000\n",
      "predicted=2624.374500, expected=3644.000000\n",
      "predicted=3582.488878, expected=3302.000000\n",
      "predicted=3473.435797, expected=3205.000000\n",
      "predicted=3032.042284, expected=3095.000000\n",
      "predicted=865.010618, expected=692.000000\n",
      "predicted=812.606033, expected=622.000000\n",
      "predicted=3463.643108, expected=3772.000000\n",
      "predicted=3728.952186, expected=3129.000000\n",
      "predicted=3218.614536, expected=2688.000000\n",
      "predicted=3364.245597, expected=1333.000000\n",
      "predicted=3082.619751, expected=708.000000\n",
      "predicted=865.129499, expected=552.000000\n",
      "predicted=983.358107, expected=3707.000000\n",
      "predicted=3469.936775, expected=3046.000000\n",
      "predicted=3023.319083, expected=3117.000000\n",
      "predicted=2605.395159, expected=3136.000000\n",
      "predicted=1457.133997, expected=2908.000000\n",
      "predicted=570.101484, expected=835.000000\n",
      "predicted=846.902933, expected=571.000000\n",
      "predicted=3386.114911, expected=3517.000000\n",
      "predicted=3258.929563, expected=3187.000000\n",
      "predicted=2979.119712, expected=3267.000000\n",
      "predicted=3171.571338, expected=3460.000000\n",
      "predicted=2801.222430, expected=3322.000000\n",
      "predicted=881.006744, expected=772.000000\n",
      "predicted=841.699506, expected=441.000000\n",
      "predicted=3279.822447, expected=3768.000000\n",
      "predicted=3377.995965, expected=3205.000000\n",
      "predicted=3110.334634, expected=3357.000000\n",
      "predicted=3518.498098, expected=2984.000000\n",
      "predicted=3178.223796, expected=3004.000000\n",
      "predicted=886.199692, expected=777.000000\n",
      "predicted=786.210537, expected=512.000000\n",
      "predicted=3451.041411, expected=3671.000000\n",
      "predicted=3438.348030, expected=3159.000000\n",
      "predicted=3156.999446, expected=1876.000000\n",
      "predicted=3076.279341, expected=2351.000000\n",
      "predicted=2960.440778, expected=666.000000\n",
      "predicted=769.033300, expected=500.000000\n",
      "predicted=926.897886, expected=3420.000000\n",
      "predicted=3491.566487, expected=3035.000000\n",
      "predicted=2850.300047, expected=2189.000000\n",
      "Test MSE: 580129.788\n"
     ]
    },
    {
     "data": {
      "image/png": "[encoded data removed]",
      "text/plain": [
       "<Figure size 432x288 with 1 Axes>"
      ]
     },
     "metadata": {
      "needs_background": "light"
     },
     "output_type": "display_data"
    }
   ],
   "source": [
    "# fit the ARIMA(6,1,1) model on train data and use on test\n",
    "predictions = list()\n",
    "history = [x for x in train_data[\"count\"]]\n",
    "for t in range(len(test_data)):\n",
    "    model = ARIMA(history, order=(6,1,1))\n",
    "    model_fit = model.fit(disp=0)\n",
    "    output = model_fit.forecast()\n",
    "    yhat = output[0]\n",
    "    predictions.append(yhat)\n",
    "    obs = test_data.iloc[t,:]\n",
    "    history.append(obs)\n",
    "    print('predicted=%f, expected=%f' % (yhat, obs))\n",
    "error = mean_squared_error(list(test_data[\"count\"]), predictions)\n",
    "print('Test MSE: %.3f' % error)\n",
    "# plot\n",
    "pyplot.plot(list(test_data[\"count\"]))\n",
    "pyplot.plot(predictions, color='red')\n",
    "pyplot.show()"
   ]
  },
  {
   "cell_type": "code",
   "execution_count": 47,
   "metadata": {},
   "outputs": [
    {
     "name": "stdout",
     "output_type": "stream",
     "text": [
      "Adjusted R2 for ARIMA(6,1,1): 0.6225269964686961 R2 for ARIMA(6,1,1): 0.617210475292199\n"
     ]
    }
   ],
   "source": [
    "R2=r2_score(list(test_data[\"count\"]), predictions)\n",
    "n=len(predictions)\n",
    "p=1\n",
    "#adjusted\n",
    "r2 = 1-(1-R2)*(n-1)/(n-p-1)\n",
    "print(\"Adjusted R2 for ARIMA(6,1,1):\",R2,\"R2 for ARIMA(6,1,1):\",r2)"
   ]
  },
  {
   "cell_type": "code",
   "execution_count": 499,
   "metadata": {},
   "outputs": [
    {
     "name": "stdout",
     "output_type": "stream",
     "text": [
      "predicted=982.963547, expected=753.000000\n",
      "predicted=965.252173, expected=533.000000\n",
      "predicted=2531.421457, expected=3581.000000\n",
      "predicted=3675.437557, expected=3419.000000\n"
     ]
    },
    {
     "name": "stderr",
     "output_type": "stream",
     "text": [
      "/Users/mariam/opt/anaconda3/lib/python3.8/site-packages/statsmodels/base/model.py:567: ConvergenceWarning:\n",
      "\n",
      "Maximum Likelihood optimization failed to converge. Check mle_retvals\n",
      "\n"
     ]
    },
    {
     "name": "stdout",
     "output_type": "stream",
     "text": [
      "predicted=3666.798650, expected=3351.000000\n",
      "predicted=3367.243858, expected=3305.000000\n",
      "predicted=2053.462142, expected=3067.000000\n",
      "predicted=962.075725, expected=866.000000\n"
     ]
    },
    {
     "name": "stderr",
     "output_type": "stream",
     "text": [
      "/Users/mariam/opt/anaconda3/lib/python3.8/site-packages/statsmodels/base/model.py:547: HessianInversionWarning:\n",
      "\n",
      "Inverting hessian failed, no bse or cov_params available\n",
      "\n",
      "/Users/mariam/opt/anaconda3/lib/python3.8/site-packages/statsmodels/base/model.py:567: ConvergenceWarning:\n",
      "\n",
      "Maximum Likelihood optimization failed to converge. Check mle_retvals\n",
      "\n"
     ]
    },
    {
     "name": "stdout",
     "output_type": "stream",
     "text": [
      "predicted=918.355904, expected=613.000000\n",
      "predicted=2449.166932, expected=3631.000000\n"
     ]
    },
    {
     "name": "stderr",
     "output_type": "stream",
     "text": [
      "/Users/mariam/opt/anaconda3/lib/python3.8/site-packages/statsmodels/base/model.py:567: ConvergenceWarning:\n",
      "\n",
      "Maximum Likelihood optimization failed to converge. Check mle_retvals\n",
      "\n"
     ]
    },
    {
     "name": "stdout",
     "output_type": "stream",
     "text": [
      "predicted=3579.187652, expected=3644.000000\n",
      "predicted=3586.177668, expected=3263.000000\n"
     ]
    },
    {
     "name": "stderr",
     "output_type": "stream",
     "text": [
      "/Users/mariam/opt/anaconda3/lib/python3.8/site-packages/statsmodels/base/model.py:547: HessianInversionWarning:\n",
      "\n",
      "Inverting hessian failed, no bse or cov_params available\n",
      "\n"
     ]
    },
    {
     "name": "stdout",
     "output_type": "stream",
     "text": [
      "predicted=3264.916194, expected=3247.000000\n",
      "predicted=2070.939926, expected=2763.000000\n",
      "predicted=1014.873552, expected=867.000000\n",
      "predicted=1046.319386, expected=616.000000\n",
      "predicted=2472.745615, expected=3846.000000\n",
      "predicted=3585.872190, expected=3210.000000\n"
     ]
    },
    {
     "name": "stderr",
     "output_type": "stream",
     "text": [
      "/Users/mariam/opt/anaconda3/lib/python3.8/site-packages/statsmodels/base/model.py:547: HessianInversionWarning:\n",
      "\n",
      "Inverting hessian failed, no bse or cov_params available\n",
      "\n"
     ]
    },
    {
     "name": "stdout",
     "output_type": "stream",
     "text": [
      "predicted=3538.479909, expected=3291.000000\n",
      "predicted=3407.600279, expected=3155.000000\n"
     ]
    },
    {
     "name": "stderr",
     "output_type": "stream",
     "text": [
      "/Users/mariam/opt/anaconda3/lib/python3.8/site-packages/statsmodels/base/model.py:567: ConvergenceWarning:\n",
      "\n",
      "Maximum Likelihood optimization failed to converge. Check mle_retvals\n",
      "\n"
     ]
    },
    {
     "name": "stdout",
     "output_type": "stream",
     "text": [
      "predicted=2112.669562, expected=3203.000000\n"
     ]
    },
    {
     "name": "stderr",
     "output_type": "stream",
     "text": [
      "/Users/mariam/opt/anaconda3/lib/python3.8/site-packages/statsmodels/base/model.py:567: ConvergenceWarning:\n",
      "\n",
      "Maximum Likelihood optimization failed to converge. Check mle_retvals\n",
      "\n"
     ]
    },
    {
     "name": "stdout",
     "output_type": "stream",
     "text": [
      "predicted=1080.266958, expected=726.000000\n",
      "predicted=928.588952, expected=536.000000\n",
      "predicted=2537.910938, expected=3948.000000\n"
     ]
    },
    {
     "name": "stderr",
     "output_type": "stream",
     "text": [
      "/Users/mariam/opt/anaconda3/lib/python3.8/site-packages/statsmodels/base/model.py:567: ConvergenceWarning:\n",
      "\n",
      "Maximum Likelihood optimization failed to converge. Check mle_retvals\n",
      "\n"
     ]
    },
    {
     "name": "stdout",
     "output_type": "stream",
     "text": [
      "predicted=3529.523952, expected=2187.000000\n",
      "predicted=3653.308943, expected=4008.000000\n",
      "predicted=3685.456828, expected=3349.000000\n"
     ]
    },
    {
     "name": "stderr",
     "output_type": "stream",
     "text": [
      "/Users/mariam/opt/anaconda3/lib/python3.8/site-packages/statsmodels/base/model.py:567: ConvergenceWarning:\n",
      "\n",
      "Maximum Likelihood optimization failed to converge. Check mle_retvals\n",
      "\n"
     ]
    },
    {
     "name": "stdout",
     "output_type": "stream",
     "text": [
      "predicted=1952.724398, expected=3095.000000\n",
      "predicted=1047.338179, expected=752.000000\n",
      "predicted=917.690227, expected=583.000000\n",
      "predicted=2489.485906, expected=3649.000000\n",
      "predicted=3487.261484, expected=3644.000000\n",
      "predicted=3565.395459, expected=3302.000000\n",
      "predicted=3287.879000, expected=3205.000000\n",
      "predicted=2126.202138, expected=3095.000000\n"
     ]
    },
    {
     "name": "stderr",
     "output_type": "stream",
     "text": [
      "/Users/mariam/opt/anaconda3/lib/python3.8/site-packages/statsmodels/base/model.py:567: ConvergenceWarning:\n",
      "\n",
      "Maximum Likelihood optimization failed to converge. Check mle_retvals\n",
      "\n"
     ]
    },
    {
     "name": "stdout",
     "output_type": "stream",
     "text": [
      "predicted=1014.749162, expected=692.000000\n",
      "predicted=978.024844, expected=622.000000\n",
      "predicted=2485.797189, expected=3772.000000\n",
      "predicted=3474.649650, expected=3129.000000\n",
      "predicted=3592.027459, expected=2688.000000\n",
      "predicted=3547.444697, expected=1333.000000\n",
      "predicted=2674.637476, expected=708.000000\n"
     ]
    },
    {
     "name": "stderr",
     "output_type": "stream",
     "text": [
      "/Users/mariam/opt/anaconda3/lib/python3.8/site-packages/statsmodels/base/model.py:547: HessianInversionWarning:\n",
      "\n",
      "Inverting hessian failed, no bse or cov_params available\n",
      "\n"
     ]
    },
    {
     "name": "stdout",
     "output_type": "stream",
     "text": [
      "predicted=2122.587282, expected=552.000000\n"
     ]
    },
    {
     "name": "stderr",
     "output_type": "stream",
     "text": [
      "/Users/mariam/opt/anaconda3/lib/python3.8/site-packages/statsmodels/base/model.py:547: HessianInversionWarning:\n",
      "\n",
      "Inverting hessian failed, no bse or cov_params available\n",
      "\n"
     ]
    },
    {
     "name": "stdout",
     "output_type": "stream",
     "text": [
      "predicted=2156.273874, expected=3707.000000\n"
     ]
    },
    {
     "name": "stderr",
     "output_type": "stream",
     "text": [
      "/Users/mariam/opt/anaconda3/lib/python3.8/site-packages/statsmodels/base/model.py:547: HessianInversionWarning:\n",
      "\n",
      "Inverting hessian failed, no bse or cov_params available\n",
      "\n"
     ]
    },
    {
     "name": "stdout",
     "output_type": "stream",
     "text": [
      "predicted=2808.095816, expected=3046.000000\n",
      "predicted=3149.691244, expected=3117.000000\n",
      "predicted=3876.487099, expected=3136.000000\n"
     ]
    },
    {
     "name": "stderr",
     "output_type": "stream",
     "text": [
      "/Users/mariam/opt/anaconda3/lib/python3.8/site-packages/statsmodels/base/model.py:547: HessianInversionWarning:\n",
      "\n",
      "Inverting hessian failed, no bse or cov_params available\n",
      "\n"
     ]
    },
    {
     "name": "stdout",
     "output_type": "stream",
     "text": [
      "predicted=3137.086374, expected=2908.000000\n"
     ]
    },
    {
     "name": "stderr",
     "output_type": "stream",
     "text": [
      "/Users/mariam/opt/anaconda3/lib/python3.8/site-packages/statsmodels/base/model.py:547: HessianInversionWarning:\n",
      "\n",
      "Inverting hessian failed, no bse or cov_params available\n",
      "\n",
      "/Users/mariam/opt/anaconda3/lib/python3.8/site-packages/statsmodels/base/model.py:567: ConvergenceWarning:\n",
      "\n",
      "Maximum Likelihood optimization failed to converge. Check mle_retvals\n",
      "\n"
     ]
    },
    {
     "name": "stdout",
     "output_type": "stream",
     "text": [
      "predicted=2122.748885, expected=835.000000\n"
     ]
    },
    {
     "name": "stderr",
     "output_type": "stream",
     "text": [
      "/Users/mariam/opt/anaconda3/lib/python3.8/site-packages/statsmodels/base/model.py:567: ConvergenceWarning:\n",
      "\n",
      "Maximum Likelihood optimization failed to converge. Check mle_retvals\n",
      "\n"
     ]
    },
    {
     "name": "stdout",
     "output_type": "stream",
     "text": [
      "predicted=1281.277931, expected=571.000000\n",
      "predicted=1889.156495, expected=3517.000000\n",
      "predicted=2676.440405, expected=3187.000000\n",
      "predicted=3164.201528, expected=3267.000000\n",
      "predicted=3757.381021, expected=3460.000000\n",
      "predicted=2997.868092, expected=3322.000000\n",
      "predicted=1763.671599, expected=772.000000\n"
     ]
    },
    {
     "name": "stderr",
     "output_type": "stream",
     "text": [
      "/Users/mariam/opt/anaconda3/lib/python3.8/site-packages/statsmodels/tsa/tsatools.py:689: RuntimeWarning:\n",
      "\n",
      "overflow encountered in exp\n",
      "\n",
      "/Users/mariam/opt/anaconda3/lib/python3.8/site-packages/statsmodels/tsa/tsatools.py:689: RuntimeWarning:\n",
      "\n",
      "invalid value encountered in true_divide\n",
      "\n",
      "/Users/mariam/opt/anaconda3/lib/python3.8/site-packages/statsmodels/tsa/tsatools.py:690: RuntimeWarning:\n",
      "\n",
      "overflow encountered in exp\n",
      "\n",
      "/Users/mariam/opt/anaconda3/lib/python3.8/site-packages/statsmodels/tsa/tsatools.py:690: RuntimeWarning:\n",
      "\n",
      "invalid value encountered in true_divide\n",
      "\n"
     ]
    },
    {
     "name": "stdout",
     "output_type": "stream",
     "text": [
      "predicted=983.163039, expected=441.000000\n",
      "predicted=1800.723865, expected=3768.000000\n",
      "predicted=2754.728051, expected=3205.000000\n",
      "predicted=3100.477964, expected=3357.000000\n",
      "predicted=3659.453272, expected=2984.000000\n",
      "predicted=2788.431485, expected=3004.000000\n",
      "predicted=1821.003515, expected=777.000000\n",
      "predicted=1094.263260, expected=512.000000\n",
      "predicted=2031.510400, expected=3671.000000\n",
      "predicted=2996.553562, expected=3159.000000\n",
      "predicted=3304.095197, expected=1876.000000\n",
      "predicted=3745.529377, expected=2351.000000\n",
      "predicted=3071.309141, expected=666.000000\n",
      "predicted=2436.397836, expected=500.000000\n",
      "predicted=2960.513976, expected=3420.000000\n",
      "predicted=3242.287021, expected=3035.000000\n",
      "predicted=2759.335231, expected=2189.000000\n",
      "Test MSE: 862080.721\n"
     ]
    },
    {
     "data": {
      "image/png": "[encoded data removed]",
      "text/plain": [
       "<Figure size 432x288 with 1 Axes>"
      ]
     },
     "metadata": {
      "needs_background": "light"
     },
     "output_type": "display_data"
    }
   ],
   "source": [
    "# another case\n",
    "predictions = list()\n",
    "history = [x for x in train_data[\"count\"]]\n",
    "for t in range(len(test_data)):\n",
    "    model = ARIMA(history, order=(2,0,4))\n",
    "    model_fit = model.fit(disp=0)\n",
    "    output = model_fit.forecast()\n",
    "    yhat = output[0]\n",
    "    predictions.append(yhat)\n",
    "    obs = test_data.iloc[t,:]\n",
    "    history.append(obs)\n",
    "    print('predicted=%f, expected=%f' % (yhat, obs))\n",
    "error = mean_squared_error(list(test_data[\"count\"]), predictions)\n",
    "print('Test MSE: %.3f' % error)\n",
    "# plot\n",
    "pyplot.plot(list(test_data[\"count\"]))\n",
    "pyplot.plot(predictions, color='red')\n",
    "pyplot.show()"
   ]
  },
  {
   "cell_type": "code",
   "execution_count": null,
   "metadata": {},
   "outputs": [],
   "source": [
    "# for ARIMA(2,0,4) adj. R2= 0.4311695826683586 , R2 =0.439070005131298"
   ]
  },
  {
   "cell_type": "code",
   "execution_count": 516,
   "metadata": {},
   "outputs": [
    {
     "name": "stdout",
     "output_type": "stream",
     "text": [
      "ARIMA(0, 0, 0) MSE=1620671.157\n",
      "ARIMA(0, 0, 1) MSE=1359543.495\n",
      "ARIMA(0, 0, 2) MSE=1193545.248\n",
      "ARIMA(0, 1, 0) MSE=2360420.976\n",
      "ARIMA(0, 1, 1) MSE=1669836.249\n",
      "ARIMA(0, 1, 2) MSE=1386385.081\n",
      "ARIMA(0, 2, 0) MSE=5083075.263\n",
      "ARIMA(0, 2, 1) MSE=2383144.659\n",
      "ARIMA(0, 2, 2) MSE=1662962.674\n",
      "ARIMA(1, 0, 0) MSE=1506735.859\n",
      "ARIMA(1, 0, 1) MSE=1350872.773\n",
      "ARIMA(1, 0, 2) MSE=1112443.410\n",
      "ARIMA(1, 1, 0) MSE=2349030.738\n",
      "ARIMA(1, 2, 0) MSE=4451332.191\n",
      "ARIMA(2, 0, 0) MSE=1211138.548\n",
      "ARIMA(2, 0, 1) MSE=990145.712\n",
      "ARIMA(2, 0, 2) MSE=840572.130\n",
      "ARIMA(2, 1, 0) MSE=2003736.793\n",
      "ARIMA(2, 1, 2) MSE=1044178.764\n",
      "ARIMA(2, 2, 0) MSE=3436166.203\n",
      "ARIMA(4, 0, 0) MSE=930244.103\n",
      "ARIMA(4, 0, 1) MSE=807258.900\n",
      "ARIMA(4, 1, 0) MSE=1813236.661\n",
      "ARIMA(4, 1, 2) MSE=887726.010\n",
      "ARIMA(4, 2, 0) MSE=3201535.485\n",
      "ARIMA(6, 0, 0) MSE=668345.006\n",
      "ARIMA(6, 0, 1) MSE=622816.378\n",
      "ARIMA(6, 1, 0) MSE=494282.681\n",
      "ARIMA(6, 1, 1) MSE=493881.316\n",
      "ARIMA(6, 1, 2) MSE=498393.190\n",
      "Best ARIMA(6, 1, 1) MSE=493881.316\n"
     ]
    }
   ],
   "source": [
    "# find the best parameters for ARIMA model \n",
    "\n",
    "def evaluate_arima_model(X, arima_order):\n",
    "# prepare training dataset\n",
    "    train_size = int(len(X) * 0.66)\n",
    "    train, test = X[0:train_size], X[train_size:]\n",
    "    history = [x for x in train]\n",
    "# make predictions\n",
    "    predictions = list()\n",
    "    for t in range(len(test)):\n",
    "        model = ARIMA(history, order=arima_order)\n",
    "        model_fit = model.fit(disp=0)\n",
    "        yhat = model_fit.forecast()[0]\n",
    "        predictions.append(yhat)\n",
    "        history.append(test[t])\n",
    "\n",
    "    error = mean_squared_error(test, predictions)\n",
    "    return error\n",
    " \n",
    "\n",
    "def evaluate_models(dataset, p_values, d_values, q_values):\n",
    "    dataset = dataset.astype('float32')\n",
    "    best_score, best_cfg = float(\"inf\"), None\n",
    "    for p in p_values:\n",
    "        for d in d_values:\n",
    "            for q in q_values:\n",
    "                order = (p,d,q)\n",
    "                try:\n",
    "                    mse = evaluate_arima_model(dataset, order)\n",
    "                    if mse < best_score:\n",
    "                        best_score, best_cfg = mse, order\n",
    "                    print('ARIMA%s MSE=%.3f' % (order,mse))\n",
    "                except:\n",
    "                    continue\n",
    "    print('Best ARIMA%s MSE=%.3f' % (best_cfg, best_score))\n",
    "# load dataset\n",
    "# evaluate parameters\n",
    "p_values = [0, 1, 2, 4, 6, 8, 10]\n",
    "d_values = range(0, 3)\n",
    "q_values = range(0, 3)\n",
    "warnings.filterwarnings(\"ignore\")\n",
    "evaluate_models(data.values, p_values, d_values, q_values)"
   ]
  },
  {
   "cell_type": "code",
   "execution_count": null,
   "metadata": {},
   "outputs": [],
   "source": []
  },
  {
   "cell_type": "markdown",
   "metadata": {},
   "source": [
    "## Regression"
   ]
  },
  {
   "cell_type": "markdown",
   "metadata": {},
   "source": [
    "The second approach is regression, I used regression methods that probably could work."
   ]
  },
  {
   "cell_type": "code",
   "execution_count": 51,
   "metadata": {},
   "outputs": [
    {
     "name": "stdout",
     "output_type": "stream",
     "text": [
      "Score for linear regression: 9.689917177369001e-05\n"
     ]
    }
   ],
   "source": [
    "# simple linear regression\n",
    "regr1 = skl_lm.LinearRegression()\n",
    "X = df_count_2014.day.values.reshape(-1,1)\n",
    "y = df_count_2014[\"count\"]\n",
    "regr1.fit(X,y)\n",
    "print(\"Score for linear regression:\", regr1.score(X,y))\n",
    "# this is a very bad result "
   ]
  },
  {
   "cell_type": "code",
   "execution_count": 52,
   "metadata": {},
   "outputs": [
    {
     "name": "stdout",
     "output_type": "stream",
     "text": [
      "R^2 value for Polynomial regression with degree= 1 :  9.689917177369001e-05\n",
      "R^2 value for Polynomial regression with degree= 2 :  0.0010007373082366877\n",
      "R^2 value for Polynomial regression with degree= 3 :  0.0012169333822807937\n",
      "R^2 value for Polynomial regression with degree= 4 :  0.0014194823928925793\n",
      "R^2 value for Polynomial regression with degree= 5 :  0.0014811113597590353\n",
      "R^2 value for Polynomial regression with degree= 6 :  0.003433216084862356\n",
      "R^2 value for Polynomial regression with degree= 7 :  0.0034332835620008995\n",
      "R^2 value for Polynomial regression with degree= 8 :  0.008465510143019217\n",
      "R^2 value for Polynomial regression with degree= 9 :  0.008549302249690305\n"
     ]
    }
   ],
   "source": [
    "# let's use combination of polynomial and linear regression\n",
    "regr = skl_lm.LinearRegression()\n",
    "for i in range(1,10):\n",
    "    Input=[('polynomial',PolynomialFeatures(degree=i)),('model',regr)]\n",
    "    pipe=Pipeline(Input)\n",
    "    pipe.fit(X,y)\n",
    "    print(\"R^2 value for Polynomial regression with degree=\",str(i),\": \",pipe.score(X,y))\n",
    "# results are still bad "
   ]
  },
  {
   "cell_type": "code",
   "execution_count": 53,
   "metadata": {},
   "outputs": [
    {
     "data": {
      "text/plain": [
       "Pipeline(steps=[('polynomial', PolynomialFeatures(degree=9)),\n",
       "                ('model', LinearRegression())])"
      ]
     },
     "execution_count": 53,
     "metadata": {},
     "output_type": "execute_result"
    }
   ],
   "source": [
    "# r2 is higher for degree=9\n",
    "Input=[('polynomial',PolynomialFeatures(degree=9)),('model',regr)]\n",
    "pipe=Pipeline(Input)\n",
    "pipe.fit(X,y)"
   ]
  },
  {
   "cell_type": "code",
   "execution_count": 55,
   "metadata": {},
   "outputs": [],
   "source": [
    "# the next method is support vector regressor\n",
    "mod_linearsvc = svm.SVR(kernel=\"linear\",max_iter=10000)\n",
    "mod_rbfsvc = svm.SVR(kernel=\"rbf\",max_iter=10000)\n",
    "mod_linearsvc.fit(X,y);\n",
    "mod_rbfsvc.fit(X,y);"
   ]
  },
  {
   "cell_type": "code",
   "execution_count": 56,
   "metadata": {},
   "outputs": [
    {
     "name": "stdout",
     "output_type": "stream",
     "text": [
      "LinearSVC - >  -0.22260074688706188\n"
     ]
    }
   ],
   "source": [
    "print(\"LinearSVC - > \",mod_linearsvc.score(X,y))"
   ]
  },
  {
   "cell_type": "code",
   "execution_count": 57,
   "metadata": {},
   "outputs": [
    {
     "name": "stdout",
     "output_type": "stream",
     "text": [
      "RBFSVC - >  -0.2266400154085455\n"
     ]
    }
   ],
   "source": [
    "print(\"RBFSVC - > \",mod_rbfsvc.score(X,y))"
   ]
  },
  {
   "cell_type": "code",
   "execution_count": 58,
   "metadata": {},
   "outputs": [],
   "source": [
    "# results are close and awful, negative score means that method is worst"
   ]
  },
  {
   "cell_type": "code",
   "execution_count": 62,
   "metadata": {},
   "outputs": [
    {
     "name": "stdout",
     "output_type": "stream",
     "text": [
      "Score for Decision Tree:  0.024287598725552084\n"
     ]
    }
   ],
   "source": [
    "# the next one is Decision Tree\n",
    "mod_reg  = tree.DecisionTreeRegressor(max_depth = 13)\n",
    "mod_reg_fit = mod_reg.fit(X,y)\n",
    "print(\"Score for Decision Tree: \",mod_reg_fit.score(X,y))\n",
    "# parameter was taken from results below"
   ]
  },
  {
   "cell_type": "code",
   "execution_count": 61,
   "metadata": {},
   "outputs": [
    {
     "name": "stdout",
     "output_type": "stream",
     "text": [
      "max_depth =  2 Score =  0.005061176053588801\n",
      "max_depth =  3 Score =  0.006155754903449773\n",
      "max_depth =  4 Score =  0.009315721910560182\n",
      "max_depth =  5 Score =  0.010178614570040323\n",
      "max_depth =  6 Score =  0.013925744665961415\n",
      "max_depth =  7 Score =  0.016199987305787644\n",
      "max_depth =  8 Score =  0.01694763593504023\n",
      "max_depth =  9 Score =  0.017204892015232898\n",
      "max_depth =  10 Score =  0.019170638491531666\n",
      "max_depth =  11 Score =  0.021919522166846894\n",
      "max_depth =  12 Score =  0.02304183752544975\n",
      "max_depth =  13 Score =  0.024287598725552084\n",
      "max_depth =  14 Score =  0.024287598725552084\n",
      "max_depth =  15 Score =  0.024287598725552084\n",
      "max_depth =  16 Score =  0.024287598725552084\n",
      "max_depth =  17 Score =  0.024287598725552084\n",
      "max_depth =  18 Score =  0.024287598725552084\n",
      "max_depth =  19 Score =  0.024287598725552084\n",
      "max_depth =  20 Score =  0.024287598725552084\n",
      "max_depth =  21 Score =  0.024287598725552084\n"
     ]
    }
   ],
   "source": [
    "for j in np.arange(20)+2:\n",
    "    mod_reg = tree.DecisionTreeRegressor(max_depth = j)\n",
    "    mod_reg_fit = mod_reg.fit(X,y)\n",
    "    print(\"max_depth = \", j, \"Score = \", mod_reg_fit.score(X,y))"
   ]
  },
  {
   "cell_type": "code",
   "execution_count": 63,
   "metadata": {},
   "outputs": [],
   "source": [
    "# results are still bad"
   ]
  },
  {
   "cell_type": "code",
   "execution_count": 64,
   "metadata": {},
   "outputs": [],
   "source": [
    "# The next one is AdaBoost Regressor\n",
    "mod = ensemble.AdaBoostRegressor(tree.DecisionTreeRegressor(max_depth =1),\n",
    "                                 n_estimators = 200,\n",
    "                                )\n",
    "mod.fit(X,y);"
   ]
  },
  {
   "cell_type": "code",
   "execution_count": 65,
   "metadata": {},
   "outputs": [
    {
     "name": "stdout",
     "output_type": "stream",
     "text": [
      "AdaBoostRegressor - >  -0.02458870818271941\n"
     ]
    }
   ],
   "source": [
    "print(\"AdaBoostRegressor - > \",mod.score(X,y))\n",
    "# model is worst"
   ]
  },
  {
   "cell_type": "code",
   "execution_count": 71,
   "metadata": {},
   "outputs": [
    {
     "data": {
      "text/plain": [
       "KNeighborsRegressor(n_neighbors=12)"
      ]
     },
     "execution_count": 71,
     "metadata": {},
     "output_type": "execute_result"
    }
   ],
   "source": [
    "# the next one is the nearest neighbor\n",
    "neigh = KNeighborsRegressor(n_neighbors=12)\n",
    "neigh.fit(X,y)"
   ]
  },
  {
   "cell_type": "code",
   "execution_count": 70,
   "metadata": {},
   "outputs": [
    {
     "name": "stdout",
     "output_type": "stream",
     "text": [
      "j-> 1 score-> -1.0136357647518888\n",
      "j-> 2 score-> -0.3403044893792406\n",
      "j-> 3 score-> -0.18059614185737005\n",
      "j-> 4 score-> -0.12560479098684563\n",
      "j-> 5 score-> -0.095798519350633\n",
      "j-> 6 score-> -0.06803167641569963\n",
      "j-> 7 score-> -0.036562641018480946\n",
      "j-> 8 score-> -0.035718644806508326\n",
      "j-> 9 score-> -0.013674594619058178\n",
      "j-> 10 score-> -0.0032312404386742877\n",
      "j-> 11 score-> 0.013885917488186905\n",
      "j-> 12 score-> 0.022449088717694354\n",
      "j-> 13 score-> 0.01676559850069026\n",
      "j-> 14 score-> 0.012270392098687077\n",
      "j-> 15 score-> 0.010399973491102887\n",
      "j-> 16 score-> 0.005392383176365145\n",
      "j-> 17 score-> 0.012274207952776228\n",
      "j-> 18 score-> 0.013018564740433836\n",
      "j-> 19 score-> 0.008242135636774117\n",
      "j-> 20 score-> 0.008329371293955945\n"
     ]
    },
    {
     "data": {
      "text/plain": [
       "12"
      ]
     },
     "execution_count": 70,
     "metadata": {},
     "output_type": "execute_result"
    }
   ],
   "source": [
    "score = np.array([])\n",
    "for j in np.arange(20) +1:\n",
    "    mod_reg = KNeighborsRegressor(n_neighbors = j)\n",
    "    mod_reg.fit(X,y)\n",
    "    score = np.append(score, mod_reg.score(X,y))\n",
    "    print(\"j->\", j, \"score->\",mod_reg.score(X,y))\n",
    "param = np.argmax(score) + 1\n",
    "param"
   ]
  },
  {
   "cell_type": "code",
   "execution_count": 73,
   "metadata": {},
   "outputs": [
    {
     "name": "stdout",
     "output_type": "stream",
     "text": [
      "Score for nearest neighbor regressor:  0.022449088717694354\n"
     ]
    }
   ],
   "source": [
    "print(\"Score for nearest neighbor regressor: \",neigh.score(X,y))"
   ]
  },
  {
   "cell_type": "markdown",
   "metadata": {},
   "source": [
    "The highest score is approximately 2% it is very bad."
   ]
  },
  {
   "cell_type": "code",
   "execution_count": 75,
   "metadata": {},
   "outputs": [
    {
     "data": {
      "application/vnd.plotly.v1+json": {
       "config": {
        "linkText": "Export to plot.ly",
        "plotlyServerURL": "https://plot.ly",
        "showLink": false
       },
       "data": [
        {
         "marker": {
          "color": "rgba(152,0,0,0.5)",
          "size": 10
         },
         "mode": "markers",
         "name": "original",
         "type": "scatter",
         "x": [
          1,
          2,
          3,
          4,
          5,
          6,
          7,
          8,
          9,
          10,
          11,
          12,
          13,
          14,
          15,
          16,
          17,
          18,
          19,
          20,
          21,
          22,
          23,
          24,
          25,
          26,
          27,
          28,
          29,
          30,
          31,
          32,
          33,
          34,
          35,
          36,
          37,
          38,
          39,
          40,
          41,
          42,
          43,
          44,
          45,
          46,
          47,
          48,
          49,
          50,
          51,
          52,
          53,
          54,
          55,
          56,
          57,
          58,
          59,
          60,
          61,
          62,
          63,
          64,
          65,
          66,
          67,
          68,
          69,
          70,
          71,
          72,
          73,
          74,
          75,
          76,
          77,
          78,
          79,
          80,
          81,
          82,
          83,
          84,
          85,
          86,
          87,
          88,
          89,
          90,
          91,
          92,
          93,
          94,
          95,
          96,
          97,
          98,
          99,
          100,
          101,
          102,
          103,
          104,
          105,
          106,
          107,
          108,
          109,
          110,
          111,
          112,
          113,
          114,
          115,
          116,
          117,
          118,
          119,
          120,
          121,
          122,
          123,
          124,
          125,
          126,
          127,
          128,
          129,
          130,
          131,
          132,
          133,
          134,
          135,
          136,
          137,
          138,
          139,
          140,
          141,
          142,
          143,
          144,
          145,
          146,
          147,
          148,
          149,
          150,
          151,
          152,
          153,
          154,
          155,
          156,
          157,
          158,
          159,
          160,
          161,
          162,
          163,
          164,
          165,
          166,
          167,
          168,
          169,
          170,
          171,
          172,
          173,
          174,
          175,
          176,
          177,
          178,
          179,
          180,
          181,
          182,
          183,
          184,
          185,
          186,
          187,
          188,
          189,
          190,
          191,
          192,
          193,
          194,
          195,
          196,
          197,
          198,
          199,
          200,
          201,
          202,
          203,
          204,
          205,
          206,
          207,
          208,
          209,
          210,
          211,
          212,
          213,
          214,
          215,
          216,
          217,
          218,
          219,
          220,
          221,
          222,
          223,
          224,
          225,
          226,
          227,
          228,
          229,
          230,
          231,
          232,
          233,
          234,
          235,
          236,
          237,
          238,
          239,
          240,
          241,
          242,
          243,
          244,
          245,
          246,
          247,
          248,
          249,
          250,
          251,
          252,
          253,
          254,
          255,
          256,
          257,
          258,
          259,
          260,
          261,
          262,
          263,
          264,
          265,
          266,
          267,
          268,
          269,
          270,
          271,
          272,
          273,
          274,
          275,
          276,
          277,
          278,
          279,
          280,
          281,
          282,
          283,
          284,
          285,
          286,
          287,
          288,
          289,
          290,
          291,
          292,
          293,
          294,
          295,
          296,
          297,
          298,
          299,
          300,
          301,
          302,
          303,
          304,
          305,
          306,
          307,
          308,
          309,
          310,
          311,
          312,
          313,
          314,
          315,
          316,
          317,
          318,
          319,
          320,
          321,
          322,
          323,
          324,
          325,
          326,
          327,
          328,
          329,
          330,
          332,
          333,
          334,
          335,
          336,
          337,
          338,
          339,
          340,
          341,
          342,
          343,
          344,
          345,
          346,
          347,
          348,
          349,
          350,
          351,
          352,
          353,
          354,
          355,
          356,
          357,
          358,
          360,
          361,
          362,
          363,
          364,
          365
         ],
         "y": [
          639,
          2920,
          2632,
          718,
          553,
          2816,
          3054,
          3149,
          2883,
          2693,
          800,
          567,
          3606,
          3209,
          3003,
          2782,
          2810,
          790,
          521,
          1908,
          3455,
          3292,
          2901,
          2663,
          744,
          558,
          3348,
          3156,
          3145,
          3064,
          2762,
          808,
          464,
          3169,
          2930,
          3121,
          2811,
          2655,
          775,
          488,
          3496,
          3030,
          3065,
          2924,
          2589,
          845,
          602,
          1684,
          3575,
          3229,
          3108,
          2784,
          743,
          475,
          3510,
          3252,
          2991,
          2863,
          3083,
          797,
          766,
          3495,
          3082,
          3064,
          2795,
          2697,
          758,
          600,
          3512,
          3254,
          3206,
          2894,
          2675,
          795,
          778,
          3590,
          3332,
          3174,
          3050,
          2788,
          787,
          578,
          3587,
          3423,
          3236,
          3322,
          3032,
          724,
          572,
          2764,
          3807,
          3381,
          3052,
          3006,
          681,
          645,
          3680,
          3401,
          3212,
          3220,
          3076,
          776,
          490,
          3483,
          3028,
          3250,
          3208,
          2652,
          697,
          122,
          3647,
          3324,
          3254,
          3221,
          2913,
          760,
          585,
          3547,
          3456,
          3441,
          3195,
          3059,
          860,
          597,
          3666,
          3270,
          3342,
          3241,
          3001,
          719,
          544,
          3591,
          3532,
          3347,
          3111,
          2923,
          701,
          554,
          5108,
          3700,
          3601,
          3196,
          2924,
          723,
          620,
          778,
          3992,
          3846,
          3409,
          3068,
          789,
          539,
          3791,
          3469,
          3181,
          3060,
          2902,
          844,
          550,
          3727,
          3566,
          3326,
          2935,
          2793,
          822,
          497,
          3641,
          3264,
          3312,
          3221,
          3186,
          831,
          513,
          3905,
          3369,
          3400,
          3385,
          3363,
          788,
          532,
          3972,
          3443,
          3302,
          3115,
          744,
          764,
          577,
          3951,
          3351,
          3338,
          3320,
          3312,
          807,
          502,
          3806,
          3524,
          3478,
          3473,
          3144,
          856,
          594,
          3952,
          3652,
          3520,
          3206,
          3193,
          812,
          579,
          4224,
          3532,
          3400,
          3224,
          3054,
          686,
          569,
          3931,
          3246,
          3216,
          3515,
          2974,
          735,
          473,
          3742,
          3696,
          3757,
          3441,
          3211,
          718,
          513,
          3876,
          3856,
          3548,
          3395,
          2976,
          625,
          493,
          4048,
          3408,
          3599,
          3766,
          3297,
          641,
          584,
          850,
          4204,
          3636,
          3603,
          3249,
          766,
          444,
          3634,
          3485,
          3474,
          3255,
          2949,
          651,
          502,
          3819,
          3454,
          3286,
          3131,
          3111,
          681,
          457,
          3850,
          3068,
          3318,
          3099,
          2930,
          636,
          556,
          3988,
          3535,
          3451,
          3594,
          3315,
          626,
          504,
          3927,
          3495,
          3422,
          3125,
          2798,
          704,
          591,
          3122,
          3981,
          3553,
          3056,
          2911,
          753,
          533,
          3581,
          3419,
          3351,
          3305,
          3067,
          866,
          613,
          3631,
          3644,
          3263,
          3247,
          2763,
          867,
          616,
          3846,
          3210,
          3291,
          3155,
          3203,
          726,
          536,
          3948,
          2187,
          4008,
          3349,
          3095,
          752,
          583,
          3649,
          3644,
          3302,
          3205,
          3095,
          692,
          622,
          3772,
          3129,
          2688,
          1333,
          708,
          552,
          3707,
          3046,
          3117,
          3136,
          2908,
          835,
          571,
          3517,
          3187,
          3267,
          3460,
          3322,
          772,
          441,
          3768,
          3205,
          3357,
          2984,
          3004,
          777,
          512,
          3671,
          3159,
          1876,
          2351,
          666,
          500,
          3420,
          3035,
          2189
         ]
        },
        {
         "marker": {
          "color": "rgba(152,100,0,0.5)",
          "size": 10
         },
         "mode": "lines",
         "name": "Linear reg",
         "type": "scatter",
         "x": [
          1,
          2,
          3,
          4,
          5,
          6,
          7,
          8,
          9,
          10,
          11,
          12,
          13,
          14,
          15,
          16,
          17,
          18,
          19,
          20,
          21,
          22,
          23,
          24,
          25,
          26,
          27,
          28,
          29,
          30,
          31,
          32,
          33,
          34,
          35,
          36,
          37,
          38,
          39,
          40,
          41,
          42,
          43,
          44,
          45,
          46,
          47,
          48,
          49,
          50,
          51,
          52,
          53,
          54,
          55,
          56,
          57,
          58,
          59,
          60,
          61,
          62,
          63,
          64,
          65,
          66,
          67,
          68,
          69,
          70,
          71,
          72,
          73,
          74,
          75,
          76,
          77,
          78,
          79,
          80,
          81,
          82,
          83,
          84,
          85,
          86,
          87,
          88,
          89,
          90,
          91,
          92,
          93,
          94,
          95,
          96,
          97,
          98,
          99,
          100,
          101,
          102,
          103,
          104,
          105,
          106,
          107,
          108,
          109,
          110,
          111,
          112,
          113,
          114,
          115,
          116,
          117,
          118,
          119,
          120,
          121,
          122,
          123,
          124,
          125,
          126,
          127,
          128,
          129,
          130,
          131,
          132,
          133,
          134,
          135,
          136,
          137,
          138,
          139,
          140,
          141,
          142,
          143,
          144,
          145,
          146,
          147,
          148,
          149,
          150,
          151,
          152,
          153,
          154,
          155,
          156,
          157,
          158,
          159,
          160,
          161,
          162,
          163,
          164,
          165,
          166,
          167,
          168,
          169,
          170,
          171,
          172,
          173,
          174,
          175,
          176,
          177,
          178,
          179,
          180,
          181,
          182,
          183,
          184,
          185,
          186,
          187,
          188,
          189,
          190,
          191,
          192,
          193,
          194,
          195,
          196,
          197,
          198,
          199,
          200,
          201,
          202,
          203,
          204,
          205,
          206,
          207,
          208,
          209,
          210,
          211,
          212,
          213,
          214,
          215,
          216,
          217,
          218,
          219,
          220,
          221,
          222,
          223,
          224,
          225,
          226,
          227,
          228,
          229,
          230,
          231,
          232,
          233,
          234,
          235,
          236,
          237,
          238,
          239,
          240,
          241,
          242,
          243,
          244,
          245,
          246,
          247,
          248,
          249,
          250,
          251,
          252,
          253,
          254,
          255,
          256,
          257,
          258,
          259,
          260,
          261,
          262,
          263,
          264,
          265,
          266,
          267,
          268,
          269,
          270,
          271,
          272,
          273,
          274,
          275,
          276,
          277,
          278,
          279,
          280,
          281,
          282,
          283,
          284,
          285,
          286,
          287,
          288,
          289,
          290,
          291,
          292,
          293,
          294,
          295,
          296,
          297,
          298,
          299,
          300,
          301,
          302,
          303,
          304,
          305,
          306,
          307,
          308,
          309,
          310,
          311,
          312,
          313,
          314,
          315,
          316,
          317,
          318,
          319,
          320,
          321,
          322,
          323,
          324,
          325,
          326,
          327,
          328,
          329,
          330,
          332,
          333,
          334,
          335,
          336,
          337,
          338,
          339,
          340,
          341,
          342,
          343,
          344,
          345,
          346,
          347,
          348,
          349,
          350,
          351,
          352,
          353,
          354,
          355,
          356,
          357,
          358,
          360,
          361,
          362,
          363,
          364,
          365
         ],
         "y": [
          2474.4527388979536,
          2475.8533881145686,
          2477.254037331184,
          2478.654686547799,
          2480.0553357644144,
          2481.4559849810294,
          2482.856634197645,
          2484.25728341426,
          2485.657932630875,
          2487.0585818474906,
          2488.4592310641056,
          2489.859880280721,
          2491.2605294973364,
          2492.6611787139514,
          2494.061827930567,
          2495.4624771471817,
          2496.863126363797,
          2498.263775580412,
          2499.6644247970276,
          2501.065074013643,
          2502.465723230258,
          2503.8663724468734,
          2505.2670216634883,
          2506.6676708801037,
          2508.068320096719,
          2509.468969313334,
          2510.8696185299495,
          2512.2702677465645,
          2513.67091696318,
          2515.071566179795,
          2516.4722153964103,
          2474.4527388979536,
          2475.8533881145686,
          2477.254037331184,
          2478.654686547799,
          2480.0553357644144,
          2481.4559849810294,
          2482.856634197645,
          2484.25728341426,
          2485.657932630875,
          2487.0585818474906,
          2488.4592310641056,
          2489.859880280721,
          2491.2605294973364,
          2492.6611787139514,
          2494.061827930567,
          2495.4624771471817,
          2496.863126363797,
          2498.263775580412,
          2499.6644247970276,
          2501.065074013643,
          2502.465723230258,
          2503.8663724468734,
          2505.2670216634883,
          2506.6676708801037,
          2508.068320096719,
          2509.468969313334,
          2510.8696185299495,
          2512.2702677465645,
          2474.4527388979536,
          2475.8533881145686,
          2477.254037331184,
          2478.654686547799,
          2480.0553357644144,
          2481.4559849810294,
          2482.856634197645,
          2484.25728341426,
          2485.657932630875,
          2487.0585818474906,
          2488.4592310641056,
          2489.859880280721,
          2491.2605294973364,
          2492.6611787139514,
          2494.061827930567,
          2495.4624771471817,
          2496.863126363797,
          2498.263775580412,
          2499.6644247970276,
          2501.065074013643,
          2502.465723230258,
          2503.8663724468734,
          2505.2670216634883,
          2506.6676708801037,
          2508.068320096719,
          2509.468969313334,
          2510.8696185299495,
          2512.2702677465645,
          2513.67091696318,
          2515.071566179795,
          2516.4722153964103,
          2474.4527388979536,
          2475.8533881145686,
          2477.254037331184,
          2478.654686547799,
          2480.0553357644144,
          2481.4559849810294,
          2482.856634197645,
          2484.25728341426,
          2485.657932630875,
          2487.0585818474906,
          2488.4592310641056,
          2489.859880280721,
          2491.2605294973364,
          2492.6611787139514,
          2494.061827930567,
          2495.4624771471817,
          2496.863126363797,
          2498.263775580412,
          2499.6644247970276,
          2501.065074013643,
          2502.465723230258,
          2503.8663724468734,
          2505.2670216634883,
          2506.6676708801037,
          2508.068320096719,
          2509.468969313334,
          2510.8696185299495,
          2512.2702677465645,
          2513.67091696318,
          2515.071566179795,
          2474.4527388979536,
          2475.8533881145686,
          2477.254037331184,
          2478.654686547799,
          2480.0553357644144,
          2481.4559849810294,
          2482.856634197645,
          2484.25728341426,
          2485.657932630875,
          2487.0585818474906,
          2488.4592310641056,
          2489.859880280721,
          2491.2605294973364,
          2492.6611787139514,
          2494.061827930567,
          2495.4624771471817,
          2496.863126363797,
          2498.263775580412,
          2499.6644247970276,
          2501.065074013643,
          2502.465723230258,
          2503.8663724468734,
          2505.2670216634883,
          2506.6676708801037,
          2508.068320096719,
          2509.468969313334,
          2510.8696185299495,
          2512.2702677465645,
          2513.67091696318,
          2515.071566179795,
          2516.4722153964103,
          2474.4527388979536,
          2475.8533881145686,
          2477.254037331184,
          2478.654686547799,
          2480.0553357644144,
          2481.4559849810294,
          2482.856634197645,
          2484.25728341426,
          2485.657932630875,
          2487.0585818474906,
          2488.4592310641056,
          2489.859880280721,
          2491.2605294973364,
          2492.6611787139514,
          2494.061827930567,
          2495.4624771471817,
          2496.863126363797,
          2498.263775580412,
          2499.6644247970276,
          2501.065074013643,
          2502.465723230258,
          2503.8663724468734,
          2505.2670216634883,
          2506.6676708801037,
          2508.068320096719,
          2509.468969313334,
          2510.8696185299495,
          2512.2702677465645,
          2513.67091696318,
          2515.071566179795,
          2474.4527388979536,
          2475.8533881145686,
          2477.254037331184,
          2478.654686547799,
          2480.0553357644144,
          2481.4559849810294,
          2482.856634197645,
          2484.25728341426,
          2485.657932630875,
          2487.0585818474906,
          2488.4592310641056,
          2489.859880280721,
          2491.2605294973364,
          2492.6611787139514,
          2494.061827930567,
          2495.4624771471817,
          2496.863126363797,
          2498.263775580412,
          2499.6644247970276,
          2501.065074013643,
          2502.465723230258,
          2503.8663724468734,
          2505.2670216634883,
          2506.6676708801037,
          2508.068320096719,
          2509.468969313334,
          2510.8696185299495,
          2512.2702677465645,
          2513.67091696318,
          2515.071566179795,
          2516.4722153964103,
          2474.4527388979536,
          2475.8533881145686,
          2477.254037331184,
          2478.654686547799,
          2480.0553357644144,
          2481.4559849810294,
          2482.856634197645,
          2484.25728341426,
          2485.657932630875,
          2487.0585818474906,
          2488.4592310641056,
          2489.859880280721,
          2491.2605294973364,
          2492.6611787139514,
          2494.061827930567,
          2495.4624771471817,
          2496.863126363797,
          2498.263775580412,
          2499.6644247970276,
          2501.065074013643,
          2502.465723230258,
          2503.8663724468734,
          2505.2670216634883,
          2506.6676708801037,
          2508.068320096719,
          2509.468969313334,
          2510.8696185299495,
          2512.2702677465645,
          2513.67091696318,
          2515.071566179795,
          2516.4722153964103,
          2474.4527388979536,
          2475.8533881145686,
          2477.254037331184,
          2478.654686547799,
          2480.0553357644144,
          2481.4559849810294,
          2482.856634197645,
          2484.25728341426,
          2485.657932630875,
          2487.0585818474906,
          2488.4592310641056,
          2489.859880280721,
          2491.2605294973364,
          2492.6611787139514,
          2494.061827930567,
          2495.4624771471817,
          2496.863126363797,
          2498.263775580412,
          2499.6644247970276,
          2501.065074013643,
          2502.465723230258,
          2503.8663724468734,
          2505.2670216634883,
          2506.6676708801037,
          2508.068320096719,
          2509.468969313334,
          2510.8696185299495,
          2512.2702677465645,
          2513.67091696318,
          2515.071566179795,
          2474.4527388979536,
          2475.8533881145686,
          2477.254037331184,
          2478.654686547799,
          2480.0553357644144,
          2481.4559849810294,
          2482.856634197645,
          2484.25728341426,
          2485.657932630875,
          2487.0585818474906,
          2488.4592310641056,
          2489.859880280721,
          2491.2605294973364,
          2492.6611787139514,
          2494.061827930567,
          2495.4624771471817,
          2496.863126363797,
          2498.263775580412,
          2499.6644247970276,
          2501.065074013643,
          2502.465723230258,
          2503.8663724468734,
          2505.2670216634883,
          2506.6676708801037,
          2508.068320096719,
          2509.468969313334,
          2510.8696185299495,
          2512.2702677465645,
          2513.67091696318,
          2515.071566179795,
          2516.4722153964103,
          2474.4527388979536,
          2475.8533881145686,
          2477.254037331184,
          2478.654686547799,
          2480.0553357644144,
          2481.4559849810294,
          2482.856634197645,
          2484.25728341426,
          2485.657932630875,
          2487.0585818474906,
          2488.4592310641056,
          2489.859880280721,
          2491.2605294973364,
          2492.6611787139514,
          2494.061827930567,
          2495.4624771471817,
          2496.863126363797,
          2498.263775580412,
          2499.6644247970276,
          2501.065074013643,
          2502.465723230258,
          2503.8663724468734,
          2505.2670216634883,
          2506.6676708801037,
          2508.068320096719,
          2509.468969313334,
          2512.2702677465645,
          2513.67091696318,
          2515.071566179795,
          2474.4527388979536,
          2475.8533881145686,
          2477.254037331184,
          2478.654686547799,
          2480.0553357644144,
          2481.4559849810294,
          2482.856634197645,
          2484.25728341426,
          2485.657932630875,
          2487.0585818474906,
          2488.4592310641056,
          2489.859880280721,
          2491.2605294973364,
          2492.6611787139514,
          2494.061827930567,
          2495.4624771471817,
          2496.863126363797,
          2498.263775580412,
          2499.6644247970276,
          2501.065074013643,
          2502.465723230258,
          2503.8663724468734,
          2505.2670216634883,
          2506.6676708801037,
          2509.468969313334,
          2510.8696185299495,
          2512.2702677465645,
          2513.67091696318,
          2515.071566179795,
          2516.4722153964103
         ]
        },
        {
         "marker": {
          "color": "rgba(152,0,1000,0.5)",
          "size": 10
         },
         "mode": "lines",
         "name": "Polinomial",
         "type": "scatter",
         "x": [
          1,
          2,
          3,
          4,
          5,
          6,
          7,
          8,
          9,
          10,
          11,
          12,
          13,
          14,
          15,
          16,
          17,
          18,
          19,
          20,
          21,
          22,
          23,
          24,
          25,
          26,
          27,
          28,
          29,
          30,
          31,
          32,
          33,
          34,
          35,
          36,
          37,
          38,
          39,
          40,
          41,
          42,
          43,
          44,
          45,
          46,
          47,
          48,
          49,
          50,
          51,
          52,
          53,
          54,
          55,
          56,
          57,
          58,
          59,
          60,
          61,
          62,
          63,
          64,
          65,
          66,
          67,
          68,
          69,
          70,
          71,
          72,
          73,
          74,
          75,
          76,
          77,
          78,
          79,
          80,
          81,
          82,
          83,
          84,
          85,
          86,
          87,
          88,
          89,
          90,
          91,
          92,
          93,
          94,
          95,
          96,
          97,
          98,
          99,
          100,
          101,
          102,
          103,
          104,
          105,
          106,
          107,
          108,
          109,
          110,
          111,
          112,
          113,
          114,
          115,
          116,
          117,
          118,
          119,
          120,
          121,
          122,
          123,
          124,
          125,
          126,
          127,
          128,
          129,
          130,
          131,
          132,
          133,
          134,
          135,
          136,
          137,
          138,
          139,
          140,
          141,
          142,
          143,
          144,
          145,
          146,
          147,
          148,
          149,
          150,
          151,
          152,
          153,
          154,
          155,
          156,
          157,
          158,
          159,
          160,
          161,
          162,
          163,
          164,
          165,
          166,
          167,
          168,
          169,
          170,
          171,
          172,
          173,
          174,
          175,
          176,
          177,
          178,
          179,
          180,
          181,
          182,
          183,
          184,
          185,
          186,
          187,
          188,
          189,
          190,
          191,
          192,
          193,
          194,
          195,
          196,
          197,
          198,
          199,
          200,
          201,
          202,
          203,
          204,
          205,
          206,
          207,
          208,
          209,
          210,
          211,
          212,
          213,
          214,
          215,
          216,
          217,
          218,
          219,
          220,
          221,
          222,
          223,
          224,
          225,
          226,
          227,
          228,
          229,
          230,
          231,
          232,
          233,
          234,
          235,
          236,
          237,
          238,
          239,
          240,
          241,
          242,
          243,
          244,
          245,
          246,
          247,
          248,
          249,
          250,
          251,
          252,
          253,
          254,
          255,
          256,
          257,
          258,
          259,
          260,
          261,
          262,
          263,
          264,
          265,
          266,
          267,
          268,
          269,
          270,
          271,
          272,
          273,
          274,
          275,
          276,
          277,
          278,
          279,
          280,
          281,
          282,
          283,
          284,
          285,
          286,
          287,
          288,
          289,
          290,
          291,
          292,
          293,
          294,
          295,
          296,
          297,
          298,
          299,
          300,
          301,
          302,
          303,
          304,
          305,
          306,
          307,
          308,
          309,
          310,
          311,
          312,
          313,
          314,
          315,
          316,
          317,
          318,
          319,
          320,
          321,
          322,
          323,
          324,
          325,
          326,
          327,
          328,
          329,
          330,
          332,
          333,
          334,
          335,
          336,
          337,
          338,
          339,
          340,
          341,
          342,
          343,
          344,
          345,
          346,
          347,
          348,
          349,
          350,
          351,
          352,
          353,
          354,
          355,
          356,
          357,
          358,
          360,
          361,
          362,
          363,
          364,
          365
         ],
         "y": [
          2079.6140672925185,
          2599.9507609175735,
          2625.1358258278533,
          2509.3356651119393,
          2414.0538946569604,
          2387.824294382589,
          2421.4574720150295,
          2484.076301736556,
          2544.4873311892907,
          2581.7872683380874,
          2588.495364609119,
          2568.9340025152806,
          2535.051074659804,
          2501.388806571721,
          2480.454528276462,
          2479.339538836505,
          2498.062634308243,
          2529.7850826747044,
          2562.7538292804993,
          2583.5795031763873,
          2581.245368538078,
          2551.072725942012,
          2497.737415820945,
          2436.34101081698,
          2390.4890050595886,
          2386.3168165261186,
          2441.432713738296,
          2547.8148600222803,
          2647.8075372414924,
          2602.5092668595053,
          2152.0329885917045,
          2079.6140672925185,
          2599.9507609175735,
          2625.1358258278533,
          2509.3356651119393,
          2414.0538946569604,
          2387.824294382589,
          2421.4574720150295,
          2484.076301736556,
          2544.4873311892907,
          2581.7872683380874,
          2588.495364609119,
          2568.9340025152806,
          2535.051074659804,
          2501.388806571721,
          2480.454528276462,
          2479.339538836505,
          2498.062634308243,
          2529.7850826747044,
          2562.7538292804993,
          2583.5795031763873,
          2581.245368538078,
          2551.072725942012,
          2497.737415820945,
          2436.34101081698,
          2390.4890050595886,
          2386.3168165261186,
          2441.432713738296,
          2547.8148600222803,
          2079.6140672925185,
          2599.9507609175735,
          2625.1358258278533,
          2509.3356651119393,
          2414.0538946569604,
          2387.824294382589,
          2421.4574720150295,
          2484.076301736556,
          2544.4873311892907,
          2581.7872683380874,
          2588.495364609119,
          2568.9340025152806,
          2535.051074659804,
          2501.388806571721,
          2480.454528276462,
          2479.339538836505,
          2498.062634308243,
          2529.7850826747044,
          2562.7538292804993,
          2583.5795031763873,
          2581.245368538078,
          2551.072725942012,
          2497.737415820945,
          2436.34101081698,
          2390.4890050595886,
          2386.3168165261186,
          2441.432713738296,
          2547.8148600222803,
          2647.8075372414924,
          2602.5092668595053,
          2152.0329885917045,
          2079.6140672925185,
          2599.9507609175735,
          2625.1358258278533,
          2509.3356651119393,
          2414.0538946569604,
          2387.824294382589,
          2421.4574720150295,
          2484.076301736556,
          2544.4873311892907,
          2581.7872683380874,
          2588.495364609119,
          2568.9340025152806,
          2535.051074659804,
          2501.388806571721,
          2480.454528276462,
          2479.339538836505,
          2498.062634308243,
          2529.7850826747044,
          2562.7538292804993,
          2583.5795031763873,
          2581.245368538078,
          2551.072725942012,
          2497.737415820945,
          2436.34101081698,
          2390.4890050595886,
          2386.3168165261186,
          2441.432713738296,
          2547.8148600222803,
          2647.8075372414924,
          2602.5092668595053,
          2079.6140672925185,
          2599.9507609175735,
          2625.1358258278533,
          2509.3356651119393,
          2414.0538946569604,
          2387.824294382589,
          2421.4574720150295,
          2484.076301736556,
          2544.4873311892907,
          2581.7872683380874,
          2588.495364609119,
          2568.9340025152806,
          2535.051074659804,
          2501.388806571721,
          2480.454528276462,
          2479.339538836505,
          2498.062634308243,
          2529.7850826747044,
          2562.7538292804993,
          2583.5795031763873,
          2581.245368538078,
          2551.072725942012,
          2497.737415820945,
          2436.34101081698,
          2390.4890050595886,
          2386.3168165261186,
          2441.432713738296,
          2547.8148600222803,
          2647.8075372414924,
          2602.5092668595053,
          2152.0329885917045,
          2079.6140672925185,
          2599.9507609175735,
          2625.1358258278533,
          2509.3356651119393,
          2414.0538946569604,
          2387.824294382589,
          2421.4574720150295,
          2484.076301736556,
          2544.4873311892907,
          2581.7872683380874,
          2588.495364609119,
          2568.9340025152806,
          2535.051074659804,
          2501.388806571721,
          2480.454528276462,
          2479.339538836505,
          2498.062634308243,
          2529.7850826747044,
          2562.7538292804993,
          2583.5795031763873,
          2581.245368538078,
          2551.072725942012,
          2497.737415820945,
          2436.34101081698,
          2390.4890050595886,
          2386.3168165261186,
          2441.432713738296,
          2547.8148600222803,
          2647.8075372414924,
          2602.5092668595053,
          2079.6140672925185,
          2599.9507609175735,
          2625.1358258278533,
          2509.3356651119393,
          2414.0538946569604,
          2387.824294382589,
          2421.4574720150295,
          2484.076301736556,
          2544.4873311892907,
          2581.7872683380874,
          2588.495364609119,
          2568.9340025152806,
          2535.051074659804,
          2501.388806571721,
          2480.454528276462,
          2479.339538836505,
          2498.062634308243,
          2529.7850826747044,
          2562.7538292804993,
          2583.5795031763873,
          2581.245368538078,
          2551.072725942012,
          2497.737415820945,
          2436.34101081698,
          2390.4890050595886,
          2386.3168165261186,
          2441.432713738296,
          2547.8148600222803,
          2647.8075372414924,
          2602.5092668595053,
          2152.0329885917045,
          2079.6140672925185,
          2599.9507609175735,
          2625.1358258278533,
          2509.3356651119393,
          2414.0538946569604,
          2387.824294382589,
          2421.4574720150295,
          2484.076301736556,
          2544.4873311892907,
          2581.7872683380874,
          2588.495364609119,
          2568.9340025152806,
          2535.051074659804,
          2501.388806571721,
          2480.454528276462,
          2479.339538836505,
          2498.062634308243,
          2529.7850826747044,
          2562.7538292804993,
          2583.5795031763873,
          2581.245368538078,
          2551.072725942012,
          2497.737415820945,
          2436.34101081698,
          2390.4890050595886,
          2386.3168165261186,
          2441.432713738296,
          2547.8148600222803,
          2647.8075372414924,
          2602.5092668595053,
          2152.0329885917045,
          2079.6140672925185,
          2599.9507609175735,
          2625.1358258278533,
          2509.3356651119393,
          2414.0538946569604,
          2387.824294382589,
          2421.4574720150295,
          2484.076301736556,
          2544.4873311892907,
          2581.7872683380874,
          2588.495364609119,
          2568.9340025152806,
          2535.051074659804,
          2501.388806571721,
          2480.454528276462,
          2479.339538836505,
          2498.062634308243,
          2529.7850826747044,
          2562.7538292804993,
          2583.5795031763873,
          2581.245368538078,
          2551.072725942012,
          2497.737415820945,
          2436.34101081698,
          2390.4890050595886,
          2386.3168165261186,
          2441.432713738296,
          2547.8148600222803,
          2647.8075372414924,
          2602.5092668595053,
          2079.6140672925185,
          2599.9507609175735,
          2625.1358258278533,
          2509.3356651119393,
          2414.0538946569604,
          2387.824294382589,
          2421.4574720150295,
          2484.076301736556,
          2544.4873311892907,
          2581.7872683380874,
          2588.495364609119,
          2568.9340025152806,
          2535.051074659804,
          2501.388806571721,
          2480.454528276462,
          2479.339538836505,
          2498.062634308243,
          2529.7850826747044,
          2562.7538292804993,
          2583.5795031763873,
          2581.245368538078,
          2551.072725942012,
          2497.737415820945,
          2436.34101081698,
          2390.4890050595886,
          2386.3168165261186,
          2441.432713738296,
          2547.8148600222803,
          2647.8075372414924,
          2602.5092668595053,
          2152.0329885917045,
          2079.6140672925185,
          2599.9507609175735,
          2625.1358258278533,
          2509.3356651119393,
          2414.0538946569604,
          2387.824294382589,
          2421.4574720150295,
          2484.076301736556,
          2544.4873311892907,
          2581.7872683380874,
          2588.495364609119,
          2568.9340025152806,
          2535.051074659804,
          2501.388806571721,
          2480.454528276462,
          2479.339538836505,
          2498.062634308243,
          2529.7850826747044,
          2562.7538292804993,
          2583.5795031763873,
          2581.245368538078,
          2551.072725942012,
          2497.737415820945,
          2436.34101081698,
          2390.4890050595886,
          2386.3168165261186,
          2547.8148600222803,
          2647.8075372414924,
          2602.5092668595053,
          2079.6140672925185,
          2599.9507609175735,
          2625.1358258278533,
          2509.3356651119393,
          2414.0538946569604,
          2387.824294382589,
          2421.4574720150295,
          2484.076301736556,
          2544.4873311892907,
          2581.7872683380874,
          2588.495364609119,
          2568.9340025152806,
          2535.051074659804,
          2501.388806571721,
          2480.454528276462,
          2479.339538836505,
          2498.062634308243,
          2529.7850826747044,
          2562.7538292804993,
          2583.5795031763873,
          2581.245368538078,
          2551.072725942012,
          2497.737415820945,
          2436.34101081698,
          2386.3168165261186,
          2441.432713738296,
          2547.8148600222803,
          2647.8075372414924,
          2602.5092668595053,
          2152.0329885917045
         ]
        },
        {
         "marker": {
          "color": "rgba(2,100,100,0.5)",
          "size": 10
         },
         "mode": "lines",
         "name": "SVM",
         "type": "scatter",
         "x": [
          1,
          2,
          3,
          4,
          5,
          6,
          7,
          8,
          9,
          10,
          11,
          12,
          13,
          14,
          15,
          16,
          17,
          18,
          19,
          20,
          21,
          22,
          23,
          24,
          25,
          26,
          27,
          28,
          29,
          30,
          31,
          32,
          33,
          34,
          35,
          36,
          37,
          38,
          39,
          40,
          41,
          42,
          43,
          44,
          45,
          46,
          47,
          48,
          49,
          50,
          51,
          52,
          53,
          54,
          55,
          56,
          57,
          58,
          59,
          60,
          61,
          62,
          63,
          64,
          65,
          66,
          67,
          68,
          69,
          70,
          71,
          72,
          73,
          74,
          75,
          76,
          77,
          78,
          79,
          80,
          81,
          82,
          83,
          84,
          85,
          86,
          87,
          88,
          89,
          90,
          91,
          92,
          93,
          94,
          95,
          96,
          97,
          98,
          99,
          100,
          101,
          102,
          103,
          104,
          105,
          106,
          107,
          108,
          109,
          110,
          111,
          112,
          113,
          114,
          115,
          116,
          117,
          118,
          119,
          120,
          121,
          122,
          123,
          124,
          125,
          126,
          127,
          128,
          129,
          130,
          131,
          132,
          133,
          134,
          135,
          136,
          137,
          138,
          139,
          140,
          141,
          142,
          143,
          144,
          145,
          146,
          147,
          148,
          149,
          150,
          151,
          152,
          153,
          154,
          155,
          156,
          157,
          158,
          159,
          160,
          161,
          162,
          163,
          164,
          165,
          166,
          167,
          168,
          169,
          170,
          171,
          172,
          173,
          174,
          175,
          176,
          177,
          178,
          179,
          180,
          181,
          182,
          183,
          184,
          185,
          186,
          187,
          188,
          189,
          190,
          191,
          192,
          193,
          194,
          195,
          196,
          197,
          198,
          199,
          200,
          201,
          202,
          203,
          204,
          205,
          206,
          207,
          208,
          209,
          210,
          211,
          212,
          213,
          214,
          215,
          216,
          217,
          218,
          219,
          220,
          221,
          222,
          223,
          224,
          225,
          226,
          227,
          228,
          229,
          230,
          231,
          232,
          233,
          234,
          235,
          236,
          237,
          238,
          239,
          240,
          241,
          242,
          243,
          244,
          245,
          246,
          247,
          248,
          249,
          250,
          251,
          252,
          253,
          254,
          255,
          256,
          257,
          258,
          259,
          260,
          261,
          262,
          263,
          264,
          265,
          266,
          267,
          268,
          269,
          270,
          271,
          272,
          273,
          274,
          275,
          276,
          277,
          278,
          279,
          280,
          281,
          282,
          283,
          284,
          285,
          286,
          287,
          288,
          289,
          290,
          291,
          292,
          293,
          294,
          295,
          296,
          297,
          298,
          299,
          300,
          301,
          302,
          303,
          304,
          305,
          306,
          307,
          308,
          309,
          310,
          311,
          312,
          313,
          314,
          315,
          316,
          317,
          318,
          319,
          320,
          321,
          322,
          323,
          324,
          325,
          326,
          327,
          328,
          329,
          330,
          332,
          333,
          334,
          335,
          336,
          337,
          338,
          339,
          340,
          341,
          342,
          343,
          344,
          345,
          346,
          347,
          348,
          349,
          350,
          351,
          352,
          353,
          354,
          355,
          356,
          357,
          358,
          360,
          361,
          362,
          363,
          364,
          365
         ],
         "y": [
          3057.2052631578945,
          3059.1,
          3060.9947368421053,
          3062.8894736842108,
          3064.784210526316,
          3066.678947368421,
          3068.573684210527,
          3070.468421052632,
          3072.363157894738,
          3074.257894736843,
          3076.152631578949,
          3078.0473684210538,
          3079.9421052631596,
          3081.8368421052646,
          3083.7315789473696,
          3085.6263157894755,
          3087.5210526315805,
          3089.4157894736863,
          3091.310526315792,
          3093.2052631578968,
          3095.1000000000026,
          3096.9947368421085,
          3098.8894736842126,
          3100.7842105263185,
          3102.6789473684244,
          3104.5736842105302,
          3106.4684210526343,
          3108.36315789474,
          3110.257894736846,
          3112.15263157895,
          3114.047368421056,
          3057.2052631578945,
          3059.1,
          3060.9947368421053,
          3062.8894736842108,
          3064.784210526316,
          3066.678947368421,
          3068.573684210527,
          3070.468421052632,
          3072.363157894738,
          3074.257894736843,
          3076.152631578949,
          3078.0473684210538,
          3079.9421052631596,
          3081.8368421052646,
          3083.7315789473696,
          3085.6263157894755,
          3087.5210526315805,
          3089.4157894736863,
          3091.310526315792,
          3093.2052631578968,
          3095.1000000000026,
          3096.9947368421085,
          3098.8894736842126,
          3100.7842105263185,
          3102.6789473684244,
          3104.5736842105302,
          3106.4684210526343,
          3108.36315789474,
          3057.2052631578945,
          3059.1,
          3060.9947368421053,
          3062.8894736842108,
          3064.784210526316,
          3066.678947368421,
          3068.573684210527,
          3070.468421052632,
          3072.363157894738,
          3074.257894736843,
          3076.152631578949,
          3078.0473684210538,
          3079.9421052631596,
          3081.8368421052646,
          3083.7315789473696,
          3085.6263157894755,
          3087.5210526315805,
          3089.4157894736863,
          3091.310526315792,
          3093.2052631578968,
          3095.1000000000026,
          3096.9947368421085,
          3098.8894736842126,
          3100.7842105263185,
          3102.6789473684244,
          3104.5736842105302,
          3106.4684210526343,
          3108.36315789474,
          3110.257894736846,
          3112.15263157895,
          3114.047368421056,
          3057.2052631578945,
          3059.1,
          3060.9947368421053,
          3062.8894736842108,
          3064.784210526316,
          3066.678947368421,
          3068.573684210527,
          3070.468421052632,
          3072.363157894738,
          3074.257894736843,
          3076.152631578949,
          3078.0473684210538,
          3079.9421052631596,
          3081.8368421052646,
          3083.7315789473696,
          3085.6263157894755,
          3087.5210526315805,
          3089.4157894736863,
          3091.310526315792,
          3093.2052631578968,
          3095.1000000000026,
          3096.9947368421085,
          3098.8894736842126,
          3100.7842105263185,
          3102.6789473684244,
          3104.5736842105302,
          3106.4684210526343,
          3108.36315789474,
          3110.257894736846,
          3112.15263157895,
          3057.2052631578945,
          3059.1,
          3060.9947368421053,
          3062.8894736842108,
          3064.784210526316,
          3066.678947368421,
          3068.573684210527,
          3070.468421052632,
          3072.363157894738,
          3074.257894736843,
          3076.152631578949,
          3078.0473684210538,
          3079.9421052631596,
          3081.8368421052646,
          3083.7315789473696,
          3085.6263157894755,
          3087.5210526315805,
          3089.4157894736863,
          3091.310526315792,
          3093.2052631578968,
          3095.1000000000026,
          3096.9947368421085,
          3098.8894736842126,
          3100.7842105263185,
          3102.6789473684244,
          3104.5736842105302,
          3106.4684210526343,
          3108.36315789474,
          3110.257894736846,
          3112.15263157895,
          3114.047368421056,
          3057.2052631578945,
          3059.1,
          3060.9947368421053,
          3062.8894736842108,
          3064.784210526316,
          3066.678947368421,
          3068.573684210527,
          3070.468421052632,
          3072.363157894738,
          3074.257894736843,
          3076.152631578949,
          3078.0473684210538,
          3079.9421052631596,
          3081.8368421052646,
          3083.7315789473696,
          3085.6263157894755,
          3087.5210526315805,
          3089.4157894736863,
          3091.310526315792,
          3093.2052631578968,
          3095.1000000000026,
          3096.9947368421085,
          3098.8894736842126,
          3100.7842105263185,
          3102.6789473684244,
          3104.5736842105302,
          3106.4684210526343,
          3108.36315789474,
          3110.257894736846,
          3112.15263157895,
          3057.2052631578945,
          3059.1,
          3060.9947368421053,
          3062.8894736842108,
          3064.784210526316,
          3066.678947368421,
          3068.573684210527,
          3070.468421052632,
          3072.363157894738,
          3074.257894736843,
          3076.152631578949,
          3078.0473684210538,
          3079.9421052631596,
          3081.8368421052646,
          3083.7315789473696,
          3085.6263157894755,
          3087.5210526315805,
          3089.4157894736863,
          3091.310526315792,
          3093.2052631578968,
          3095.1000000000026,
          3096.9947368421085,
          3098.8894736842126,
          3100.7842105263185,
          3102.6789473684244,
          3104.5736842105302,
          3106.4684210526343,
          3108.36315789474,
          3110.257894736846,
          3112.15263157895,
          3114.047368421056,
          3057.2052631578945,
          3059.1,
          3060.9947368421053,
          3062.8894736842108,
          3064.784210526316,
          3066.678947368421,
          3068.573684210527,
          3070.468421052632,
          3072.363157894738,
          3074.257894736843,
          3076.152631578949,
          3078.0473684210538,
          3079.9421052631596,
          3081.8368421052646,
          3083.7315789473696,
          3085.6263157894755,
          3087.5210526315805,
          3089.4157894736863,
          3091.310526315792,
          3093.2052631578968,
          3095.1000000000026,
          3096.9947368421085,
          3098.8894736842126,
          3100.7842105263185,
          3102.6789473684244,
          3104.5736842105302,
          3106.4684210526343,
          3108.36315789474,
          3110.257894736846,
          3112.15263157895,
          3114.047368421056,
          3057.2052631578945,
          3059.1,
          3060.9947368421053,
          3062.8894736842108,
          3064.784210526316,
          3066.678947368421,
          3068.573684210527,
          3070.468421052632,
          3072.363157894738,
          3074.257894736843,
          3076.152631578949,
          3078.0473684210538,
          3079.9421052631596,
          3081.8368421052646,
          3083.7315789473696,
          3085.6263157894755,
          3087.5210526315805,
          3089.4157894736863,
          3091.310526315792,
          3093.2052631578968,
          3095.1000000000026,
          3096.9947368421085,
          3098.8894736842126,
          3100.7842105263185,
          3102.6789473684244,
          3104.5736842105302,
          3106.4684210526343,
          3108.36315789474,
          3110.257894736846,
          3112.15263157895,
          3057.2052631578945,
          3059.1,
          3060.9947368421053,
          3062.8894736842108,
          3064.784210526316,
          3066.678947368421,
          3068.573684210527,
          3070.468421052632,
          3072.363157894738,
          3074.257894736843,
          3076.152631578949,
          3078.0473684210538,
          3079.9421052631596,
          3081.8368421052646,
          3083.7315789473696,
          3085.6263157894755,
          3087.5210526315805,
          3089.4157894736863,
          3091.310526315792,
          3093.2052631578968,
          3095.1000000000026,
          3096.9947368421085,
          3098.8894736842126,
          3100.7842105263185,
          3102.6789473684244,
          3104.5736842105302,
          3106.4684210526343,
          3108.36315789474,
          3110.257894736846,
          3112.15263157895,
          3114.047368421056,
          3057.2052631578945,
          3059.1,
          3060.9947368421053,
          3062.8894736842108,
          3064.784210526316,
          3066.678947368421,
          3068.573684210527,
          3070.468421052632,
          3072.363157894738,
          3074.257894736843,
          3076.152631578949,
          3078.0473684210538,
          3079.9421052631596,
          3081.8368421052646,
          3083.7315789473696,
          3085.6263157894755,
          3087.5210526315805,
          3089.4157894736863,
          3091.310526315792,
          3093.2052631578968,
          3095.1000000000026,
          3096.9947368421085,
          3098.8894736842126,
          3100.7842105263185,
          3102.6789473684244,
          3104.5736842105302,
          3108.36315789474,
          3110.257894736846,
          3112.15263157895,
          3057.2052631578945,
          3059.1,
          3060.9947368421053,
          3062.8894736842108,
          3064.784210526316,
          3066.678947368421,
          3068.573684210527,
          3070.468421052632,
          3072.363157894738,
          3074.257894736843,
          3076.152631578949,
          3078.0473684210538,
          3079.9421052631596,
          3081.8368421052646,
          3083.7315789473696,
          3085.6263157894755,
          3087.5210526315805,
          3089.4157894736863,
          3091.310526315792,
          3093.2052631578968,
          3095.1000000000026,
          3096.9947368421085,
          3098.8894736842126,
          3100.7842105263185,
          3104.5736842105302,
          3106.4684210526343,
          3108.36315789474,
          3110.257894736846,
          3112.15263157895,
          3114.047368421056
         ]
        },
        {
         "marker": {
          "color": "rgba(2,0,1000,0.5)",
          "size": 10
         },
         "mode": "lines",
         "name": "Tree",
         "type": "scatter",
         "x": [
          1,
          2,
          3,
          4,
          5,
          6,
          7,
          8,
          9,
          10,
          11,
          12,
          13,
          14,
          15,
          16,
          17,
          18,
          19,
          20,
          21,
          22,
          23,
          24,
          25,
          26,
          27,
          28,
          29,
          30,
          31,
          32,
          33,
          34,
          35,
          36,
          37,
          38,
          39,
          40,
          41,
          42,
          43,
          44,
          45,
          46,
          47,
          48,
          49,
          50,
          51,
          52,
          53,
          54,
          55,
          56,
          57,
          58,
          59,
          60,
          61,
          62,
          63,
          64,
          65,
          66,
          67,
          68,
          69,
          70,
          71,
          72,
          73,
          74,
          75,
          76,
          77,
          78,
          79,
          80,
          81,
          82,
          83,
          84,
          85,
          86,
          87,
          88,
          89,
          90,
          91,
          92,
          93,
          94,
          95,
          96,
          97,
          98,
          99,
          100,
          101,
          102,
          103,
          104,
          105,
          106,
          107,
          108,
          109,
          110,
          111,
          112,
          113,
          114,
          115,
          116,
          117,
          118,
          119,
          120,
          121,
          122,
          123,
          124,
          125,
          126,
          127,
          128,
          129,
          130,
          131,
          132,
          133,
          134,
          135,
          136,
          137,
          138,
          139,
          140,
          141,
          142,
          143,
          144,
          145,
          146,
          147,
          148,
          149,
          150,
          151,
          152,
          153,
          154,
          155,
          156,
          157,
          158,
          159,
          160,
          161,
          162,
          163,
          164,
          165,
          166,
          167,
          168,
          169,
          170,
          171,
          172,
          173,
          174,
          175,
          176,
          177,
          178,
          179,
          180,
          181,
          182,
          183,
          184,
          185,
          186,
          187,
          188,
          189,
          190,
          191,
          192,
          193,
          194,
          195,
          196,
          197,
          198,
          199,
          200,
          201,
          202,
          203,
          204,
          205,
          206,
          207,
          208,
          209,
          210,
          211,
          212,
          213,
          214,
          215,
          216,
          217,
          218,
          219,
          220,
          221,
          222,
          223,
          224,
          225,
          226,
          227,
          228,
          229,
          230,
          231,
          232,
          233,
          234,
          235,
          236,
          237,
          238,
          239,
          240,
          241,
          242,
          243,
          244,
          245,
          246,
          247,
          248,
          249,
          250,
          251,
          252,
          253,
          254,
          255,
          256,
          257,
          258,
          259,
          260,
          261,
          262,
          263,
          264,
          265,
          266,
          267,
          268,
          269,
          270,
          271,
          272,
          273,
          274,
          275,
          276,
          277,
          278,
          279,
          280,
          281,
          282,
          283,
          284,
          285,
          286,
          287,
          288,
          289,
          290,
          291,
          292,
          293,
          294,
          295,
          296,
          297,
          298,
          299,
          300,
          301,
          302,
          303,
          304,
          305,
          306,
          307,
          308,
          309,
          310,
          311,
          312,
          313,
          314,
          315,
          316,
          317,
          318,
          319,
          320,
          321,
          322,
          323,
          324,
          325,
          326,
          327,
          328,
          329,
          330,
          332,
          333,
          334,
          335,
          336,
          337,
          338,
          339,
          340,
          341,
          342,
          343,
          344,
          345,
          346,
          347,
          348,
          349,
          350,
          351,
          352,
          353,
          354,
          355,
          356,
          357,
          358,
          360,
          361,
          362,
          363,
          364,
          365
         ],
         "y": [
          2096.4166666666665,
          2485.75,
          2856.25,
          2397,
          2342.25,
          2309.5833333333335,
          2620.9166666666665,
          2458.1666666666665,
          2359.75,
          2873.8333333333335,
          2557.5,
          2459.4166666666665,
          2366,
          2615.9166666666665,
          2492.1666666666665,
          2372.5,
          2703.8333333333335,
          2645.5833333333335,
          2551,
          2288.3333333333335,
          2661.3333333333335,
          2503.9166666666665,
          2361.3333333333335,
          2733.75,
          2607.909090909091,
          2042.5,
          2416.7272727272725,
          2622.9166666666665,
          2679.4545454545455,
          2593.3636363636365,
          2153.5714285714284,
          2096.4166666666665,
          2485.75,
          2856.25,
          2397,
          2342.25,
          2309.5833333333335,
          2620.9166666666665,
          2458.1666666666665,
          2359.75,
          2873.8333333333335,
          2557.5,
          2459.4166666666665,
          2366,
          2615.9166666666665,
          2492.1666666666665,
          2372.5,
          2703.8333333333335,
          2645.5833333333335,
          2551,
          2288.3333333333335,
          2661.3333333333335,
          2503.9166666666665,
          2361.3333333333335,
          2733.75,
          2607.909090909091,
          2042.5,
          2416.7272727272725,
          2622.9166666666665,
          2096.4166666666665,
          2485.75,
          2856.25,
          2397,
          2342.25,
          2309.5833333333335,
          2620.9166666666665,
          2458.1666666666665,
          2359.75,
          2873.8333333333335,
          2557.5,
          2459.4166666666665,
          2366,
          2615.9166666666665,
          2492.1666666666665,
          2372.5,
          2703.8333333333335,
          2645.5833333333335,
          2551,
          2288.3333333333335,
          2661.3333333333335,
          2503.9166666666665,
          2361.3333333333335,
          2733.75,
          2607.909090909091,
          2042.5,
          2416.7272727272725,
          2622.9166666666665,
          2679.4545454545455,
          2593.3636363636365,
          2153.5714285714284,
          2096.4166666666665,
          2485.75,
          2856.25,
          2397,
          2342.25,
          2309.5833333333335,
          2620.9166666666665,
          2458.1666666666665,
          2359.75,
          2873.8333333333335,
          2557.5,
          2459.4166666666665,
          2366,
          2615.9166666666665,
          2492.1666666666665,
          2372.5,
          2703.8333333333335,
          2645.5833333333335,
          2551,
          2288.3333333333335,
          2661.3333333333335,
          2503.9166666666665,
          2361.3333333333335,
          2733.75,
          2607.909090909091,
          2042.5,
          2416.7272727272725,
          2622.9166666666665,
          2679.4545454545455,
          2593.3636363636365,
          2096.4166666666665,
          2485.75,
          2856.25,
          2397,
          2342.25,
          2309.5833333333335,
          2620.9166666666665,
          2458.1666666666665,
          2359.75,
          2873.8333333333335,
          2557.5,
          2459.4166666666665,
          2366,
          2615.9166666666665,
          2492.1666666666665,
          2372.5,
          2703.8333333333335,
          2645.5833333333335,
          2551,
          2288.3333333333335,
          2661.3333333333335,
          2503.9166666666665,
          2361.3333333333335,
          2733.75,
          2607.909090909091,
          2042.5,
          2416.7272727272725,
          2622.9166666666665,
          2679.4545454545455,
          2593.3636363636365,
          2153.5714285714284,
          2096.4166666666665,
          2485.75,
          2856.25,
          2397,
          2342.25,
          2309.5833333333335,
          2620.9166666666665,
          2458.1666666666665,
          2359.75,
          2873.8333333333335,
          2557.5,
          2459.4166666666665,
          2366,
          2615.9166666666665,
          2492.1666666666665,
          2372.5,
          2703.8333333333335,
          2645.5833333333335,
          2551,
          2288.3333333333335,
          2661.3333333333335,
          2503.9166666666665,
          2361.3333333333335,
          2733.75,
          2607.909090909091,
          2042.5,
          2416.7272727272725,
          2622.9166666666665,
          2679.4545454545455,
          2593.3636363636365,
          2096.4166666666665,
          2485.75,
          2856.25,
          2397,
          2342.25,
          2309.5833333333335,
          2620.9166666666665,
          2458.1666666666665,
          2359.75,
          2873.8333333333335,
          2557.5,
          2459.4166666666665,
          2366,
          2615.9166666666665,
          2492.1666666666665,
          2372.5,
          2703.8333333333335,
          2645.5833333333335,
          2551,
          2288.3333333333335,
          2661.3333333333335,
          2503.9166666666665,
          2361.3333333333335,
          2733.75,
          2607.909090909091,
          2042.5,
          2416.7272727272725,
          2622.9166666666665,
          2679.4545454545455,
          2593.3636363636365,
          2153.5714285714284,
          2096.4166666666665,
          2485.75,
          2856.25,
          2397,
          2342.25,
          2309.5833333333335,
          2620.9166666666665,
          2458.1666666666665,
          2359.75,
          2873.8333333333335,
          2557.5,
          2459.4166666666665,
          2366,
          2615.9166666666665,
          2492.1666666666665,
          2372.5,
          2703.8333333333335,
          2645.5833333333335,
          2551,
          2288.3333333333335,
          2661.3333333333335,
          2503.9166666666665,
          2361.3333333333335,
          2733.75,
          2607.909090909091,
          2042.5,
          2416.7272727272725,
          2622.9166666666665,
          2679.4545454545455,
          2593.3636363636365,
          2153.5714285714284,
          2096.4166666666665,
          2485.75,
          2856.25,
          2397,
          2342.25,
          2309.5833333333335,
          2620.9166666666665,
          2458.1666666666665,
          2359.75,
          2873.8333333333335,
          2557.5,
          2459.4166666666665,
          2366,
          2615.9166666666665,
          2492.1666666666665,
          2372.5,
          2703.8333333333335,
          2645.5833333333335,
          2551,
          2288.3333333333335,
          2661.3333333333335,
          2503.9166666666665,
          2361.3333333333335,
          2733.75,
          2607.909090909091,
          2042.5,
          2416.7272727272725,
          2622.9166666666665,
          2679.4545454545455,
          2593.3636363636365,
          2096.4166666666665,
          2485.75,
          2856.25,
          2397,
          2342.25,
          2309.5833333333335,
          2620.9166666666665,
          2458.1666666666665,
          2359.75,
          2873.8333333333335,
          2557.5,
          2459.4166666666665,
          2366,
          2615.9166666666665,
          2492.1666666666665,
          2372.5,
          2703.8333333333335,
          2645.5833333333335,
          2551,
          2288.3333333333335,
          2661.3333333333335,
          2503.9166666666665,
          2361.3333333333335,
          2733.75,
          2607.909090909091,
          2042.5,
          2416.7272727272725,
          2622.9166666666665,
          2679.4545454545455,
          2593.3636363636365,
          2153.5714285714284,
          2096.4166666666665,
          2485.75,
          2856.25,
          2397,
          2342.25,
          2309.5833333333335,
          2620.9166666666665,
          2458.1666666666665,
          2359.75,
          2873.8333333333335,
          2557.5,
          2459.4166666666665,
          2366,
          2615.9166666666665,
          2492.1666666666665,
          2372.5,
          2703.8333333333335,
          2645.5833333333335,
          2551,
          2288.3333333333335,
          2661.3333333333335,
          2503.9166666666665,
          2361.3333333333335,
          2733.75,
          2607.909090909091,
          2042.5,
          2622.9166666666665,
          2679.4545454545455,
          2593.3636363636365,
          2096.4166666666665,
          2485.75,
          2856.25,
          2397,
          2342.25,
          2309.5833333333335,
          2620.9166666666665,
          2458.1666666666665,
          2359.75,
          2873.8333333333335,
          2557.5,
          2459.4166666666665,
          2366,
          2615.9166666666665,
          2492.1666666666665,
          2372.5,
          2703.8333333333335,
          2645.5833333333335,
          2551,
          2288.3333333333335,
          2661.3333333333335,
          2503.9166666666665,
          2361.3333333333335,
          2733.75,
          2042.5,
          2416.7272727272725,
          2622.9166666666665,
          2679.4545454545455,
          2593.3636363636365,
          2153.5714285714284
         ]
        },
        {
         "marker": {
          "color": "rgba(2,0,10,0.5)",
          "size": 10
         },
         "mode": "lines",
         "name": "KNN",
         "type": "scatter",
         "x": [
          1,
          2,
          3,
          4,
          5,
          6,
          7,
          8,
          9,
          10,
          11,
          12,
          13,
          14,
          15,
          16,
          17,
          18,
          19,
          20,
          21,
          22,
          23,
          24,
          25,
          26,
          27,
          28,
          29,
          30,
          31,
          32,
          33,
          34,
          35,
          36,
          37,
          38,
          39,
          40,
          41,
          42,
          43,
          44,
          45,
          46,
          47,
          48,
          49,
          50,
          51,
          52,
          53,
          54,
          55,
          56,
          57,
          58,
          59,
          60,
          61,
          62,
          63,
          64,
          65,
          66,
          67,
          68,
          69,
          70,
          71,
          72,
          73,
          74,
          75,
          76,
          77,
          78,
          79,
          80,
          81,
          82,
          83,
          84,
          85,
          86,
          87,
          88,
          89,
          90,
          91,
          92,
          93,
          94,
          95,
          96,
          97,
          98,
          99,
          100,
          101,
          102,
          103,
          104,
          105,
          106,
          107,
          108,
          109,
          110,
          111,
          112,
          113,
          114,
          115,
          116,
          117,
          118,
          119,
          120,
          121,
          122,
          123,
          124,
          125,
          126,
          127,
          128,
          129,
          130,
          131,
          132,
          133,
          134,
          135,
          136,
          137,
          138,
          139,
          140,
          141,
          142,
          143,
          144,
          145,
          146,
          147,
          148,
          149,
          150,
          151,
          152,
          153,
          154,
          155,
          156,
          157,
          158,
          159,
          160,
          161,
          162,
          163,
          164,
          165,
          166,
          167,
          168,
          169,
          170,
          171,
          172,
          173,
          174,
          175,
          176,
          177,
          178,
          179,
          180,
          181,
          182,
          183,
          184,
          185,
          186,
          187,
          188,
          189,
          190,
          191,
          192,
          193,
          194,
          195,
          196,
          197,
          198,
          199,
          200,
          201,
          202,
          203,
          204,
          205,
          206,
          207,
          208,
          209,
          210,
          211,
          212,
          213,
          214,
          215,
          216,
          217,
          218,
          219,
          220,
          221,
          222,
          223,
          224,
          225,
          226,
          227,
          228,
          229,
          230,
          231,
          232,
          233,
          234,
          235,
          236,
          237,
          238,
          239,
          240,
          241,
          242,
          243,
          244,
          245,
          246,
          247,
          248,
          249,
          250,
          251,
          252,
          253,
          254,
          255,
          256,
          257,
          258,
          259,
          260,
          261,
          262,
          263,
          264,
          265,
          266,
          267,
          268,
          269,
          270,
          271,
          272,
          273,
          274,
          275,
          276,
          277,
          278,
          279,
          280,
          281,
          282,
          283,
          284,
          285,
          286,
          287,
          288,
          289,
          290,
          291,
          292,
          293,
          294,
          295,
          296,
          297,
          298,
          299,
          300,
          301,
          302,
          303,
          304,
          305,
          306,
          307,
          308,
          309,
          310,
          311,
          312,
          313,
          314,
          315,
          316,
          317,
          318,
          319,
          320,
          321,
          322,
          323,
          324,
          325,
          326,
          327,
          328,
          329,
          330,
          332,
          333,
          334,
          335,
          336,
          337,
          338,
          339,
          340,
          341,
          342,
          343,
          344,
          345,
          346,
          347,
          348,
          349,
          350,
          351,
          352,
          353,
          354,
          355,
          356,
          357,
          358,
          360,
          361,
          362,
          363,
          364,
          365
         ],
         "y": [
          2096.4166666666665,
          2485.75,
          2856.25,
          2397,
          2342.25,
          2309.5833333333335,
          2620.9166666666665,
          2458.1666666666665,
          2359.75,
          2873.8333333333335,
          2557.5,
          2459.4166666666665,
          2366,
          2615.9166666666665,
          2492.1666666666665,
          2372.5,
          2703.8333333333335,
          2645.5833333333335,
          2551,
          2288.3333333333335,
          2661.3333333333335,
          2503.9166666666665,
          2361.3333333333335,
          2733.75,
          2683.0833333333335,
          2042.5,
          2278.6666666666665,
          2622.9166666666665,
          2770,
          2661.3333333333335,
          2453.6666666666665,
          2096.4166666666665,
          2485.75,
          2856.25,
          2397,
          2342.25,
          2309.5833333333335,
          2620.9166666666665,
          2458.1666666666665,
          2359.75,
          2873.8333333333335,
          2557.5,
          2459.4166666666665,
          2366,
          2615.9166666666665,
          2492.1666666666665,
          2372.5,
          2703.8333333333335,
          2645.5833333333335,
          2551,
          2288.3333333333335,
          2661.3333333333335,
          2503.9166666666665,
          2361.3333333333335,
          2733.75,
          2683.0833333333335,
          2042.5,
          2278.6666666666665,
          2622.9166666666665,
          2096.4166666666665,
          2485.75,
          2856.25,
          2397,
          2342.25,
          2309.5833333333335,
          2620.9166666666665,
          2458.1666666666665,
          2359.75,
          2873.8333333333335,
          2557.5,
          2459.4166666666665,
          2366,
          2615.9166666666665,
          2492.1666666666665,
          2372.5,
          2703.8333333333335,
          2645.5833333333335,
          2551,
          2288.3333333333335,
          2661.3333333333335,
          2503.9166666666665,
          2361.3333333333335,
          2733.75,
          2683.0833333333335,
          2042.5,
          2278.6666666666665,
          2622.9166666666665,
          2770,
          2661.3333333333335,
          2453.6666666666665,
          2096.4166666666665,
          2485.75,
          2856.25,
          2397,
          2342.25,
          2309.5833333333335,
          2620.9166666666665,
          2458.1666666666665,
          2359.75,
          2873.8333333333335,
          2557.5,
          2459.4166666666665,
          2366,
          2615.9166666666665,
          2492.1666666666665,
          2372.5,
          2703.8333333333335,
          2645.5833333333335,
          2551,
          2288.3333333333335,
          2661.3333333333335,
          2503.9166666666665,
          2361.3333333333335,
          2733.75,
          2683.0833333333335,
          2042.5,
          2278.6666666666665,
          2622.9166666666665,
          2770,
          2661.3333333333335,
          2096.4166666666665,
          2485.75,
          2856.25,
          2397,
          2342.25,
          2309.5833333333335,
          2620.9166666666665,
          2458.1666666666665,
          2359.75,
          2873.8333333333335,
          2557.5,
          2459.4166666666665,
          2366,
          2615.9166666666665,
          2492.1666666666665,
          2372.5,
          2703.8333333333335,
          2645.5833333333335,
          2551,
          2288.3333333333335,
          2661.3333333333335,
          2503.9166666666665,
          2361.3333333333335,
          2733.75,
          2683.0833333333335,
          2042.5,
          2278.6666666666665,
          2622.9166666666665,
          2770,
          2661.3333333333335,
          2453.6666666666665,
          2096.4166666666665,
          2485.75,
          2856.25,
          2397,
          2342.25,
          2309.5833333333335,
          2620.9166666666665,
          2458.1666666666665,
          2359.75,
          2873.8333333333335,
          2557.5,
          2459.4166666666665,
          2366,
          2615.9166666666665,
          2492.1666666666665,
          2372.5,
          2703.8333333333335,
          2645.5833333333335,
          2551,
          2288.3333333333335,
          2661.3333333333335,
          2503.9166666666665,
          2361.3333333333335,
          2733.75,
          2683.0833333333335,
          2042.5,
          2278.6666666666665,
          2622.9166666666665,
          2770,
          2661.3333333333335,
          2096.4166666666665,
          2485.75,
          2856.25,
          2397,
          2342.25,
          2309.5833333333335,
          2620.9166666666665,
          2458.1666666666665,
          2359.75,
          2873.8333333333335,
          2557.5,
          2459.4166666666665,
          2366,
          2615.9166666666665,
          2492.1666666666665,
          2372.5,
          2703.8333333333335,
          2645.5833333333335,
          2551,
          2288.3333333333335,
          2661.3333333333335,
          2503.9166666666665,
          2361.3333333333335,
          2733.75,
          2683.0833333333335,
          2042.5,
          2278.6666666666665,
          2622.9166666666665,
          2770,
          2661.3333333333335,
          2453.6666666666665,
          2096.4166666666665,
          2485.75,
          2856.25,
          2397,
          2342.25,
          2309.5833333333335,
          2620.9166666666665,
          2458.1666666666665,
          2359.75,
          2873.8333333333335,
          2557.5,
          2459.4166666666665,
          2366,
          2615.9166666666665,
          2492.1666666666665,
          2372.5,
          2703.8333333333335,
          2645.5833333333335,
          2551,
          2288.3333333333335,
          2661.3333333333335,
          2503.9166666666665,
          2361.3333333333335,
          2733.75,
          2683.0833333333335,
          2042.5,
          2278.6666666666665,
          2622.9166666666665,
          2770,
          2661.3333333333335,
          2453.6666666666665,
          2096.4166666666665,
          2485.75,
          2856.25,
          2397,
          2342.25,
          2309.5833333333335,
          2620.9166666666665,
          2458.1666666666665,
          2359.75,
          2873.8333333333335,
          2557.5,
          2459.4166666666665,
          2366,
          2615.9166666666665,
          2492.1666666666665,
          2372.5,
          2703.8333333333335,
          2645.5833333333335,
          2551,
          2288.3333333333335,
          2661.3333333333335,
          2503.9166666666665,
          2361.3333333333335,
          2733.75,
          2683.0833333333335,
          2042.5,
          2278.6666666666665,
          2622.9166666666665,
          2770,
          2661.3333333333335,
          2096.4166666666665,
          2485.75,
          2856.25,
          2397,
          2342.25,
          2309.5833333333335,
          2620.9166666666665,
          2458.1666666666665,
          2359.75,
          2873.8333333333335,
          2557.5,
          2459.4166666666665,
          2366,
          2615.9166666666665,
          2492.1666666666665,
          2372.5,
          2703.8333333333335,
          2645.5833333333335,
          2551,
          2288.3333333333335,
          2661.3333333333335,
          2503.9166666666665,
          2361.3333333333335,
          2733.75,
          2683.0833333333335,
          2042.5,
          2278.6666666666665,
          2622.9166666666665,
          2770,
          2661.3333333333335,
          2453.6666666666665,
          2096.4166666666665,
          2485.75,
          2856.25,
          2397,
          2342.25,
          2309.5833333333335,
          2620.9166666666665,
          2458.1666666666665,
          2359.75,
          2873.8333333333335,
          2557.5,
          2459.4166666666665,
          2366,
          2615.9166666666665,
          2492.1666666666665,
          2372.5,
          2703.8333333333335,
          2645.5833333333335,
          2551,
          2288.3333333333335,
          2661.3333333333335,
          2503.9166666666665,
          2361.3333333333335,
          2733.75,
          2683.0833333333335,
          2042.5,
          2622.9166666666665,
          2770,
          2661.3333333333335,
          2096.4166666666665,
          2485.75,
          2856.25,
          2397,
          2342.25,
          2309.5833333333335,
          2620.9166666666665,
          2458.1666666666665,
          2359.75,
          2873.8333333333335,
          2557.5,
          2459.4166666666665,
          2366,
          2615.9166666666665,
          2492.1666666666665,
          2372.5,
          2703.8333333333335,
          2645.5833333333335,
          2551,
          2288.3333333333335,
          2661.3333333333335,
          2503.9166666666665,
          2361.3333333333335,
          2733.75,
          2042.5,
          2278.6666666666665,
          2622.9166666666665,
          2770,
          2661.3333333333335,
          2453.6666666666665
         ]
        },
        {
         "marker": {
          "color": "rgba(20,20,200,0.5)",
          "size": 10
         },
         "mode": "lines",
         "name": "Average number of calls",
         "type": "scatter",
         "x": [
          1,
          2,
          3,
          4,
          5,
          6,
          7,
          8,
          9,
          10,
          11,
          12,
          13,
          14,
          15,
          16,
          17,
          18,
          19,
          20,
          21,
          22,
          23,
          24,
          25,
          26,
          27,
          28,
          29,
          30,
          31,
          32,
          33,
          34,
          35,
          36,
          37,
          38,
          39,
          40,
          41,
          42,
          43,
          44,
          45,
          46,
          47,
          48,
          49,
          50,
          51,
          52,
          53,
          54,
          55,
          56,
          57,
          58,
          59,
          60,
          61,
          62,
          63,
          64,
          65,
          66,
          67,
          68,
          69,
          70,
          71,
          72,
          73,
          74,
          75,
          76,
          77,
          78,
          79,
          80,
          81,
          82,
          83,
          84,
          85,
          86,
          87,
          88,
          89,
          90,
          91,
          92,
          93,
          94,
          95,
          96,
          97,
          98,
          99,
          100,
          101,
          102,
          103,
          104,
          105,
          106,
          107,
          108,
          109,
          110,
          111,
          112,
          113,
          114,
          115,
          116,
          117,
          118,
          119,
          120,
          121,
          122,
          123,
          124,
          125,
          126,
          127,
          128,
          129,
          130,
          131,
          132,
          133,
          134,
          135,
          136,
          137,
          138,
          139,
          140,
          141,
          142,
          143,
          144,
          145,
          146,
          147,
          148,
          149,
          150,
          151,
          152,
          153,
          154,
          155,
          156,
          157,
          158,
          159,
          160,
          161,
          162,
          163,
          164,
          165,
          166,
          167,
          168,
          169,
          170,
          171,
          172,
          173,
          174,
          175,
          176,
          177,
          178,
          179,
          180,
          181,
          182,
          183,
          184,
          185,
          186,
          187,
          188,
          189,
          190,
          191,
          192,
          193,
          194,
          195,
          196,
          197,
          198,
          199,
          200,
          201,
          202,
          203,
          204,
          205,
          206,
          207,
          208,
          209,
          210,
          211,
          212,
          213,
          214,
          215,
          216,
          217,
          218,
          219,
          220,
          221,
          222,
          223,
          224,
          225,
          226,
          227,
          228,
          229,
          230,
          231,
          232,
          233,
          234,
          235,
          236,
          237,
          238,
          239,
          240,
          241,
          242,
          243,
          244,
          245,
          246,
          247,
          248,
          249,
          250,
          251,
          252,
          253,
          254,
          255,
          256,
          257,
          258,
          259,
          260,
          261,
          262,
          263,
          264,
          265,
          266,
          267,
          268,
          269,
          270,
          271,
          272,
          273,
          274,
          275,
          276,
          277,
          278,
          279,
          280,
          281,
          282,
          283,
          284,
          285,
          286,
          287,
          288,
          289,
          290,
          291,
          292,
          293,
          294,
          295,
          296,
          297,
          298,
          299,
          300,
          301,
          302,
          303,
          304,
          305,
          306,
          307,
          308,
          309,
          310,
          311,
          312,
          313,
          314,
          315,
          316,
          317,
          318,
          319,
          320,
          321,
          322,
          323,
          324,
          325,
          326,
          327,
          328,
          329,
          330,
          332,
          333,
          334,
          335,
          336,
          337,
          338,
          339,
          340,
          341,
          342,
          343,
          344,
          345,
          346,
          347,
          348,
          349,
          350,
          351,
          352,
          353,
          354,
          355,
          356,
          357,
          358,
          360,
          361,
          362,
          363,
          364,
          365
         ],
         "y": [
          2494.99173553719,
          2494.99173553719,
          2494.99173553719,
          2494.99173553719,
          2494.99173553719,
          2494.99173553719,
          2494.99173553719,
          2494.99173553719,
          2494.99173553719,
          2494.99173553719,
          2494.99173553719,
          2494.99173553719,
          2494.99173553719,
          2494.99173553719,
          2494.99173553719,
          2494.99173553719,
          2494.99173553719,
          2494.99173553719,
          2494.99173553719,
          2494.99173553719,
          2494.99173553719,
          2494.99173553719,
          2494.99173553719,
          2494.99173553719,
          2494.99173553719,
          2494.99173553719,
          2494.99173553719,
          2494.99173553719,
          2494.99173553719,
          2494.99173553719,
          2494.99173553719,
          2494.99173553719,
          2494.99173553719,
          2494.99173553719,
          2494.99173553719,
          2494.99173553719,
          2494.99173553719,
          2494.99173553719,
          2494.99173553719,
          2494.99173553719,
          2494.99173553719,
          2494.99173553719,
          2494.99173553719,
          2494.99173553719,
          2494.99173553719,
          2494.99173553719,
          2494.99173553719,
          2494.99173553719,
          2494.99173553719,
          2494.99173553719,
          2494.99173553719,
          2494.99173553719,
          2494.99173553719,
          2494.99173553719,
          2494.99173553719,
          2494.99173553719,
          2494.99173553719,
          2494.99173553719,
          2494.99173553719,
          2494.99173553719,
          2494.99173553719,
          2494.99173553719,
          2494.99173553719,
          2494.99173553719,
          2494.99173553719,
          2494.99173553719,
          2494.99173553719,
          2494.99173553719,
          2494.99173553719,
          2494.99173553719,
          2494.99173553719,
          2494.99173553719,
          2494.99173553719,
          2494.99173553719,
          2494.99173553719,
          2494.99173553719,
          2494.99173553719,
          2494.99173553719,
          2494.99173553719,
          2494.99173553719,
          2494.99173553719,
          2494.99173553719,
          2494.99173553719,
          2494.99173553719,
          2494.99173553719,
          2494.99173553719,
          2494.99173553719,
          2494.99173553719,
          2494.99173553719,
          2494.99173553719,
          2494.99173553719,
          2494.99173553719,
          2494.99173553719,
          2494.99173553719,
          2494.99173553719,
          2494.99173553719,
          2494.99173553719,
          2494.99173553719,
          2494.99173553719,
          2494.99173553719,
          2494.99173553719,
          2494.99173553719,
          2494.99173553719,
          2494.99173553719,
          2494.99173553719,
          2494.99173553719,
          2494.99173553719,
          2494.99173553719,
          2494.99173553719,
          2494.99173553719,
          2494.99173553719,
          2494.99173553719,
          2494.99173553719,
          2494.99173553719,
          2494.99173553719,
          2494.99173553719,
          2494.99173553719,
          2494.99173553719,
          2494.99173553719,
          2494.99173553719,
          2494.99173553719,
          2494.99173553719,
          2494.99173553719,
          2494.99173553719,
          2494.99173553719,
          2494.99173553719,
          2494.99173553719,
          2494.99173553719,
          2494.99173553719,
          2494.99173553719,
          2494.99173553719,
          2494.99173553719,
          2494.99173553719,
          2494.99173553719,
          2494.99173553719,
          2494.99173553719,
          2494.99173553719,
          2494.99173553719,
          2494.99173553719,
          2494.99173553719,
          2494.99173553719,
          2494.99173553719,
          2494.99173553719,
          2494.99173553719,
          2494.99173553719,
          2494.99173553719,
          2494.99173553719,
          2494.99173553719,
          2494.99173553719,
          2494.99173553719,
          2494.99173553719,
          2494.99173553719,
          2494.99173553719,
          2494.99173553719,
          2494.99173553719,
          2494.99173553719,
          2494.99173553719,
          2494.99173553719,
          2494.99173553719,
          2494.99173553719,
          2494.99173553719,
          2494.99173553719,
          2494.99173553719,
          2494.99173553719,
          2494.99173553719,
          2494.99173553719,
          2494.99173553719,
          2494.99173553719,
          2494.99173553719,
          2494.99173553719,
          2494.99173553719,
          2494.99173553719,
          2494.99173553719,
          2494.99173553719,
          2494.99173553719,
          2494.99173553719,
          2494.99173553719,
          2494.99173553719,
          2494.99173553719,
          2494.99173553719,
          2494.99173553719,
          2494.99173553719,
          2494.99173553719,
          2494.99173553719,
          2494.99173553719,
          2494.99173553719,
          2494.99173553719,
          2494.99173553719,
          2494.99173553719,
          2494.99173553719,
          2494.99173553719,
          2494.99173553719,
          2494.99173553719,
          2494.99173553719,
          2494.99173553719,
          2494.99173553719,
          2494.99173553719,
          2494.99173553719,
          2494.99173553719,
          2494.99173553719,
          2494.99173553719,
          2494.99173553719,
          2494.99173553719,
          2494.99173553719,
          2494.99173553719,
          2494.99173553719,
          2494.99173553719,
          2494.99173553719,
          2494.99173553719,
          2494.99173553719,
          2494.99173553719,
          2494.99173553719,
          2494.99173553719,
          2494.99173553719,
          2494.99173553719,
          2494.99173553719,
          2494.99173553719,
          2494.99173553719,
          2494.99173553719,
          2494.99173553719,
          2494.99173553719,
          2494.99173553719,
          2494.99173553719,
          2494.99173553719,
          2494.99173553719,
          2494.99173553719,
          2494.99173553719,
          2494.99173553719,
          2494.99173553719,
          2494.99173553719,
          2494.99173553719,
          2494.99173553719,
          2494.99173553719,
          2494.99173553719,
          2494.99173553719,
          2494.99173553719,
          2494.99173553719,
          2494.99173553719,
          2494.99173553719,
          2494.99173553719,
          2494.99173553719,
          2494.99173553719,
          2494.99173553719,
          2494.99173553719,
          2494.99173553719,
          2494.99173553719,
          2494.99173553719,
          2494.99173553719,
          2494.99173553719,
          2494.99173553719,
          2494.99173553719,
          2494.99173553719,
          2494.99173553719,
          2494.99173553719,
          2494.99173553719,
          2494.99173553719,
          2494.99173553719,
          2494.99173553719,
          2494.99173553719,
          2494.99173553719,
          2494.99173553719,
          2494.99173553719,
          2494.99173553719,
          2494.99173553719,
          2494.99173553719,
          2494.99173553719,
          2494.99173553719,
          2494.99173553719,
          2494.99173553719,
          2494.99173553719,
          2494.99173553719,
          2494.99173553719,
          2494.99173553719,
          2494.99173553719,
          2494.99173553719,
          2494.99173553719,
          2494.99173553719,
          2494.99173553719,
          2494.99173553719,
          2494.99173553719,
          2494.99173553719,
          2494.99173553719,
          2494.99173553719,
          2494.99173553719,
          2494.99173553719,
          2494.99173553719,
          2494.99173553719,
          2494.99173553719,
          2494.99173553719,
          2494.99173553719,
          2494.99173553719,
          2494.99173553719,
          2494.99173553719,
          2494.99173553719,
          2494.99173553719,
          2494.99173553719,
          2494.99173553719,
          2494.99173553719,
          2494.99173553719,
          2494.99173553719,
          2494.99173553719,
          2494.99173553719,
          2494.99173553719,
          2494.99173553719,
          2494.99173553719,
          2494.99173553719,
          2494.99173553719,
          2494.99173553719,
          2494.99173553719,
          2494.99173553719,
          2494.99173553719,
          2494.99173553719,
          2494.99173553719,
          2494.99173553719,
          2494.99173553719,
          2494.99173553719,
          2494.99173553719,
          2494.99173553719,
          2494.99173553719,
          2494.99173553719,
          2494.99173553719,
          2494.99173553719,
          2494.99173553719,
          2494.99173553719,
          2494.99173553719,
          2494.99173553719,
          2494.99173553719,
          2494.99173553719,
          2494.99173553719,
          2494.99173553719,
          2494.99173553719,
          2494.99173553719,
          2494.99173553719,
          2494.99173553719,
          2494.99173553719,
          2494.99173553719,
          2494.99173553719,
          2494.99173553719,
          2494.99173553719,
          2494.99173553719,
          2494.99173553719,
          2494.99173553719,
          2494.99173553719,
          2494.99173553719,
          2494.99173553719,
          2494.99173553719,
          2494.99173553719,
          2494.99173553719,
          2494.99173553719,
          2494.99173553719,
          2494.99173553719,
          2494.99173553719,
          2494.99173553719,
          2494.99173553719,
          2494.99173553719,
          2494.99173553719,
          2494.99173553719,
          2494.99173553719,
          2494.99173553719,
          2494.99173553719,
          2494.99173553719,
          2494.99173553719,
          2494.99173553719
         ]
        }
       ],
       "layout": {
        "template": {
         "data": {
          "bar": [
           {
            "error_x": {
             "color": "#2a3f5f"
            },
            "error_y": {
             "color": "#2a3f5f"
            },
            "marker": {
             "line": {
              "color": "#E5ECF6",
              "width": 0.5
             }
            },
            "type": "bar"
           }
          ],
          "barpolar": [
           {
            "marker": {
             "line": {
              "color": "#E5ECF6",
              "width": 0.5
             }
            },
            "type": "barpolar"
           }
          ],
          "carpet": [
           {
            "aaxis": {
             "endlinecolor": "#2a3f5f",
             "gridcolor": "white",
             "linecolor": "white",
             "minorgridcolor": "white",
             "startlinecolor": "#2a3f5f"
            },
            "baxis": {
             "endlinecolor": "#2a3f5f",
             "gridcolor": "white",
             "linecolor": "white",
             "minorgridcolor": "white",
             "startlinecolor": "#2a3f5f"
            },
            "type": "carpet"
           }
          ],
          "choropleth": [
           {
            "colorbar": {
             "outlinewidth": 0,
             "ticks": ""
            },
            "type": "choropleth"
           }
          ],
          "contour": [
           {
            "colorbar": {
             "outlinewidth": 0,
             "ticks": ""
            },
            "colorscale": [
             [
              0,
              "#0d0887"
             ],
             [
              0.1111111111111111,
              "#46039f"
             ],
             [
              0.2222222222222222,
              "#7201a8"
             ],
             [
              0.3333333333333333,
              "#9c179e"
             ],
             [
              0.4444444444444444,
              "#bd3786"
             ],
             [
              0.5555555555555556,
              "#d8576b"
             ],
             [
              0.6666666666666666,
              "#ed7953"
             ],
             [
              0.7777777777777778,
              "#fb9f3a"
             ],
             [
              0.8888888888888888,
              "#fdca26"
             ],
             [
              1,
              "#f0f921"
             ]
            ],
            "type": "contour"
           }
          ],
          "contourcarpet": [
           {
            "colorbar": {
             "outlinewidth": 0,
             "ticks": ""
            },
            "type": "contourcarpet"
           }
          ],
          "heatmap": [
           {
            "colorbar": {
             "outlinewidth": 0,
             "ticks": ""
            },
            "colorscale": [
             [
              0,
              "#0d0887"
             ],
             [
              0.1111111111111111,
              "#46039f"
             ],
             [
              0.2222222222222222,
              "#7201a8"
             ],
             [
              0.3333333333333333,
              "#9c179e"
             ],
             [
              0.4444444444444444,
              "#bd3786"
             ],
             [
              0.5555555555555556,
              "#d8576b"
             ],
             [
              0.6666666666666666,
              "#ed7953"
             ],
             [
              0.7777777777777778,
              "#fb9f3a"
             ],
             [
              0.8888888888888888,
              "#fdca26"
             ],
             [
              1,
              "#f0f921"
             ]
            ],
            "type": "heatmap"
           }
          ],
          "heatmapgl": [
           {
            "colorbar": {
             "outlinewidth": 0,
             "ticks": ""
            },
            "colorscale": [
             [
              0,
              "#0d0887"
             ],
             [
              0.1111111111111111,
              "#46039f"
             ],
             [
              0.2222222222222222,
              "#7201a8"
             ],
             [
              0.3333333333333333,
              "#9c179e"
             ],
             [
              0.4444444444444444,
              "#bd3786"
             ],
             [
              0.5555555555555556,
              "#d8576b"
             ],
             [
              0.6666666666666666,
              "#ed7953"
             ],
             [
              0.7777777777777778,
              "#fb9f3a"
             ],
             [
              0.8888888888888888,
              "#fdca26"
             ],
             [
              1,
              "#f0f921"
             ]
            ],
            "type": "heatmapgl"
           }
          ],
          "histogram": [
           {
            "marker": {
             "colorbar": {
              "outlinewidth": 0,
              "ticks": ""
             }
            },
            "type": "histogram"
           }
          ],
          "histogram2d": [
           {
            "colorbar": {
             "outlinewidth": 0,
             "ticks": ""
            },
            "colorscale": [
             [
              0,
              "#0d0887"
             ],
             [
              0.1111111111111111,
              "#46039f"
             ],
             [
              0.2222222222222222,
              "#7201a8"
             ],
             [
              0.3333333333333333,
              "#9c179e"
             ],
             [
              0.4444444444444444,
              "#bd3786"
             ],
             [
              0.5555555555555556,
              "#d8576b"
             ],
             [
              0.6666666666666666,
              "#ed7953"
             ],
             [
              0.7777777777777778,
              "#fb9f3a"
             ],
             [
              0.8888888888888888,
              "#fdca26"
             ],
             [
              1,
              "#f0f921"
             ]
            ],
            "type": "histogram2d"
           }
          ],
          "histogram2dcontour": [
           {
            "colorbar": {
             "outlinewidth": 0,
             "ticks": ""
            },
            "colorscale": [
             [
              0,
              "#0d0887"
             ],
             [
              0.1111111111111111,
              "#46039f"
             ],
             [
              0.2222222222222222,
              "#7201a8"
             ],
             [
              0.3333333333333333,
              "#9c179e"
             ],
             [
              0.4444444444444444,
              "#bd3786"
             ],
             [
              0.5555555555555556,
              "#d8576b"
             ],
             [
              0.6666666666666666,
              "#ed7953"
             ],
             [
              0.7777777777777778,
              "#fb9f3a"
             ],
             [
              0.8888888888888888,
              "#fdca26"
             ],
             [
              1,
              "#f0f921"
             ]
            ],
            "type": "histogram2dcontour"
           }
          ],
          "mesh3d": [
           {
            "colorbar": {
             "outlinewidth": 0,
             "ticks": ""
            },
            "type": "mesh3d"
           }
          ],
          "parcoords": [
           {
            "line": {
             "colorbar": {
              "outlinewidth": 0,
              "ticks": ""
             }
            },
            "type": "parcoords"
           }
          ],
          "pie": [
           {
            "automargin": true,
            "type": "pie"
           }
          ],
          "scatter": [
           {
            "marker": {
             "colorbar": {
              "outlinewidth": 0,
              "ticks": ""
             }
            },
            "type": "scatter"
           }
          ],
          "scatter3d": [
           {
            "line": {
             "colorbar": {
              "outlinewidth": 0,
              "ticks": ""
             }
            },
            "marker": {
             "colorbar": {
              "outlinewidth": 0,
              "ticks": ""
             }
            },
            "type": "scatter3d"
           }
          ],
          "scattercarpet": [
           {
            "marker": {
             "colorbar": {
              "outlinewidth": 0,
              "ticks": ""
             }
            },
            "type": "scattercarpet"
           }
          ],
          "scattergeo": [
           {
            "marker": {
             "colorbar": {
              "outlinewidth": 0,
              "ticks": ""
             }
            },
            "type": "scattergeo"
           }
          ],
          "scattergl": [
           {
            "marker": {
             "colorbar": {
              "outlinewidth": 0,
              "ticks": ""
             }
            },
            "type": "scattergl"
           }
          ],
          "scattermapbox": [
           {
            "marker": {
             "colorbar": {
              "outlinewidth": 0,
              "ticks": ""
             }
            },
            "type": "scattermapbox"
           }
          ],
          "scatterpolar": [
           {
            "marker": {
             "colorbar": {
              "outlinewidth": 0,
              "ticks": ""
             }
            },
            "type": "scatterpolar"
           }
          ],
          "scatterpolargl": [
           {
            "marker": {
             "colorbar": {
              "outlinewidth": 0,
              "ticks": ""
             }
            },
            "type": "scatterpolargl"
           }
          ],
          "scatterternary": [
           {
            "marker": {
             "colorbar": {
              "outlinewidth": 0,
              "ticks": ""
             }
            },
            "type": "scatterternary"
           }
          ],
          "surface": [
           {
            "colorbar": {
             "outlinewidth": 0,
             "ticks": ""
            },
            "colorscale": [
             [
              0,
              "#0d0887"
             ],
             [
              0.1111111111111111,
              "#46039f"
             ],
             [
              0.2222222222222222,
              "#7201a8"
             ],
             [
              0.3333333333333333,
              "#9c179e"
             ],
             [
              0.4444444444444444,
              "#bd3786"
             ],
             [
              0.5555555555555556,
              "#d8576b"
             ],
             [
              0.6666666666666666,
              "#ed7953"
             ],
             [
              0.7777777777777778,
              "#fb9f3a"
             ],
             [
              0.8888888888888888,
              "#fdca26"
             ],
             [
              1,
              "#f0f921"
             ]
            ],
            "type": "surface"
           }
          ],
          "table": [
           {
            "cells": {
             "fill": {
              "color": "#EBF0F8"
             },
             "line": {
              "color": "white"
             }
            },
            "header": {
             "fill": {
              "color": "#C8D4E3"
             },
             "line": {
              "color": "white"
             }
            },
            "type": "table"
           }
          ]
         },
         "layout": {
          "annotationdefaults": {
           "arrowcolor": "#2a3f5f",
           "arrowhead": 0,
           "arrowwidth": 1
          },
          "coloraxis": {
           "colorbar": {
            "outlinewidth": 0,
            "ticks": ""
           }
          },
          "colorscale": {
           "diverging": [
            [
             0,
             "#8e0152"
            ],
            [
             0.1,
             "#c51b7d"
            ],
            [
             0.2,
             "#de77ae"
            ],
            [
             0.3,
             "#f1b6da"
            ],
            [
             0.4,
             "#fde0ef"
            ],
            [
             0.5,
             "#f7f7f7"
            ],
            [
             0.6,
             "#e6f5d0"
            ],
            [
             0.7,
             "#b8e186"
            ],
            [
             0.8,
             "#7fbc41"
            ],
            [
             0.9,
             "#4d9221"
            ],
            [
             1,
             "#276419"
            ]
           ],
           "sequential": [
            [
             0,
             "#0d0887"
            ],
            [
             0.1111111111111111,
             "#46039f"
            ],
            [
             0.2222222222222222,
             "#7201a8"
            ],
            [
             0.3333333333333333,
             "#9c179e"
            ],
            [
             0.4444444444444444,
             "#bd3786"
            ],
            [
             0.5555555555555556,
             "#d8576b"
            ],
            [
             0.6666666666666666,
             "#ed7953"
            ],
            [
             0.7777777777777778,
             "#fb9f3a"
            ],
            [
             0.8888888888888888,
             "#fdca26"
            ],
            [
             1,
             "#f0f921"
            ]
           ],
           "sequentialminus": [
            [
             0,
             "#0d0887"
            ],
            [
             0.1111111111111111,
             "#46039f"
            ],
            [
             0.2222222222222222,
             "#7201a8"
            ],
            [
             0.3333333333333333,
             "#9c179e"
            ],
            [
             0.4444444444444444,
             "#bd3786"
            ],
            [
             0.5555555555555556,
             "#d8576b"
            ],
            [
             0.6666666666666666,
             "#ed7953"
            ],
            [
             0.7777777777777778,
             "#fb9f3a"
            ],
            [
             0.8888888888888888,
             "#fdca26"
            ],
            [
             1,
             "#f0f921"
            ]
           ]
          },
          "colorway": [
           "#636efa",
           "#EF553B",
           "#00cc96",
           "#ab63fa",
           "#FFA15A",
           "#19d3f3",
           "#FF6692",
           "#B6E880",
           "#FF97FF",
           "#FECB52"
          ],
          "font": {
           "color": "#2a3f5f"
          },
          "geo": {
           "bgcolor": "white",
           "lakecolor": "white",
           "landcolor": "#E5ECF6",
           "showlakes": true,
           "showland": true,
           "subunitcolor": "white"
          },
          "hoverlabel": {
           "align": "left"
          },
          "hovermode": "closest",
          "mapbox": {
           "style": "light"
          },
          "paper_bgcolor": "white",
          "plot_bgcolor": "#E5ECF6",
          "polar": {
           "angularaxis": {
            "gridcolor": "white",
            "linecolor": "white",
            "ticks": ""
           },
           "bgcolor": "#E5ECF6",
           "radialaxis": {
            "gridcolor": "white",
            "linecolor": "white",
            "ticks": ""
           }
          },
          "scene": {
           "xaxis": {
            "backgroundcolor": "#E5ECF6",
            "gridcolor": "white",
            "gridwidth": 2,
            "linecolor": "white",
            "showbackground": true,
            "ticks": "",
            "zerolinecolor": "white"
           },
           "yaxis": {
            "backgroundcolor": "#E5ECF6",
            "gridcolor": "white",
            "gridwidth": 2,
            "linecolor": "white",
            "showbackground": true,
            "ticks": "",
            "zerolinecolor": "white"
           },
           "zaxis": {
            "backgroundcolor": "#E5ECF6",
            "gridcolor": "white",
            "gridwidth": 2,
            "linecolor": "white",
            "showbackground": true,
            "ticks": "",
            "zerolinecolor": "white"
           }
          },
          "shapedefaults": {
           "line": {
            "color": "#2a3f5f"
           }
          },
          "ternary": {
           "aaxis": {
            "gridcolor": "white",
            "linecolor": "white",
            "ticks": ""
           },
           "baxis": {
            "gridcolor": "white",
            "linecolor": "white",
            "ticks": ""
           },
           "bgcolor": "#E5ECF6",
           "caxis": {
            "gridcolor": "white",
            "linecolor": "white",
            "ticks": ""
           }
          },
          "title": {
           "x": 0.05
          },
          "xaxis": {
           "automargin": true,
           "gridcolor": "white",
           "linecolor": "white",
           "ticks": "",
           "title": {
            "standoff": 15
           },
           "zerolinecolor": "white",
           "zerolinewidth": 2
          },
          "yaxis": {
           "automargin": true,
           "gridcolor": "white",
           "linecolor": "white",
           "ticks": "",
           "title": {
            "standoff": 15
           },
           "zerolinecolor": "white",
           "zerolinewidth": 2
          }
         }
        },
        "title": {
         "text": "Frequency of call for each day"
        },
        "xaxis": {
         "showgrid": false,
         "showline": false,
         "title": {
          "text": "day"
         },
         "zeroline": false
        },
        "yaxis": {
         "showgrid": false,
         "showline": false,
         "title": {
          "text": "count"
         },
         "zeroline": false
        }
       }
      },
      "text/html": [
       "<div>                            <div id=\"00ba2ee9-5ed7-460b-85cd-6f2d8131f698\" class=\"plotly-graph-div\" style=\"height:525px; width:100%;\"></div>            <script type=\"text/javascript\">                require([\"plotly\"], function(Plotly) {                    window.PLOTLYENV=window.PLOTLYENV || {};                                    if (document.getElementById(\"00ba2ee9-5ed7-460b-85cd-6f2d8131f698\")) {                    Plotly.newPlot(                        \"00ba2ee9-5ed7-460b-85cd-6f2d8131f698\",                        [{\"marker\": {\"color\": \"rgba(152,0,0,0.5)\", \"size\": 10}, \"mode\": \"markers\", \"name\": \"original\", \"type\": \"scatter\", \"x\": [1, 2, 3, 4, 5, 6, 7, 8, 9, 10, 11, 12, 13, 14, 15, 16, 17, 18, 19, 20, 21, 22, 23, 24, 25, 26, 27, 28, 29, 30, 31, 32, 33, 34, 35, 36, 37, 38, 39, 40, 41, 42, 43, 44, 45, 46, 47, 48, 49, 50, 51, 52, 53, 54, 55, 56, 57, 58, 59, 60, 61, 62, 63, 64, 65, 66, 67, 68, 69, 70, 71, 72, 73, 74, 75, 76, 77, 78, 79, 80, 81, 82, 83, 84, 85, 86, 87, 88, 89, 90, 91, 92, 93, 94, 95, 96, 97, 98, 99, 100, 101, 102, 103, 104, 105, 106, 107, 108, 109, 110, 111, 112, 113, 114, 115, 116, 117, 118, 119, 120, 121, 122, 123, 124, 125, 126, 127, 128, 129, 130, 131, 132, 133, 134, 135, 136, 137, 138, 139, 140, 141, 142, 143, 144, 145, 146, 147, 148, 149, 150, 151, 152, 153, 154, 155, 156, 157, 158, 159, 160, 161, 162, 163, 164, 165, 166, 167, 168, 169, 170, 171, 172, 173, 174, 175, 176, 177, 178, 179, 180, 181, 182, 183, 184, 185, 186, 187, 188, 189, 190, 191, 192, 193, 194, 195, 196, 197, 198, 199, 200, 201, 202, 203, 204, 205, 206, 207, 208, 209, 210, 211, 212, 213, 214, 215, 216, 217, 218, 219, 220, 221, 222, 223, 224, 225, 226, 227, 228, 229, 230, 231, 232, 233, 234, 235, 236, 237, 238, 239, 240, 241, 242, 243, 244, 245, 246, 247, 248, 249, 250, 251, 252, 253, 254, 255, 256, 257, 258, 259, 260, 261, 262, 263, 264, 265, 266, 267, 268, 269, 270, 271, 272, 273, 274, 275, 276, 277, 278, 279, 280, 281, 282, 283, 284, 285, 286, 287, 288, 289, 290, 291, 292, 293, 294, 295, 296, 297, 298, 299, 300, 301, 302, 303, 304, 305, 306, 307, 308, 309, 310, 311, 312, 313, 314, 315, 316, 317, 318, 319, 320, 321, 322, 323, 324, 325, 326, 327, 328, 329, 330, 332, 333, 334, 335, 336, 337, 338, 339, 340, 341, 342, 343, 344, 345, 346, 347, 348, 349, 350, 351, 352, 353, 354, 355, 356, 357, 358, 360, 361, 362, 363, 364, 365], \"y\": [639, 2920, 2632, 718, 553, 2816, 3054, 3149, 2883, 2693, 800, 567, 3606, 3209, 3003, 2782, 2810, 790, 521, 1908, 3455, 3292, 2901, 2663, 744, 558, 3348, 3156, 3145, 3064, 2762, 808, 464, 3169, 2930, 3121, 2811, 2655, 775, 488, 3496, 3030, 3065, 2924, 2589, 845, 602, 1684, 3575, 3229, 3108, 2784, 743, 475, 3510, 3252, 2991, 2863, 3083, 797, 766, 3495, 3082, 3064, 2795, 2697, 758, 600, 3512, 3254, 3206, 2894, 2675, 795, 778, 3590, 3332, 3174, 3050, 2788, 787, 578, 3587, 3423, 3236, 3322, 3032, 724, 572, 2764, 3807, 3381, 3052, 3006, 681, 645, 3680, 3401, 3212, 3220, 3076, 776, 490, 3483, 3028, 3250, 3208, 2652, 697, 122, 3647, 3324, 3254, 3221, 2913, 760, 585, 3547, 3456, 3441, 3195, 3059, 860, 597, 3666, 3270, 3342, 3241, 3001, 719, 544, 3591, 3532, 3347, 3111, 2923, 701, 554, 5108, 3700, 3601, 3196, 2924, 723, 620, 778, 3992, 3846, 3409, 3068, 789, 539, 3791, 3469, 3181, 3060, 2902, 844, 550, 3727, 3566, 3326, 2935, 2793, 822, 497, 3641, 3264, 3312, 3221, 3186, 831, 513, 3905, 3369, 3400, 3385, 3363, 788, 532, 3972, 3443, 3302, 3115, 744, 764, 577, 3951, 3351, 3338, 3320, 3312, 807, 502, 3806, 3524, 3478, 3473, 3144, 856, 594, 3952, 3652, 3520, 3206, 3193, 812, 579, 4224, 3532, 3400, 3224, 3054, 686, 569, 3931, 3246, 3216, 3515, 2974, 735, 473, 3742, 3696, 3757, 3441, 3211, 718, 513, 3876, 3856, 3548, 3395, 2976, 625, 493, 4048, 3408, 3599, 3766, 3297, 641, 584, 850, 4204, 3636, 3603, 3249, 766, 444, 3634, 3485, 3474, 3255, 2949, 651, 502, 3819, 3454, 3286, 3131, 3111, 681, 457, 3850, 3068, 3318, 3099, 2930, 636, 556, 3988, 3535, 3451, 3594, 3315, 626, 504, 3927, 3495, 3422, 3125, 2798, 704, 591, 3122, 3981, 3553, 3056, 2911, 753, 533, 3581, 3419, 3351, 3305, 3067, 866, 613, 3631, 3644, 3263, 3247, 2763, 867, 616, 3846, 3210, 3291, 3155, 3203, 726, 536, 3948, 2187, 4008, 3349, 3095, 752, 583, 3649, 3644, 3302, 3205, 3095, 692, 622, 3772, 3129, 2688, 1333, 708, 552, 3707, 3046, 3117, 3136, 2908, 835, 571, 3517, 3187, 3267, 3460, 3322, 772, 441, 3768, 3205, 3357, 2984, 3004, 777, 512, 3671, 3159, 1876, 2351, 666, 500, 3420, 3035, 2189]}, {\"marker\": {\"color\": \"rgba(152,100,0,0.5)\", \"size\": 10}, \"mode\": \"lines\", \"name\": \"Linear reg\", \"type\": \"scatter\", \"x\": [1, 2, 3, 4, 5, 6, 7, 8, 9, 10, 11, 12, 13, 14, 15, 16, 17, 18, 19, 20, 21, 22, 23, 24, 25, 26, 27, 28, 29, 30, 31, 32, 33, 34, 35, 36, 37, 38, 39, 40, 41, 42, 43, 44, 45, 46, 47, 48, 49, 50, 51, 52, 53, 54, 55, 56, 57, 58, 59, 60, 61, 62, 63, 64, 65, 66, 67, 68, 69, 70, 71, 72, 73, 74, 75, 76, 77, 78, 79, 80, 81, 82, 83, 84, 85, 86, 87, 88, 89, 90, 91, 92, 93, 94, 95, 96, 97, 98, 99, 100, 101, 102, 103, 104, 105, 106, 107, 108, 109, 110, 111, 112, 113, 114, 115, 116, 117, 118, 119, 120, 121, 122, 123, 124, 125, 126, 127, 128, 129, 130, 131, 132, 133, 134, 135, 136, 137, 138, 139, 140, 141, 142, 143, 144, 145, 146, 147, 148, 149, 150, 151, 152, 153, 154, 155, 156, 157, 158, 159, 160, 161, 162, 163, 164, 165, 166, 167, 168, 169, 170, 171, 172, 173, 174, 175, 176, 177, 178, 179, 180, 181, 182, 183, 184, 185, 186, 187, 188, 189, 190, 191, 192, 193, 194, 195, 196, 197, 198, 199, 200, 201, 202, 203, 204, 205, 206, 207, 208, 209, 210, 211, 212, 213, 214, 215, 216, 217, 218, 219, 220, 221, 222, 223, 224, 225, 226, 227, 228, 229, 230, 231, 232, 233, 234, 235, 236, 237, 238, 239, 240, 241, 242, 243, 244, 245, 246, 247, 248, 249, 250, 251, 252, 253, 254, 255, 256, 257, 258, 259, 260, 261, 262, 263, 264, 265, 266, 267, 268, 269, 270, 271, 272, 273, 274, 275, 276, 277, 278, 279, 280, 281, 282, 283, 284, 285, 286, 287, 288, 289, 290, 291, 292, 293, 294, 295, 296, 297, 298, 299, 300, 301, 302, 303, 304, 305, 306, 307, 308, 309, 310, 311, 312, 313, 314, 315, 316, 317, 318, 319, 320, 321, 322, 323, 324, 325, 326, 327, 328, 329, 330, 332, 333, 334, 335, 336, 337, 338, 339, 340, 341, 342, 343, 344, 345, 346, 347, 348, 349, 350, 351, 352, 353, 354, 355, 356, 357, 358, 360, 361, 362, 363, 364, 365], \"y\": [2474.4527388979536, 2475.8533881145686, 2477.254037331184, 2478.654686547799, 2480.0553357644144, 2481.4559849810294, 2482.856634197645, 2484.25728341426, 2485.657932630875, 2487.0585818474906, 2488.4592310641056, 2489.859880280721, 2491.2605294973364, 2492.6611787139514, 2494.061827930567, 2495.4624771471817, 2496.863126363797, 2498.263775580412, 2499.6644247970276, 2501.065074013643, 2502.465723230258, 2503.8663724468734, 2505.2670216634883, 2506.6676708801037, 2508.068320096719, 2509.468969313334, 2510.8696185299495, 2512.2702677465645, 2513.67091696318, 2515.071566179795, 2516.4722153964103, 2474.4527388979536, 2475.8533881145686, 2477.254037331184, 2478.654686547799, 2480.0553357644144, 2481.4559849810294, 2482.856634197645, 2484.25728341426, 2485.657932630875, 2487.0585818474906, 2488.4592310641056, 2489.859880280721, 2491.2605294973364, 2492.6611787139514, 2494.061827930567, 2495.4624771471817, 2496.863126363797, 2498.263775580412, 2499.6644247970276, 2501.065074013643, 2502.465723230258, 2503.8663724468734, 2505.2670216634883, 2506.6676708801037, 2508.068320096719, 2509.468969313334, 2510.8696185299495, 2512.2702677465645, 2474.4527388979536, 2475.8533881145686, 2477.254037331184, 2478.654686547799, 2480.0553357644144, 2481.4559849810294, 2482.856634197645, 2484.25728341426, 2485.657932630875, 2487.0585818474906, 2488.4592310641056, 2489.859880280721, 2491.2605294973364, 2492.6611787139514, 2494.061827930567, 2495.4624771471817, 2496.863126363797, 2498.263775580412, 2499.6644247970276, 2501.065074013643, 2502.465723230258, 2503.8663724468734, 2505.2670216634883, 2506.6676708801037, 2508.068320096719, 2509.468969313334, 2510.8696185299495, 2512.2702677465645, 2513.67091696318, 2515.071566179795, 2516.4722153964103, 2474.4527388979536, 2475.8533881145686, 2477.254037331184, 2478.654686547799, 2480.0553357644144, 2481.4559849810294, 2482.856634197645, 2484.25728341426, 2485.657932630875, 2487.0585818474906, 2488.4592310641056, 2489.859880280721, 2491.2605294973364, 2492.6611787139514, 2494.061827930567, 2495.4624771471817, 2496.863126363797, 2498.263775580412, 2499.6644247970276, 2501.065074013643, 2502.465723230258, 2503.8663724468734, 2505.2670216634883, 2506.6676708801037, 2508.068320096719, 2509.468969313334, 2510.8696185299495, 2512.2702677465645, 2513.67091696318, 2515.071566179795, 2474.4527388979536, 2475.8533881145686, 2477.254037331184, 2478.654686547799, 2480.0553357644144, 2481.4559849810294, 2482.856634197645, 2484.25728341426, 2485.657932630875, 2487.0585818474906, 2488.4592310641056, 2489.859880280721, 2491.2605294973364, 2492.6611787139514, 2494.061827930567, 2495.4624771471817, 2496.863126363797, 2498.263775580412, 2499.6644247970276, 2501.065074013643, 2502.465723230258, 2503.8663724468734, 2505.2670216634883, 2506.6676708801037, 2508.068320096719, 2509.468969313334, 2510.8696185299495, 2512.2702677465645, 2513.67091696318, 2515.071566179795, 2516.4722153964103, 2474.4527388979536, 2475.8533881145686, 2477.254037331184, 2478.654686547799, 2480.0553357644144, 2481.4559849810294, 2482.856634197645, 2484.25728341426, 2485.657932630875, 2487.0585818474906, 2488.4592310641056, 2489.859880280721, 2491.2605294973364, 2492.6611787139514, 2494.061827930567, 2495.4624771471817, 2496.863126363797, 2498.263775580412, 2499.6644247970276, 2501.065074013643, 2502.465723230258, 2503.8663724468734, 2505.2670216634883, 2506.6676708801037, 2508.068320096719, 2509.468969313334, 2510.8696185299495, 2512.2702677465645, 2513.67091696318, 2515.071566179795, 2474.4527388979536, 2475.8533881145686, 2477.254037331184, 2478.654686547799, 2480.0553357644144, 2481.4559849810294, 2482.856634197645, 2484.25728341426, 2485.657932630875, 2487.0585818474906, 2488.4592310641056, 2489.859880280721, 2491.2605294973364, 2492.6611787139514, 2494.061827930567, 2495.4624771471817, 2496.863126363797, 2498.263775580412, 2499.6644247970276, 2501.065074013643, 2502.465723230258, 2503.8663724468734, 2505.2670216634883, 2506.6676708801037, 2508.068320096719, 2509.468969313334, 2510.8696185299495, 2512.2702677465645, 2513.67091696318, 2515.071566179795, 2516.4722153964103, 2474.4527388979536, 2475.8533881145686, 2477.254037331184, 2478.654686547799, 2480.0553357644144, 2481.4559849810294, 2482.856634197645, 2484.25728341426, 2485.657932630875, 2487.0585818474906, 2488.4592310641056, 2489.859880280721, 2491.2605294973364, 2492.6611787139514, 2494.061827930567, 2495.4624771471817, 2496.863126363797, 2498.263775580412, 2499.6644247970276, 2501.065074013643, 2502.465723230258, 2503.8663724468734, 2505.2670216634883, 2506.6676708801037, 2508.068320096719, 2509.468969313334, 2510.8696185299495, 2512.2702677465645, 2513.67091696318, 2515.071566179795, 2516.4722153964103, 2474.4527388979536, 2475.8533881145686, 2477.254037331184, 2478.654686547799, 2480.0553357644144, 2481.4559849810294, 2482.856634197645, 2484.25728341426, 2485.657932630875, 2487.0585818474906, 2488.4592310641056, 2489.859880280721, 2491.2605294973364, 2492.6611787139514, 2494.061827930567, 2495.4624771471817, 2496.863126363797, 2498.263775580412, 2499.6644247970276, 2501.065074013643, 2502.465723230258, 2503.8663724468734, 2505.2670216634883, 2506.6676708801037, 2508.068320096719, 2509.468969313334, 2510.8696185299495, 2512.2702677465645, 2513.67091696318, 2515.071566179795, 2474.4527388979536, 2475.8533881145686, 2477.254037331184, 2478.654686547799, 2480.0553357644144, 2481.4559849810294, 2482.856634197645, 2484.25728341426, 2485.657932630875, 2487.0585818474906, 2488.4592310641056, 2489.859880280721, 2491.2605294973364, 2492.6611787139514, 2494.061827930567, 2495.4624771471817, 2496.863126363797, 2498.263775580412, 2499.6644247970276, 2501.065074013643, 2502.465723230258, 2503.8663724468734, 2505.2670216634883, 2506.6676708801037, 2508.068320096719, 2509.468969313334, 2510.8696185299495, 2512.2702677465645, 2513.67091696318, 2515.071566179795, 2516.4722153964103, 2474.4527388979536, 2475.8533881145686, 2477.254037331184, 2478.654686547799, 2480.0553357644144, 2481.4559849810294, 2482.856634197645, 2484.25728341426, 2485.657932630875, 2487.0585818474906, 2488.4592310641056, 2489.859880280721, 2491.2605294973364, 2492.6611787139514, 2494.061827930567, 2495.4624771471817, 2496.863126363797, 2498.263775580412, 2499.6644247970276, 2501.065074013643, 2502.465723230258, 2503.8663724468734, 2505.2670216634883, 2506.6676708801037, 2508.068320096719, 2509.468969313334, 2512.2702677465645, 2513.67091696318, 2515.071566179795, 2474.4527388979536, 2475.8533881145686, 2477.254037331184, 2478.654686547799, 2480.0553357644144, 2481.4559849810294, 2482.856634197645, 2484.25728341426, 2485.657932630875, 2487.0585818474906, 2488.4592310641056, 2489.859880280721, 2491.2605294973364, 2492.6611787139514, 2494.061827930567, 2495.4624771471817, 2496.863126363797, 2498.263775580412, 2499.6644247970276, 2501.065074013643, 2502.465723230258, 2503.8663724468734, 2505.2670216634883, 2506.6676708801037, 2509.468969313334, 2510.8696185299495, 2512.2702677465645, 2513.67091696318, 2515.071566179795, 2516.4722153964103]}, {\"marker\": {\"color\": \"rgba(152,0,1000,0.5)\", \"size\": 10}, \"mode\": \"lines\", \"name\": \"Polinomial\", \"type\": \"scatter\", \"x\": [1, 2, 3, 4, 5, 6, 7, 8, 9, 10, 11, 12, 13, 14, 15, 16, 17, 18, 19, 20, 21, 22, 23, 24, 25, 26, 27, 28, 29, 30, 31, 32, 33, 34, 35, 36, 37, 38, 39, 40, 41, 42, 43, 44, 45, 46, 47, 48, 49, 50, 51, 52, 53, 54, 55, 56, 57, 58, 59, 60, 61, 62, 63, 64, 65, 66, 67, 68, 69, 70, 71, 72, 73, 74, 75, 76, 77, 78, 79, 80, 81, 82, 83, 84, 85, 86, 87, 88, 89, 90, 91, 92, 93, 94, 95, 96, 97, 98, 99, 100, 101, 102, 103, 104, 105, 106, 107, 108, 109, 110, 111, 112, 113, 114, 115, 116, 117, 118, 119, 120, 121, 122, 123, 124, 125, 126, 127, 128, 129, 130, 131, 132, 133, 134, 135, 136, 137, 138, 139, 140, 141, 142, 143, 144, 145, 146, 147, 148, 149, 150, 151, 152, 153, 154, 155, 156, 157, 158, 159, 160, 161, 162, 163, 164, 165, 166, 167, 168, 169, 170, 171, 172, 173, 174, 175, 176, 177, 178, 179, 180, 181, 182, 183, 184, 185, 186, 187, 188, 189, 190, 191, 192, 193, 194, 195, 196, 197, 198, 199, 200, 201, 202, 203, 204, 205, 206, 207, 208, 209, 210, 211, 212, 213, 214, 215, 216, 217, 218, 219, 220, 221, 222, 223, 224, 225, 226, 227, 228, 229, 230, 231, 232, 233, 234, 235, 236, 237, 238, 239, 240, 241, 242, 243, 244, 245, 246, 247, 248, 249, 250, 251, 252, 253, 254, 255, 256, 257, 258, 259, 260, 261, 262, 263, 264, 265, 266, 267, 268, 269, 270, 271, 272, 273, 274, 275, 276, 277, 278, 279, 280, 281, 282, 283, 284, 285, 286, 287, 288, 289, 290, 291, 292, 293, 294, 295, 296, 297, 298, 299, 300, 301, 302, 303, 304, 305, 306, 307, 308, 309, 310, 311, 312, 313, 314, 315, 316, 317, 318, 319, 320, 321, 322, 323, 324, 325, 326, 327, 328, 329, 330, 332, 333, 334, 335, 336, 337, 338, 339, 340, 341, 342, 343, 344, 345, 346, 347, 348, 349, 350, 351, 352, 353, 354, 355, 356, 357, 358, 360, 361, 362, 363, 364, 365], \"y\": [2079.6140672925185, 2599.9507609175735, 2625.1358258278533, 2509.3356651119393, 2414.0538946569604, 2387.824294382589, 2421.4574720150295, 2484.076301736556, 2544.4873311892907, 2581.7872683380874, 2588.495364609119, 2568.9340025152806, 2535.051074659804, 2501.388806571721, 2480.454528276462, 2479.339538836505, 2498.062634308243, 2529.7850826747044, 2562.7538292804993, 2583.5795031763873, 2581.245368538078, 2551.072725942012, 2497.737415820945, 2436.34101081698, 2390.4890050595886, 2386.3168165261186, 2441.432713738296, 2547.8148600222803, 2647.8075372414924, 2602.5092668595053, 2152.0329885917045, 2079.6140672925185, 2599.9507609175735, 2625.1358258278533, 2509.3356651119393, 2414.0538946569604, 2387.824294382589, 2421.4574720150295, 2484.076301736556, 2544.4873311892907, 2581.7872683380874, 2588.495364609119, 2568.9340025152806, 2535.051074659804, 2501.388806571721, 2480.454528276462, 2479.339538836505, 2498.062634308243, 2529.7850826747044, 2562.7538292804993, 2583.5795031763873, 2581.245368538078, 2551.072725942012, 2497.737415820945, 2436.34101081698, 2390.4890050595886, 2386.3168165261186, 2441.432713738296, 2547.8148600222803, 2079.6140672925185, 2599.9507609175735, 2625.1358258278533, 2509.3356651119393, 2414.0538946569604, 2387.824294382589, 2421.4574720150295, 2484.076301736556, 2544.4873311892907, 2581.7872683380874, 2588.495364609119, 2568.9340025152806, 2535.051074659804, 2501.388806571721, 2480.454528276462, 2479.339538836505, 2498.062634308243, 2529.7850826747044, 2562.7538292804993, 2583.5795031763873, 2581.245368538078, 2551.072725942012, 2497.737415820945, 2436.34101081698, 2390.4890050595886, 2386.3168165261186, 2441.432713738296, 2547.8148600222803, 2647.8075372414924, 2602.5092668595053, 2152.0329885917045, 2079.6140672925185, 2599.9507609175735, 2625.1358258278533, 2509.3356651119393, 2414.0538946569604, 2387.824294382589, 2421.4574720150295, 2484.076301736556, 2544.4873311892907, 2581.7872683380874, 2588.495364609119, 2568.9340025152806, 2535.051074659804, 2501.388806571721, 2480.454528276462, 2479.339538836505, 2498.062634308243, 2529.7850826747044, 2562.7538292804993, 2583.5795031763873, 2581.245368538078, 2551.072725942012, 2497.737415820945, 2436.34101081698, 2390.4890050595886, 2386.3168165261186, 2441.432713738296, 2547.8148600222803, 2647.8075372414924, 2602.5092668595053, 2079.6140672925185, 2599.9507609175735, 2625.1358258278533, 2509.3356651119393, 2414.0538946569604, 2387.824294382589, 2421.4574720150295, 2484.076301736556, 2544.4873311892907, 2581.7872683380874, 2588.495364609119, 2568.9340025152806, 2535.051074659804, 2501.388806571721, 2480.454528276462, 2479.339538836505, 2498.062634308243, 2529.7850826747044, 2562.7538292804993, 2583.5795031763873, 2581.245368538078, 2551.072725942012, 2497.737415820945, 2436.34101081698, 2390.4890050595886, 2386.3168165261186, 2441.432713738296, 2547.8148600222803, 2647.8075372414924, 2602.5092668595053, 2152.0329885917045, 2079.6140672925185, 2599.9507609175735, 2625.1358258278533, 2509.3356651119393, 2414.0538946569604, 2387.824294382589, 2421.4574720150295, 2484.076301736556, 2544.4873311892907, 2581.7872683380874, 2588.495364609119, 2568.9340025152806, 2535.051074659804, 2501.388806571721, 2480.454528276462, 2479.339538836505, 2498.062634308243, 2529.7850826747044, 2562.7538292804993, 2583.5795031763873, 2581.245368538078, 2551.072725942012, 2497.737415820945, 2436.34101081698, 2390.4890050595886, 2386.3168165261186, 2441.432713738296, 2547.8148600222803, 2647.8075372414924, 2602.5092668595053, 2079.6140672925185, 2599.9507609175735, 2625.1358258278533, 2509.3356651119393, 2414.0538946569604, 2387.824294382589, 2421.4574720150295, 2484.076301736556, 2544.4873311892907, 2581.7872683380874, 2588.495364609119, 2568.9340025152806, 2535.051074659804, 2501.388806571721, 2480.454528276462, 2479.339538836505, 2498.062634308243, 2529.7850826747044, 2562.7538292804993, 2583.5795031763873, 2581.245368538078, 2551.072725942012, 2497.737415820945, 2436.34101081698, 2390.4890050595886, 2386.3168165261186, 2441.432713738296, 2547.8148600222803, 2647.8075372414924, 2602.5092668595053, 2152.0329885917045, 2079.6140672925185, 2599.9507609175735, 2625.1358258278533, 2509.3356651119393, 2414.0538946569604, 2387.824294382589, 2421.4574720150295, 2484.076301736556, 2544.4873311892907, 2581.7872683380874, 2588.495364609119, 2568.9340025152806, 2535.051074659804, 2501.388806571721, 2480.454528276462, 2479.339538836505, 2498.062634308243, 2529.7850826747044, 2562.7538292804993, 2583.5795031763873, 2581.245368538078, 2551.072725942012, 2497.737415820945, 2436.34101081698, 2390.4890050595886, 2386.3168165261186, 2441.432713738296, 2547.8148600222803, 2647.8075372414924, 2602.5092668595053, 2152.0329885917045, 2079.6140672925185, 2599.9507609175735, 2625.1358258278533, 2509.3356651119393, 2414.0538946569604, 2387.824294382589, 2421.4574720150295, 2484.076301736556, 2544.4873311892907, 2581.7872683380874, 2588.495364609119, 2568.9340025152806, 2535.051074659804, 2501.388806571721, 2480.454528276462, 2479.339538836505, 2498.062634308243, 2529.7850826747044, 2562.7538292804993, 2583.5795031763873, 2581.245368538078, 2551.072725942012, 2497.737415820945, 2436.34101081698, 2390.4890050595886, 2386.3168165261186, 2441.432713738296, 2547.8148600222803, 2647.8075372414924, 2602.5092668595053, 2079.6140672925185, 2599.9507609175735, 2625.1358258278533, 2509.3356651119393, 2414.0538946569604, 2387.824294382589, 2421.4574720150295, 2484.076301736556, 2544.4873311892907, 2581.7872683380874, 2588.495364609119, 2568.9340025152806, 2535.051074659804, 2501.388806571721, 2480.454528276462, 2479.339538836505, 2498.062634308243, 2529.7850826747044, 2562.7538292804993, 2583.5795031763873, 2581.245368538078, 2551.072725942012, 2497.737415820945, 2436.34101081698, 2390.4890050595886, 2386.3168165261186, 2441.432713738296, 2547.8148600222803, 2647.8075372414924, 2602.5092668595053, 2152.0329885917045, 2079.6140672925185, 2599.9507609175735, 2625.1358258278533, 2509.3356651119393, 2414.0538946569604, 2387.824294382589, 2421.4574720150295, 2484.076301736556, 2544.4873311892907, 2581.7872683380874, 2588.495364609119, 2568.9340025152806, 2535.051074659804, 2501.388806571721, 2480.454528276462, 2479.339538836505, 2498.062634308243, 2529.7850826747044, 2562.7538292804993, 2583.5795031763873, 2581.245368538078, 2551.072725942012, 2497.737415820945, 2436.34101081698, 2390.4890050595886, 2386.3168165261186, 2547.8148600222803, 2647.8075372414924, 2602.5092668595053, 2079.6140672925185, 2599.9507609175735, 2625.1358258278533, 2509.3356651119393, 2414.0538946569604, 2387.824294382589, 2421.4574720150295, 2484.076301736556, 2544.4873311892907, 2581.7872683380874, 2588.495364609119, 2568.9340025152806, 2535.051074659804, 2501.388806571721, 2480.454528276462, 2479.339538836505, 2498.062634308243, 2529.7850826747044, 2562.7538292804993, 2583.5795031763873, 2581.245368538078, 2551.072725942012, 2497.737415820945, 2436.34101081698, 2386.3168165261186, 2441.432713738296, 2547.8148600222803, 2647.8075372414924, 2602.5092668595053, 2152.0329885917045]}, {\"marker\": {\"color\": \"rgba(2,100,100,0.5)\", \"size\": 10}, \"mode\": \"lines\", \"name\": \"SVM\", \"type\": \"scatter\", \"x\": [1, 2, 3, 4, 5, 6, 7, 8, 9, 10, 11, 12, 13, 14, 15, 16, 17, 18, 19, 20, 21, 22, 23, 24, 25, 26, 27, 28, 29, 30, 31, 32, 33, 34, 35, 36, 37, 38, 39, 40, 41, 42, 43, 44, 45, 46, 47, 48, 49, 50, 51, 52, 53, 54, 55, 56, 57, 58, 59, 60, 61, 62, 63, 64, 65, 66, 67, 68, 69, 70, 71, 72, 73, 74, 75, 76, 77, 78, 79, 80, 81, 82, 83, 84, 85, 86, 87, 88, 89, 90, 91, 92, 93, 94, 95, 96, 97, 98, 99, 100, 101, 102, 103, 104, 105, 106, 107, 108, 109, 110, 111, 112, 113, 114, 115, 116, 117, 118, 119, 120, 121, 122, 123, 124, 125, 126, 127, 128, 129, 130, 131, 132, 133, 134, 135, 136, 137, 138, 139, 140, 141, 142, 143, 144, 145, 146, 147, 148, 149, 150, 151, 152, 153, 154, 155, 156, 157, 158, 159, 160, 161, 162, 163, 164, 165, 166, 167, 168, 169, 170, 171, 172, 173, 174, 175, 176, 177, 178, 179, 180, 181, 182, 183, 184, 185, 186, 187, 188, 189, 190, 191, 192, 193, 194, 195, 196, 197, 198, 199, 200, 201, 202, 203, 204, 205, 206, 207, 208, 209, 210, 211, 212, 213, 214, 215, 216, 217, 218, 219, 220, 221, 222, 223, 224, 225, 226, 227, 228, 229, 230, 231, 232, 233, 234, 235, 236, 237, 238, 239, 240, 241, 242, 243, 244, 245, 246, 247, 248, 249, 250, 251, 252, 253, 254, 255, 256, 257, 258, 259, 260, 261, 262, 263, 264, 265, 266, 267, 268, 269, 270, 271, 272, 273, 274, 275, 276, 277, 278, 279, 280, 281, 282, 283, 284, 285, 286, 287, 288, 289, 290, 291, 292, 293, 294, 295, 296, 297, 298, 299, 300, 301, 302, 303, 304, 305, 306, 307, 308, 309, 310, 311, 312, 313, 314, 315, 316, 317, 318, 319, 320, 321, 322, 323, 324, 325, 326, 327, 328, 329, 330, 332, 333, 334, 335, 336, 337, 338, 339, 340, 341, 342, 343, 344, 345, 346, 347, 348, 349, 350, 351, 352, 353, 354, 355, 356, 357, 358, 360, 361, 362, 363, 364, 365], \"y\": [3057.2052631578945, 3059.1, 3060.9947368421053, 3062.8894736842108, 3064.784210526316, 3066.678947368421, 3068.573684210527, 3070.468421052632, 3072.363157894738, 3074.257894736843, 3076.152631578949, 3078.0473684210538, 3079.9421052631596, 3081.8368421052646, 3083.7315789473696, 3085.6263157894755, 3087.5210526315805, 3089.4157894736863, 3091.310526315792, 3093.2052631578968, 3095.1000000000026, 3096.9947368421085, 3098.8894736842126, 3100.7842105263185, 3102.6789473684244, 3104.5736842105302, 3106.4684210526343, 3108.36315789474, 3110.257894736846, 3112.15263157895, 3114.047368421056, 3057.2052631578945, 3059.1, 3060.9947368421053, 3062.8894736842108, 3064.784210526316, 3066.678947368421, 3068.573684210527, 3070.468421052632, 3072.363157894738, 3074.257894736843, 3076.152631578949, 3078.0473684210538, 3079.9421052631596, 3081.8368421052646, 3083.7315789473696, 3085.6263157894755, 3087.5210526315805, 3089.4157894736863, 3091.310526315792, 3093.2052631578968, 3095.1000000000026, 3096.9947368421085, 3098.8894736842126, 3100.7842105263185, 3102.6789473684244, 3104.5736842105302, 3106.4684210526343, 3108.36315789474, 3057.2052631578945, 3059.1, 3060.9947368421053, 3062.8894736842108, 3064.784210526316, 3066.678947368421, 3068.573684210527, 3070.468421052632, 3072.363157894738, 3074.257894736843, 3076.152631578949, 3078.0473684210538, 3079.9421052631596, 3081.8368421052646, 3083.7315789473696, 3085.6263157894755, 3087.5210526315805, 3089.4157894736863, 3091.310526315792, 3093.2052631578968, 3095.1000000000026, 3096.9947368421085, 3098.8894736842126, 3100.7842105263185, 3102.6789473684244, 3104.5736842105302, 3106.4684210526343, 3108.36315789474, 3110.257894736846, 3112.15263157895, 3114.047368421056, 3057.2052631578945, 3059.1, 3060.9947368421053, 3062.8894736842108, 3064.784210526316, 3066.678947368421, 3068.573684210527, 3070.468421052632, 3072.363157894738, 3074.257894736843, 3076.152631578949, 3078.0473684210538, 3079.9421052631596, 3081.8368421052646, 3083.7315789473696, 3085.6263157894755, 3087.5210526315805, 3089.4157894736863, 3091.310526315792, 3093.2052631578968, 3095.1000000000026, 3096.9947368421085, 3098.8894736842126, 3100.7842105263185, 3102.6789473684244, 3104.5736842105302, 3106.4684210526343, 3108.36315789474, 3110.257894736846, 3112.15263157895, 3057.2052631578945, 3059.1, 3060.9947368421053, 3062.8894736842108, 3064.784210526316, 3066.678947368421, 3068.573684210527, 3070.468421052632, 3072.363157894738, 3074.257894736843, 3076.152631578949, 3078.0473684210538, 3079.9421052631596, 3081.8368421052646, 3083.7315789473696, 3085.6263157894755, 3087.5210526315805, 3089.4157894736863, 3091.310526315792, 3093.2052631578968, 3095.1000000000026, 3096.9947368421085, 3098.8894736842126, 3100.7842105263185, 3102.6789473684244, 3104.5736842105302, 3106.4684210526343, 3108.36315789474, 3110.257894736846, 3112.15263157895, 3114.047368421056, 3057.2052631578945, 3059.1, 3060.9947368421053, 3062.8894736842108, 3064.784210526316, 3066.678947368421, 3068.573684210527, 3070.468421052632, 3072.363157894738, 3074.257894736843, 3076.152631578949, 3078.0473684210538, 3079.9421052631596, 3081.8368421052646, 3083.7315789473696, 3085.6263157894755, 3087.5210526315805, 3089.4157894736863, 3091.310526315792, 3093.2052631578968, 3095.1000000000026, 3096.9947368421085, 3098.8894736842126, 3100.7842105263185, 3102.6789473684244, 3104.5736842105302, 3106.4684210526343, 3108.36315789474, 3110.257894736846, 3112.15263157895, 3057.2052631578945, 3059.1, 3060.9947368421053, 3062.8894736842108, 3064.784210526316, 3066.678947368421, 3068.573684210527, 3070.468421052632, 3072.363157894738, 3074.257894736843, 3076.152631578949, 3078.0473684210538, 3079.9421052631596, 3081.8368421052646, 3083.7315789473696, 3085.6263157894755, 3087.5210526315805, 3089.4157894736863, 3091.310526315792, 3093.2052631578968, 3095.1000000000026, 3096.9947368421085, 3098.8894736842126, 3100.7842105263185, 3102.6789473684244, 3104.5736842105302, 3106.4684210526343, 3108.36315789474, 3110.257894736846, 3112.15263157895, 3114.047368421056, 3057.2052631578945, 3059.1, 3060.9947368421053, 3062.8894736842108, 3064.784210526316, 3066.678947368421, 3068.573684210527, 3070.468421052632, 3072.363157894738, 3074.257894736843, 3076.152631578949, 3078.0473684210538, 3079.9421052631596, 3081.8368421052646, 3083.7315789473696, 3085.6263157894755, 3087.5210526315805, 3089.4157894736863, 3091.310526315792, 3093.2052631578968, 3095.1000000000026, 3096.9947368421085, 3098.8894736842126, 3100.7842105263185, 3102.6789473684244, 3104.5736842105302, 3106.4684210526343, 3108.36315789474, 3110.257894736846, 3112.15263157895, 3114.047368421056, 3057.2052631578945, 3059.1, 3060.9947368421053, 3062.8894736842108, 3064.784210526316, 3066.678947368421, 3068.573684210527, 3070.468421052632, 3072.363157894738, 3074.257894736843, 3076.152631578949, 3078.0473684210538, 3079.9421052631596, 3081.8368421052646, 3083.7315789473696, 3085.6263157894755, 3087.5210526315805, 3089.4157894736863, 3091.310526315792, 3093.2052631578968, 3095.1000000000026, 3096.9947368421085, 3098.8894736842126, 3100.7842105263185, 3102.6789473684244, 3104.5736842105302, 3106.4684210526343, 3108.36315789474, 3110.257894736846, 3112.15263157895, 3057.2052631578945, 3059.1, 3060.9947368421053, 3062.8894736842108, 3064.784210526316, 3066.678947368421, 3068.573684210527, 3070.468421052632, 3072.363157894738, 3074.257894736843, 3076.152631578949, 3078.0473684210538, 3079.9421052631596, 3081.8368421052646, 3083.7315789473696, 3085.6263157894755, 3087.5210526315805, 3089.4157894736863, 3091.310526315792, 3093.2052631578968, 3095.1000000000026, 3096.9947368421085, 3098.8894736842126, 3100.7842105263185, 3102.6789473684244, 3104.5736842105302, 3106.4684210526343, 3108.36315789474, 3110.257894736846, 3112.15263157895, 3114.047368421056, 3057.2052631578945, 3059.1, 3060.9947368421053, 3062.8894736842108, 3064.784210526316, 3066.678947368421, 3068.573684210527, 3070.468421052632, 3072.363157894738, 3074.257894736843, 3076.152631578949, 3078.0473684210538, 3079.9421052631596, 3081.8368421052646, 3083.7315789473696, 3085.6263157894755, 3087.5210526315805, 3089.4157894736863, 3091.310526315792, 3093.2052631578968, 3095.1000000000026, 3096.9947368421085, 3098.8894736842126, 3100.7842105263185, 3102.6789473684244, 3104.5736842105302, 3108.36315789474, 3110.257894736846, 3112.15263157895, 3057.2052631578945, 3059.1, 3060.9947368421053, 3062.8894736842108, 3064.784210526316, 3066.678947368421, 3068.573684210527, 3070.468421052632, 3072.363157894738, 3074.257894736843, 3076.152631578949, 3078.0473684210538, 3079.9421052631596, 3081.8368421052646, 3083.7315789473696, 3085.6263157894755, 3087.5210526315805, 3089.4157894736863, 3091.310526315792, 3093.2052631578968, 3095.1000000000026, 3096.9947368421085, 3098.8894736842126, 3100.7842105263185, 3104.5736842105302, 3106.4684210526343, 3108.36315789474, 3110.257894736846, 3112.15263157895, 3114.047368421056]}, {\"marker\": {\"color\": \"rgba(2,0,1000,0.5)\", \"size\": 10}, \"mode\": \"lines\", \"name\": \"Tree\", \"type\": \"scatter\", \"x\": [1, 2, 3, 4, 5, 6, 7, 8, 9, 10, 11, 12, 13, 14, 15, 16, 17, 18, 19, 20, 21, 22, 23, 24, 25, 26, 27, 28, 29, 30, 31, 32, 33, 34, 35, 36, 37, 38, 39, 40, 41, 42, 43, 44, 45, 46, 47, 48, 49, 50, 51, 52, 53, 54, 55, 56, 57, 58, 59, 60, 61, 62, 63, 64, 65, 66, 67, 68, 69, 70, 71, 72, 73, 74, 75, 76, 77, 78, 79, 80, 81, 82, 83, 84, 85, 86, 87, 88, 89, 90, 91, 92, 93, 94, 95, 96, 97, 98, 99, 100, 101, 102, 103, 104, 105, 106, 107, 108, 109, 110, 111, 112, 113, 114, 115, 116, 117, 118, 119, 120, 121, 122, 123, 124, 125, 126, 127, 128, 129, 130, 131, 132, 133, 134, 135, 136, 137, 138, 139, 140, 141, 142, 143, 144, 145, 146, 147, 148, 149, 150, 151, 152, 153, 154, 155, 156, 157, 158, 159, 160, 161, 162, 163, 164, 165, 166, 167, 168, 169, 170, 171, 172, 173, 174, 175, 176, 177, 178, 179, 180, 181, 182, 183, 184, 185, 186, 187, 188, 189, 190, 191, 192, 193, 194, 195, 196, 197, 198, 199, 200, 201, 202, 203, 204, 205, 206, 207, 208, 209, 210, 211, 212, 213, 214, 215, 216, 217, 218, 219, 220, 221, 222, 223, 224, 225, 226, 227, 228, 229, 230, 231, 232, 233, 234, 235, 236, 237, 238, 239, 240, 241, 242, 243, 244, 245, 246, 247, 248, 249, 250, 251, 252, 253, 254, 255, 256, 257, 258, 259, 260, 261, 262, 263, 264, 265, 266, 267, 268, 269, 270, 271, 272, 273, 274, 275, 276, 277, 278, 279, 280, 281, 282, 283, 284, 285, 286, 287, 288, 289, 290, 291, 292, 293, 294, 295, 296, 297, 298, 299, 300, 301, 302, 303, 304, 305, 306, 307, 308, 309, 310, 311, 312, 313, 314, 315, 316, 317, 318, 319, 320, 321, 322, 323, 324, 325, 326, 327, 328, 329, 330, 332, 333, 334, 335, 336, 337, 338, 339, 340, 341, 342, 343, 344, 345, 346, 347, 348, 349, 350, 351, 352, 353, 354, 355, 356, 357, 358, 360, 361, 362, 363, 364, 365], \"y\": [2096.4166666666665, 2485.75, 2856.25, 2397.0, 2342.25, 2309.5833333333335, 2620.9166666666665, 2458.1666666666665, 2359.75, 2873.8333333333335, 2557.5, 2459.4166666666665, 2366.0, 2615.9166666666665, 2492.1666666666665, 2372.5, 2703.8333333333335, 2645.5833333333335, 2551.0, 2288.3333333333335, 2661.3333333333335, 2503.9166666666665, 2361.3333333333335, 2733.75, 2607.909090909091, 2042.5, 2416.7272727272725, 2622.9166666666665, 2679.4545454545455, 2593.3636363636365, 2153.5714285714284, 2096.4166666666665, 2485.75, 2856.25, 2397.0, 2342.25, 2309.5833333333335, 2620.9166666666665, 2458.1666666666665, 2359.75, 2873.8333333333335, 2557.5, 2459.4166666666665, 2366.0, 2615.9166666666665, 2492.1666666666665, 2372.5, 2703.8333333333335, 2645.5833333333335, 2551.0, 2288.3333333333335, 2661.3333333333335, 2503.9166666666665, 2361.3333333333335, 2733.75, 2607.909090909091, 2042.5, 2416.7272727272725, 2622.9166666666665, 2096.4166666666665, 2485.75, 2856.25, 2397.0, 2342.25, 2309.5833333333335, 2620.9166666666665, 2458.1666666666665, 2359.75, 2873.8333333333335, 2557.5, 2459.4166666666665, 2366.0, 2615.9166666666665, 2492.1666666666665, 2372.5, 2703.8333333333335, 2645.5833333333335, 2551.0, 2288.3333333333335, 2661.3333333333335, 2503.9166666666665, 2361.3333333333335, 2733.75, 2607.909090909091, 2042.5, 2416.7272727272725, 2622.9166666666665, 2679.4545454545455, 2593.3636363636365, 2153.5714285714284, 2096.4166666666665, 2485.75, 2856.25, 2397.0, 2342.25, 2309.5833333333335, 2620.9166666666665, 2458.1666666666665, 2359.75, 2873.8333333333335, 2557.5, 2459.4166666666665, 2366.0, 2615.9166666666665, 2492.1666666666665, 2372.5, 2703.8333333333335, 2645.5833333333335, 2551.0, 2288.3333333333335, 2661.3333333333335, 2503.9166666666665, 2361.3333333333335, 2733.75, 2607.909090909091, 2042.5, 2416.7272727272725, 2622.9166666666665, 2679.4545454545455, 2593.3636363636365, 2096.4166666666665, 2485.75, 2856.25, 2397.0, 2342.25, 2309.5833333333335, 2620.9166666666665, 2458.1666666666665, 2359.75, 2873.8333333333335, 2557.5, 2459.4166666666665, 2366.0, 2615.9166666666665, 2492.1666666666665, 2372.5, 2703.8333333333335, 2645.5833333333335, 2551.0, 2288.3333333333335, 2661.3333333333335, 2503.9166666666665, 2361.3333333333335, 2733.75, 2607.909090909091, 2042.5, 2416.7272727272725, 2622.9166666666665, 2679.4545454545455, 2593.3636363636365, 2153.5714285714284, 2096.4166666666665, 2485.75, 2856.25, 2397.0, 2342.25, 2309.5833333333335, 2620.9166666666665, 2458.1666666666665, 2359.75, 2873.8333333333335, 2557.5, 2459.4166666666665, 2366.0, 2615.9166666666665, 2492.1666666666665, 2372.5, 2703.8333333333335, 2645.5833333333335, 2551.0, 2288.3333333333335, 2661.3333333333335, 2503.9166666666665, 2361.3333333333335, 2733.75, 2607.909090909091, 2042.5, 2416.7272727272725, 2622.9166666666665, 2679.4545454545455, 2593.3636363636365, 2096.4166666666665, 2485.75, 2856.25, 2397.0, 2342.25, 2309.5833333333335, 2620.9166666666665, 2458.1666666666665, 2359.75, 2873.8333333333335, 2557.5, 2459.4166666666665, 2366.0, 2615.9166666666665, 2492.1666666666665, 2372.5, 2703.8333333333335, 2645.5833333333335, 2551.0, 2288.3333333333335, 2661.3333333333335, 2503.9166666666665, 2361.3333333333335, 2733.75, 2607.909090909091, 2042.5, 2416.7272727272725, 2622.9166666666665, 2679.4545454545455, 2593.3636363636365, 2153.5714285714284, 2096.4166666666665, 2485.75, 2856.25, 2397.0, 2342.25, 2309.5833333333335, 2620.9166666666665, 2458.1666666666665, 2359.75, 2873.8333333333335, 2557.5, 2459.4166666666665, 2366.0, 2615.9166666666665, 2492.1666666666665, 2372.5, 2703.8333333333335, 2645.5833333333335, 2551.0, 2288.3333333333335, 2661.3333333333335, 2503.9166666666665, 2361.3333333333335, 2733.75, 2607.909090909091, 2042.5, 2416.7272727272725, 2622.9166666666665, 2679.4545454545455, 2593.3636363636365, 2153.5714285714284, 2096.4166666666665, 2485.75, 2856.25, 2397.0, 2342.25, 2309.5833333333335, 2620.9166666666665, 2458.1666666666665, 2359.75, 2873.8333333333335, 2557.5, 2459.4166666666665, 2366.0, 2615.9166666666665, 2492.1666666666665, 2372.5, 2703.8333333333335, 2645.5833333333335, 2551.0, 2288.3333333333335, 2661.3333333333335, 2503.9166666666665, 2361.3333333333335, 2733.75, 2607.909090909091, 2042.5, 2416.7272727272725, 2622.9166666666665, 2679.4545454545455, 2593.3636363636365, 2096.4166666666665, 2485.75, 2856.25, 2397.0, 2342.25, 2309.5833333333335, 2620.9166666666665, 2458.1666666666665, 2359.75, 2873.8333333333335, 2557.5, 2459.4166666666665, 2366.0, 2615.9166666666665, 2492.1666666666665, 2372.5, 2703.8333333333335, 2645.5833333333335, 2551.0, 2288.3333333333335, 2661.3333333333335, 2503.9166666666665, 2361.3333333333335, 2733.75, 2607.909090909091, 2042.5, 2416.7272727272725, 2622.9166666666665, 2679.4545454545455, 2593.3636363636365, 2153.5714285714284, 2096.4166666666665, 2485.75, 2856.25, 2397.0, 2342.25, 2309.5833333333335, 2620.9166666666665, 2458.1666666666665, 2359.75, 2873.8333333333335, 2557.5, 2459.4166666666665, 2366.0, 2615.9166666666665, 2492.1666666666665, 2372.5, 2703.8333333333335, 2645.5833333333335, 2551.0, 2288.3333333333335, 2661.3333333333335, 2503.9166666666665, 2361.3333333333335, 2733.75, 2607.909090909091, 2042.5, 2622.9166666666665, 2679.4545454545455, 2593.3636363636365, 2096.4166666666665, 2485.75, 2856.25, 2397.0, 2342.25, 2309.5833333333335, 2620.9166666666665, 2458.1666666666665, 2359.75, 2873.8333333333335, 2557.5, 2459.4166666666665, 2366.0, 2615.9166666666665, 2492.1666666666665, 2372.5, 2703.8333333333335, 2645.5833333333335, 2551.0, 2288.3333333333335, 2661.3333333333335, 2503.9166666666665, 2361.3333333333335, 2733.75, 2042.5, 2416.7272727272725, 2622.9166666666665, 2679.4545454545455, 2593.3636363636365, 2153.5714285714284]}, {\"marker\": {\"color\": \"rgba(2,0,10,0.5)\", \"size\": 10}, \"mode\": \"lines\", \"name\": \"KNN\", \"type\": \"scatter\", \"x\": [1, 2, 3, 4, 5, 6, 7, 8, 9, 10, 11, 12, 13, 14, 15, 16, 17, 18, 19, 20, 21, 22, 23, 24, 25, 26, 27, 28, 29, 30, 31, 32, 33, 34, 35, 36, 37, 38, 39, 40, 41, 42, 43, 44, 45, 46, 47, 48, 49, 50, 51, 52, 53, 54, 55, 56, 57, 58, 59, 60, 61, 62, 63, 64, 65, 66, 67, 68, 69, 70, 71, 72, 73, 74, 75, 76, 77, 78, 79, 80, 81, 82, 83, 84, 85, 86, 87, 88, 89, 90, 91, 92, 93, 94, 95, 96, 97, 98, 99, 100, 101, 102, 103, 104, 105, 106, 107, 108, 109, 110, 111, 112, 113, 114, 115, 116, 117, 118, 119, 120, 121, 122, 123, 124, 125, 126, 127, 128, 129, 130, 131, 132, 133, 134, 135, 136, 137, 138, 139, 140, 141, 142, 143, 144, 145, 146, 147, 148, 149, 150, 151, 152, 153, 154, 155, 156, 157, 158, 159, 160, 161, 162, 163, 164, 165, 166, 167, 168, 169, 170, 171, 172, 173, 174, 175, 176, 177, 178, 179, 180, 181, 182, 183, 184, 185, 186, 187, 188, 189, 190, 191, 192, 193, 194, 195, 196, 197, 198, 199, 200, 201, 202, 203, 204, 205, 206, 207, 208, 209, 210, 211, 212, 213, 214, 215, 216, 217, 218, 219, 220, 221, 222, 223, 224, 225, 226, 227, 228, 229, 230, 231, 232, 233, 234, 235, 236, 237, 238, 239, 240, 241, 242, 243, 244, 245, 246, 247, 248, 249, 250, 251, 252, 253, 254, 255, 256, 257, 258, 259, 260, 261, 262, 263, 264, 265, 266, 267, 268, 269, 270, 271, 272, 273, 274, 275, 276, 277, 278, 279, 280, 281, 282, 283, 284, 285, 286, 287, 288, 289, 290, 291, 292, 293, 294, 295, 296, 297, 298, 299, 300, 301, 302, 303, 304, 305, 306, 307, 308, 309, 310, 311, 312, 313, 314, 315, 316, 317, 318, 319, 320, 321, 322, 323, 324, 325, 326, 327, 328, 329, 330, 332, 333, 334, 335, 336, 337, 338, 339, 340, 341, 342, 343, 344, 345, 346, 347, 348, 349, 350, 351, 352, 353, 354, 355, 356, 357, 358, 360, 361, 362, 363, 364, 365], \"y\": [2096.4166666666665, 2485.75, 2856.25, 2397.0, 2342.25, 2309.5833333333335, 2620.9166666666665, 2458.1666666666665, 2359.75, 2873.8333333333335, 2557.5, 2459.4166666666665, 2366.0, 2615.9166666666665, 2492.1666666666665, 2372.5, 2703.8333333333335, 2645.5833333333335, 2551.0, 2288.3333333333335, 2661.3333333333335, 2503.9166666666665, 2361.3333333333335, 2733.75, 2683.0833333333335, 2042.5, 2278.6666666666665, 2622.9166666666665, 2770.0, 2661.3333333333335, 2453.6666666666665, 2096.4166666666665, 2485.75, 2856.25, 2397.0, 2342.25, 2309.5833333333335, 2620.9166666666665, 2458.1666666666665, 2359.75, 2873.8333333333335, 2557.5, 2459.4166666666665, 2366.0, 2615.9166666666665, 2492.1666666666665, 2372.5, 2703.8333333333335, 2645.5833333333335, 2551.0, 2288.3333333333335, 2661.3333333333335, 2503.9166666666665, 2361.3333333333335, 2733.75, 2683.0833333333335, 2042.5, 2278.6666666666665, 2622.9166666666665, 2096.4166666666665, 2485.75, 2856.25, 2397.0, 2342.25, 2309.5833333333335, 2620.9166666666665, 2458.1666666666665, 2359.75, 2873.8333333333335, 2557.5, 2459.4166666666665, 2366.0, 2615.9166666666665, 2492.1666666666665, 2372.5, 2703.8333333333335, 2645.5833333333335, 2551.0, 2288.3333333333335, 2661.3333333333335, 2503.9166666666665, 2361.3333333333335, 2733.75, 2683.0833333333335, 2042.5, 2278.6666666666665, 2622.9166666666665, 2770.0, 2661.3333333333335, 2453.6666666666665, 2096.4166666666665, 2485.75, 2856.25, 2397.0, 2342.25, 2309.5833333333335, 2620.9166666666665, 2458.1666666666665, 2359.75, 2873.8333333333335, 2557.5, 2459.4166666666665, 2366.0, 2615.9166666666665, 2492.1666666666665, 2372.5, 2703.8333333333335, 2645.5833333333335, 2551.0, 2288.3333333333335, 2661.3333333333335, 2503.9166666666665, 2361.3333333333335, 2733.75, 2683.0833333333335, 2042.5, 2278.6666666666665, 2622.9166666666665, 2770.0, 2661.3333333333335, 2096.4166666666665, 2485.75, 2856.25, 2397.0, 2342.25, 2309.5833333333335, 2620.9166666666665, 2458.1666666666665, 2359.75, 2873.8333333333335, 2557.5, 2459.4166666666665, 2366.0, 2615.9166666666665, 2492.1666666666665, 2372.5, 2703.8333333333335, 2645.5833333333335, 2551.0, 2288.3333333333335, 2661.3333333333335, 2503.9166666666665, 2361.3333333333335, 2733.75, 2683.0833333333335, 2042.5, 2278.6666666666665, 2622.9166666666665, 2770.0, 2661.3333333333335, 2453.6666666666665, 2096.4166666666665, 2485.75, 2856.25, 2397.0, 2342.25, 2309.5833333333335, 2620.9166666666665, 2458.1666666666665, 2359.75, 2873.8333333333335, 2557.5, 2459.4166666666665, 2366.0, 2615.9166666666665, 2492.1666666666665, 2372.5, 2703.8333333333335, 2645.5833333333335, 2551.0, 2288.3333333333335, 2661.3333333333335, 2503.9166666666665, 2361.3333333333335, 2733.75, 2683.0833333333335, 2042.5, 2278.6666666666665, 2622.9166666666665, 2770.0, 2661.3333333333335, 2096.4166666666665, 2485.75, 2856.25, 2397.0, 2342.25, 2309.5833333333335, 2620.9166666666665, 2458.1666666666665, 2359.75, 2873.8333333333335, 2557.5, 2459.4166666666665, 2366.0, 2615.9166666666665, 2492.1666666666665, 2372.5, 2703.8333333333335, 2645.5833333333335, 2551.0, 2288.3333333333335, 2661.3333333333335, 2503.9166666666665, 2361.3333333333335, 2733.75, 2683.0833333333335, 2042.5, 2278.6666666666665, 2622.9166666666665, 2770.0, 2661.3333333333335, 2453.6666666666665, 2096.4166666666665, 2485.75, 2856.25, 2397.0, 2342.25, 2309.5833333333335, 2620.9166666666665, 2458.1666666666665, 2359.75, 2873.8333333333335, 2557.5, 2459.4166666666665, 2366.0, 2615.9166666666665, 2492.1666666666665, 2372.5, 2703.8333333333335, 2645.5833333333335, 2551.0, 2288.3333333333335, 2661.3333333333335, 2503.9166666666665, 2361.3333333333335, 2733.75, 2683.0833333333335, 2042.5, 2278.6666666666665, 2622.9166666666665, 2770.0, 2661.3333333333335, 2453.6666666666665, 2096.4166666666665, 2485.75, 2856.25, 2397.0, 2342.25, 2309.5833333333335, 2620.9166666666665, 2458.1666666666665, 2359.75, 2873.8333333333335, 2557.5, 2459.4166666666665, 2366.0, 2615.9166666666665, 2492.1666666666665, 2372.5, 2703.8333333333335, 2645.5833333333335, 2551.0, 2288.3333333333335, 2661.3333333333335, 2503.9166666666665, 2361.3333333333335, 2733.75, 2683.0833333333335, 2042.5, 2278.6666666666665, 2622.9166666666665, 2770.0, 2661.3333333333335, 2096.4166666666665, 2485.75, 2856.25, 2397.0, 2342.25, 2309.5833333333335, 2620.9166666666665, 2458.1666666666665, 2359.75, 2873.8333333333335, 2557.5, 2459.4166666666665, 2366.0, 2615.9166666666665, 2492.1666666666665, 2372.5, 2703.8333333333335, 2645.5833333333335, 2551.0, 2288.3333333333335, 2661.3333333333335, 2503.9166666666665, 2361.3333333333335, 2733.75, 2683.0833333333335, 2042.5, 2278.6666666666665, 2622.9166666666665, 2770.0, 2661.3333333333335, 2453.6666666666665, 2096.4166666666665, 2485.75, 2856.25, 2397.0, 2342.25, 2309.5833333333335, 2620.9166666666665, 2458.1666666666665, 2359.75, 2873.8333333333335, 2557.5, 2459.4166666666665, 2366.0, 2615.9166666666665, 2492.1666666666665, 2372.5, 2703.8333333333335, 2645.5833333333335, 2551.0, 2288.3333333333335, 2661.3333333333335, 2503.9166666666665, 2361.3333333333335, 2733.75, 2683.0833333333335, 2042.5, 2622.9166666666665, 2770.0, 2661.3333333333335, 2096.4166666666665, 2485.75, 2856.25, 2397.0, 2342.25, 2309.5833333333335, 2620.9166666666665, 2458.1666666666665, 2359.75, 2873.8333333333335, 2557.5, 2459.4166666666665, 2366.0, 2615.9166666666665, 2492.1666666666665, 2372.5, 2703.8333333333335, 2645.5833333333335, 2551.0, 2288.3333333333335, 2661.3333333333335, 2503.9166666666665, 2361.3333333333335, 2733.75, 2042.5, 2278.6666666666665, 2622.9166666666665, 2770.0, 2661.3333333333335, 2453.6666666666665]}, {\"marker\": {\"color\": \"rgba(20,20,200,0.5)\", \"size\": 10}, \"mode\": \"lines\", \"name\": \"Average number of calls\", \"type\": \"scatter\", \"x\": [1, 2, 3, 4, 5, 6, 7, 8, 9, 10, 11, 12, 13, 14, 15, 16, 17, 18, 19, 20, 21, 22, 23, 24, 25, 26, 27, 28, 29, 30, 31, 32, 33, 34, 35, 36, 37, 38, 39, 40, 41, 42, 43, 44, 45, 46, 47, 48, 49, 50, 51, 52, 53, 54, 55, 56, 57, 58, 59, 60, 61, 62, 63, 64, 65, 66, 67, 68, 69, 70, 71, 72, 73, 74, 75, 76, 77, 78, 79, 80, 81, 82, 83, 84, 85, 86, 87, 88, 89, 90, 91, 92, 93, 94, 95, 96, 97, 98, 99, 100, 101, 102, 103, 104, 105, 106, 107, 108, 109, 110, 111, 112, 113, 114, 115, 116, 117, 118, 119, 120, 121, 122, 123, 124, 125, 126, 127, 128, 129, 130, 131, 132, 133, 134, 135, 136, 137, 138, 139, 140, 141, 142, 143, 144, 145, 146, 147, 148, 149, 150, 151, 152, 153, 154, 155, 156, 157, 158, 159, 160, 161, 162, 163, 164, 165, 166, 167, 168, 169, 170, 171, 172, 173, 174, 175, 176, 177, 178, 179, 180, 181, 182, 183, 184, 185, 186, 187, 188, 189, 190, 191, 192, 193, 194, 195, 196, 197, 198, 199, 200, 201, 202, 203, 204, 205, 206, 207, 208, 209, 210, 211, 212, 213, 214, 215, 216, 217, 218, 219, 220, 221, 222, 223, 224, 225, 226, 227, 228, 229, 230, 231, 232, 233, 234, 235, 236, 237, 238, 239, 240, 241, 242, 243, 244, 245, 246, 247, 248, 249, 250, 251, 252, 253, 254, 255, 256, 257, 258, 259, 260, 261, 262, 263, 264, 265, 266, 267, 268, 269, 270, 271, 272, 273, 274, 275, 276, 277, 278, 279, 280, 281, 282, 283, 284, 285, 286, 287, 288, 289, 290, 291, 292, 293, 294, 295, 296, 297, 298, 299, 300, 301, 302, 303, 304, 305, 306, 307, 308, 309, 310, 311, 312, 313, 314, 315, 316, 317, 318, 319, 320, 321, 322, 323, 324, 325, 326, 327, 328, 329, 330, 332, 333, 334, 335, 336, 337, 338, 339, 340, 341, 342, 343, 344, 345, 346, 347, 348, 349, 350, 351, 352, 353, 354, 355, 356, 357, 358, 360, 361, 362, 363, 364, 365], \"y\": [2494.99173553719, 2494.99173553719, 2494.99173553719, 2494.99173553719, 2494.99173553719, 2494.99173553719, 2494.99173553719, 2494.99173553719, 2494.99173553719, 2494.99173553719, 2494.99173553719, 2494.99173553719, 2494.99173553719, 2494.99173553719, 2494.99173553719, 2494.99173553719, 2494.99173553719, 2494.99173553719, 2494.99173553719, 2494.99173553719, 2494.99173553719, 2494.99173553719, 2494.99173553719, 2494.99173553719, 2494.99173553719, 2494.99173553719, 2494.99173553719, 2494.99173553719, 2494.99173553719, 2494.99173553719, 2494.99173553719, 2494.99173553719, 2494.99173553719, 2494.99173553719, 2494.99173553719, 2494.99173553719, 2494.99173553719, 2494.99173553719, 2494.99173553719, 2494.99173553719, 2494.99173553719, 2494.99173553719, 2494.99173553719, 2494.99173553719, 2494.99173553719, 2494.99173553719, 2494.99173553719, 2494.99173553719, 2494.99173553719, 2494.99173553719, 2494.99173553719, 2494.99173553719, 2494.99173553719, 2494.99173553719, 2494.99173553719, 2494.99173553719, 2494.99173553719, 2494.99173553719, 2494.99173553719, 2494.99173553719, 2494.99173553719, 2494.99173553719, 2494.99173553719, 2494.99173553719, 2494.99173553719, 2494.99173553719, 2494.99173553719, 2494.99173553719, 2494.99173553719, 2494.99173553719, 2494.99173553719, 2494.99173553719, 2494.99173553719, 2494.99173553719, 2494.99173553719, 2494.99173553719, 2494.99173553719, 2494.99173553719, 2494.99173553719, 2494.99173553719, 2494.99173553719, 2494.99173553719, 2494.99173553719, 2494.99173553719, 2494.99173553719, 2494.99173553719, 2494.99173553719, 2494.99173553719, 2494.99173553719, 2494.99173553719, 2494.99173553719, 2494.99173553719, 2494.99173553719, 2494.99173553719, 2494.99173553719, 2494.99173553719, 2494.99173553719, 2494.99173553719, 2494.99173553719, 2494.99173553719, 2494.99173553719, 2494.99173553719, 2494.99173553719, 2494.99173553719, 2494.99173553719, 2494.99173553719, 2494.99173553719, 2494.99173553719, 2494.99173553719, 2494.99173553719, 2494.99173553719, 2494.99173553719, 2494.99173553719, 2494.99173553719, 2494.99173553719, 2494.99173553719, 2494.99173553719, 2494.99173553719, 2494.99173553719, 2494.99173553719, 2494.99173553719, 2494.99173553719, 2494.99173553719, 2494.99173553719, 2494.99173553719, 2494.99173553719, 2494.99173553719, 2494.99173553719, 2494.99173553719, 2494.99173553719, 2494.99173553719, 2494.99173553719, 2494.99173553719, 2494.99173553719, 2494.99173553719, 2494.99173553719, 2494.99173553719, 2494.99173553719, 2494.99173553719, 2494.99173553719, 2494.99173553719, 2494.99173553719, 2494.99173553719, 2494.99173553719, 2494.99173553719, 2494.99173553719, 2494.99173553719, 2494.99173553719, 2494.99173553719, 2494.99173553719, 2494.99173553719, 2494.99173553719, 2494.99173553719, 2494.99173553719, 2494.99173553719, 2494.99173553719, 2494.99173553719, 2494.99173553719, 2494.99173553719, 2494.99173553719, 2494.99173553719, 2494.99173553719, 2494.99173553719, 2494.99173553719, 2494.99173553719, 2494.99173553719, 2494.99173553719, 2494.99173553719, 2494.99173553719, 2494.99173553719, 2494.99173553719, 2494.99173553719, 2494.99173553719, 2494.99173553719, 2494.99173553719, 2494.99173553719, 2494.99173553719, 2494.99173553719, 2494.99173553719, 2494.99173553719, 2494.99173553719, 2494.99173553719, 2494.99173553719, 2494.99173553719, 2494.99173553719, 2494.99173553719, 2494.99173553719, 2494.99173553719, 2494.99173553719, 2494.99173553719, 2494.99173553719, 2494.99173553719, 2494.99173553719, 2494.99173553719, 2494.99173553719, 2494.99173553719, 2494.99173553719, 2494.99173553719, 2494.99173553719, 2494.99173553719, 2494.99173553719, 2494.99173553719, 2494.99173553719, 2494.99173553719, 2494.99173553719, 2494.99173553719, 2494.99173553719, 2494.99173553719, 2494.99173553719, 2494.99173553719, 2494.99173553719, 2494.99173553719, 2494.99173553719, 2494.99173553719, 2494.99173553719, 2494.99173553719, 2494.99173553719, 2494.99173553719, 2494.99173553719, 2494.99173553719, 2494.99173553719, 2494.99173553719, 2494.99173553719, 2494.99173553719, 2494.99173553719, 2494.99173553719, 2494.99173553719, 2494.99173553719, 2494.99173553719, 2494.99173553719, 2494.99173553719, 2494.99173553719, 2494.99173553719, 2494.99173553719, 2494.99173553719, 2494.99173553719, 2494.99173553719, 2494.99173553719, 2494.99173553719, 2494.99173553719, 2494.99173553719, 2494.99173553719, 2494.99173553719, 2494.99173553719, 2494.99173553719, 2494.99173553719, 2494.99173553719, 2494.99173553719, 2494.99173553719, 2494.99173553719, 2494.99173553719, 2494.99173553719, 2494.99173553719, 2494.99173553719, 2494.99173553719, 2494.99173553719, 2494.99173553719, 2494.99173553719, 2494.99173553719, 2494.99173553719, 2494.99173553719, 2494.99173553719, 2494.99173553719, 2494.99173553719, 2494.99173553719, 2494.99173553719, 2494.99173553719, 2494.99173553719, 2494.99173553719, 2494.99173553719, 2494.99173553719, 2494.99173553719, 2494.99173553719, 2494.99173553719, 2494.99173553719, 2494.99173553719, 2494.99173553719, 2494.99173553719, 2494.99173553719, 2494.99173553719, 2494.99173553719, 2494.99173553719, 2494.99173553719, 2494.99173553719, 2494.99173553719, 2494.99173553719, 2494.99173553719, 2494.99173553719, 2494.99173553719, 2494.99173553719, 2494.99173553719, 2494.99173553719, 2494.99173553719, 2494.99173553719, 2494.99173553719, 2494.99173553719, 2494.99173553719, 2494.99173553719, 2494.99173553719, 2494.99173553719, 2494.99173553719, 2494.99173553719, 2494.99173553719, 2494.99173553719, 2494.99173553719, 2494.99173553719, 2494.99173553719, 2494.99173553719, 2494.99173553719, 2494.99173553719, 2494.99173553719, 2494.99173553719, 2494.99173553719, 2494.99173553719, 2494.99173553719, 2494.99173553719, 2494.99173553719, 2494.99173553719, 2494.99173553719, 2494.99173553719, 2494.99173553719, 2494.99173553719, 2494.99173553719, 2494.99173553719, 2494.99173553719, 2494.99173553719, 2494.99173553719, 2494.99173553719, 2494.99173553719, 2494.99173553719, 2494.99173553719, 2494.99173553719, 2494.99173553719, 2494.99173553719, 2494.99173553719, 2494.99173553719, 2494.99173553719, 2494.99173553719, 2494.99173553719, 2494.99173553719, 2494.99173553719, 2494.99173553719, 2494.99173553719, 2494.99173553719, 2494.99173553719, 2494.99173553719, 2494.99173553719, 2494.99173553719, 2494.99173553719, 2494.99173553719, 2494.99173553719, 2494.99173553719, 2494.99173553719, 2494.99173553719, 2494.99173553719, 2494.99173553719, 2494.99173553719, 2494.99173553719, 2494.99173553719, 2494.99173553719, 2494.99173553719, 2494.99173553719, 2494.99173553719]}],                        {\"template\": {\"data\": {\"bar\": [{\"error_x\": {\"color\": \"#2a3f5f\"}, \"error_y\": {\"color\": \"#2a3f5f\"}, \"marker\": {\"line\": {\"color\": \"#E5ECF6\", \"width\": 0.5}}, \"type\": \"bar\"}], \"barpolar\": [{\"marker\": {\"line\": {\"color\": \"#E5ECF6\", \"width\": 0.5}}, \"type\": \"barpolar\"}], \"carpet\": [{\"aaxis\": {\"endlinecolor\": \"#2a3f5f\", \"gridcolor\": \"white\", \"linecolor\": \"white\", \"minorgridcolor\": \"white\", \"startlinecolor\": \"#2a3f5f\"}, \"baxis\": {\"endlinecolor\": \"#2a3f5f\", \"gridcolor\": \"white\", \"linecolor\": \"white\", \"minorgridcolor\": \"white\", \"startlinecolor\": \"#2a3f5f\"}, \"type\": \"carpet\"}], \"choropleth\": [{\"colorbar\": {\"outlinewidth\": 0, \"ticks\": \"\"}, \"type\": \"choropleth\"}], \"contour\": [{\"colorbar\": {\"outlinewidth\": 0, \"ticks\": \"\"}, \"colorscale\": [[0.0, \"#0d0887\"], [0.1111111111111111, \"#46039f\"], [0.2222222222222222, \"#7201a8\"], [0.3333333333333333, \"#9c179e\"], [0.4444444444444444, \"#bd3786\"], [0.5555555555555556, \"#d8576b\"], [0.6666666666666666, \"#ed7953\"], [0.7777777777777778, \"#fb9f3a\"], [0.8888888888888888, \"#fdca26\"], [1.0, \"#f0f921\"]], \"type\": \"contour\"}], \"contourcarpet\": [{\"colorbar\": {\"outlinewidth\": 0, \"ticks\": \"\"}, \"type\": \"contourcarpet\"}], \"heatmap\": [{\"colorbar\": {\"outlinewidth\": 0, \"ticks\": \"\"}, \"colorscale\": [[0.0, \"#0d0887\"], [0.1111111111111111, \"#46039f\"], [0.2222222222222222, \"#7201a8\"], [0.3333333333333333, \"#9c179e\"], [0.4444444444444444, \"#bd3786\"], [0.5555555555555556, \"#d8576b\"], [0.6666666666666666, \"#ed7953\"], [0.7777777777777778, \"#fb9f3a\"], [0.8888888888888888, \"#fdca26\"], [1.0, \"#f0f921\"]], \"type\": \"heatmap\"}], \"heatmapgl\": [{\"colorbar\": {\"outlinewidth\": 0, \"ticks\": \"\"}, \"colorscale\": [[0.0, \"#0d0887\"], [0.1111111111111111, \"#46039f\"], [0.2222222222222222, \"#7201a8\"], [0.3333333333333333, \"#9c179e\"], [0.4444444444444444, \"#bd3786\"], [0.5555555555555556, \"#d8576b\"], [0.6666666666666666, \"#ed7953\"], [0.7777777777777778, \"#fb9f3a\"], [0.8888888888888888, \"#fdca26\"], [1.0, \"#f0f921\"]], \"type\": \"heatmapgl\"}], \"histogram\": [{\"marker\": {\"colorbar\": {\"outlinewidth\": 0, \"ticks\": \"\"}}, \"type\": \"histogram\"}], \"histogram2d\": [{\"colorbar\": {\"outlinewidth\": 0, \"ticks\": \"\"}, \"colorscale\": [[0.0, \"#0d0887\"], [0.1111111111111111, \"#46039f\"], [0.2222222222222222, \"#7201a8\"], [0.3333333333333333, \"#9c179e\"], [0.4444444444444444, \"#bd3786\"], [0.5555555555555556, \"#d8576b\"], [0.6666666666666666, \"#ed7953\"], [0.7777777777777778, \"#fb9f3a\"], [0.8888888888888888, \"#fdca26\"], [1.0, \"#f0f921\"]], \"type\": \"histogram2d\"}], \"histogram2dcontour\": [{\"colorbar\": {\"outlinewidth\": 0, \"ticks\": \"\"}, \"colorscale\": [[0.0, \"#0d0887\"], [0.1111111111111111, \"#46039f\"], [0.2222222222222222, \"#7201a8\"], [0.3333333333333333, \"#9c179e\"], [0.4444444444444444, \"#bd3786\"], [0.5555555555555556, \"#d8576b\"], [0.6666666666666666, \"#ed7953\"], [0.7777777777777778, \"#fb9f3a\"], [0.8888888888888888, \"#fdca26\"], [1.0, \"#f0f921\"]], \"type\": \"histogram2dcontour\"}], \"mesh3d\": [{\"colorbar\": {\"outlinewidth\": 0, \"ticks\": \"\"}, \"type\": \"mesh3d\"}], \"parcoords\": [{\"line\": {\"colorbar\": {\"outlinewidth\": 0, \"ticks\": \"\"}}, \"type\": \"parcoords\"}], \"pie\": [{\"automargin\": true, \"type\": \"pie\"}], \"scatter\": [{\"marker\": {\"colorbar\": {\"outlinewidth\": 0, \"ticks\": \"\"}}, \"type\": \"scatter\"}], \"scatter3d\": [{\"line\": {\"colorbar\": {\"outlinewidth\": 0, \"ticks\": \"\"}}, \"marker\": {\"colorbar\": {\"outlinewidth\": 0, \"ticks\": \"\"}}, \"type\": \"scatter3d\"}], \"scattercarpet\": [{\"marker\": {\"colorbar\": {\"outlinewidth\": 0, \"ticks\": \"\"}}, \"type\": \"scattercarpet\"}], \"scattergeo\": [{\"marker\": {\"colorbar\": {\"outlinewidth\": 0, \"ticks\": \"\"}}, \"type\": \"scattergeo\"}], \"scattergl\": [{\"marker\": {\"colorbar\": {\"outlinewidth\": 0, \"ticks\": \"\"}}, \"type\": \"scattergl\"}], \"scattermapbox\": [{\"marker\": {\"colorbar\": {\"outlinewidth\": 0, \"ticks\": \"\"}}, \"type\": \"scattermapbox\"}], \"scatterpolar\": [{\"marker\": {\"colorbar\": {\"outlinewidth\": 0, \"ticks\": \"\"}}, \"type\": \"scatterpolar\"}], \"scatterpolargl\": [{\"marker\": {\"colorbar\": {\"outlinewidth\": 0, \"ticks\": \"\"}}, \"type\": \"scatterpolargl\"}], \"scatterternary\": [{\"marker\": {\"colorbar\": {\"outlinewidth\": 0, \"ticks\": \"\"}}, \"type\": \"scatterternary\"}], \"surface\": [{\"colorbar\": {\"outlinewidth\": 0, \"ticks\": \"\"}, \"colorscale\": [[0.0, \"#0d0887\"], [0.1111111111111111, \"#46039f\"], [0.2222222222222222, \"#7201a8\"], [0.3333333333333333, \"#9c179e\"], [0.4444444444444444, \"#bd3786\"], [0.5555555555555556, \"#d8576b\"], [0.6666666666666666, \"#ed7953\"], [0.7777777777777778, \"#fb9f3a\"], [0.8888888888888888, \"#fdca26\"], [1.0, \"#f0f921\"]], \"type\": \"surface\"}], \"table\": [{\"cells\": {\"fill\": {\"color\": \"#EBF0F8\"}, \"line\": {\"color\": \"white\"}}, \"header\": {\"fill\": {\"color\": \"#C8D4E3\"}, \"line\": {\"color\": \"white\"}}, \"type\": \"table\"}]}, \"layout\": {\"annotationdefaults\": {\"arrowcolor\": \"#2a3f5f\", \"arrowhead\": 0, \"arrowwidth\": 1}, \"coloraxis\": {\"colorbar\": {\"outlinewidth\": 0, \"ticks\": \"\"}}, \"colorscale\": {\"diverging\": [[0, \"#8e0152\"], [0.1, \"#c51b7d\"], [0.2, \"#de77ae\"], [0.3, \"#f1b6da\"], [0.4, \"#fde0ef\"], [0.5, \"#f7f7f7\"], [0.6, \"#e6f5d0\"], [0.7, \"#b8e186\"], [0.8, \"#7fbc41\"], [0.9, \"#4d9221\"], [1, \"#276419\"]], \"sequential\": [[0.0, \"#0d0887\"], [0.1111111111111111, \"#46039f\"], [0.2222222222222222, \"#7201a8\"], [0.3333333333333333, \"#9c179e\"], [0.4444444444444444, \"#bd3786\"], [0.5555555555555556, \"#d8576b\"], [0.6666666666666666, \"#ed7953\"], [0.7777777777777778, \"#fb9f3a\"], [0.8888888888888888, \"#fdca26\"], [1.0, \"#f0f921\"]], \"sequentialminus\": [[0.0, \"#0d0887\"], [0.1111111111111111, \"#46039f\"], [0.2222222222222222, \"#7201a8\"], [0.3333333333333333, \"#9c179e\"], [0.4444444444444444, \"#bd3786\"], [0.5555555555555556, \"#d8576b\"], [0.6666666666666666, \"#ed7953\"], [0.7777777777777778, \"#fb9f3a\"], [0.8888888888888888, \"#fdca26\"], [1.0, \"#f0f921\"]]}, \"colorway\": [\"#636efa\", \"#EF553B\", \"#00cc96\", \"#ab63fa\", \"#FFA15A\", \"#19d3f3\", \"#FF6692\", \"#B6E880\", \"#FF97FF\", \"#FECB52\"], \"font\": {\"color\": \"#2a3f5f\"}, \"geo\": {\"bgcolor\": \"white\", \"lakecolor\": \"white\", \"landcolor\": \"#E5ECF6\", \"showlakes\": true, \"showland\": true, \"subunitcolor\": \"white\"}, \"hoverlabel\": {\"align\": \"left\"}, \"hovermode\": \"closest\", \"mapbox\": {\"style\": \"light\"}, \"paper_bgcolor\": \"white\", \"plot_bgcolor\": \"#E5ECF6\", \"polar\": {\"angularaxis\": {\"gridcolor\": \"white\", \"linecolor\": \"white\", \"ticks\": \"\"}, \"bgcolor\": \"#E5ECF6\", \"radialaxis\": {\"gridcolor\": \"white\", \"linecolor\": \"white\", \"ticks\": \"\"}}, \"scene\": {\"xaxis\": {\"backgroundcolor\": \"#E5ECF6\", \"gridcolor\": \"white\", \"gridwidth\": 2, \"linecolor\": \"white\", \"showbackground\": true, \"ticks\": \"\", \"zerolinecolor\": \"white\"}, \"yaxis\": {\"backgroundcolor\": \"#E5ECF6\", \"gridcolor\": \"white\", \"gridwidth\": 2, \"linecolor\": \"white\", \"showbackground\": true, \"ticks\": \"\", \"zerolinecolor\": \"white\"}, \"zaxis\": {\"backgroundcolor\": \"#E5ECF6\", \"gridcolor\": \"white\", \"gridwidth\": 2, \"linecolor\": \"white\", \"showbackground\": true, \"ticks\": \"\", \"zerolinecolor\": \"white\"}}, \"shapedefaults\": {\"line\": {\"color\": \"#2a3f5f\"}}, \"ternary\": {\"aaxis\": {\"gridcolor\": \"white\", \"linecolor\": \"white\", \"ticks\": \"\"}, \"baxis\": {\"gridcolor\": \"white\", \"linecolor\": \"white\", \"ticks\": \"\"}, \"bgcolor\": \"#E5ECF6\", \"caxis\": {\"gridcolor\": \"white\", \"linecolor\": \"white\", \"ticks\": \"\"}}, \"title\": {\"x\": 0.05}, \"xaxis\": {\"automargin\": true, \"gridcolor\": \"white\", \"linecolor\": \"white\", \"ticks\": \"\", \"title\": {\"standoff\": 15}, \"zerolinecolor\": \"white\", \"zerolinewidth\": 2}, \"yaxis\": {\"automargin\": true, \"gridcolor\": \"white\", \"linecolor\": \"white\", \"ticks\": \"\", \"title\": {\"standoff\": 15}, \"zerolinecolor\": \"white\", \"zerolinewidth\": 2}}}, \"title\": {\"text\": \"Frequency of call for each day\"}, \"xaxis\": {\"showgrid\": false, \"showline\": false, \"title\": {\"text\": \"day\"}, \"zeroline\": false}, \"yaxis\": {\"showgrid\": false, \"showline\": false, \"title\": {\"text\": \"count\"}, \"zeroline\": false}},                        {\"responsive\": true}                    ).then(function(){\n",
       "                            \n",
       "var gd = document.getElementById('00ba2ee9-5ed7-460b-85cd-6f2d8131f698');\n",
       "var x = new MutationObserver(function (mutations, observer) {{\n",
       "        var display = window.getComputedStyle(gd).display;\n",
       "        if (!display || display === 'none') {{\n",
       "            console.log([gd, 'removed!']);\n",
       "            Plotly.purge(gd);\n",
       "            observer.disconnect();\n",
       "        }}\n",
       "}});\n",
       "\n",
       "// Listen for the removal of the full notebook cells\n",
       "var notebookContainer = gd.closest('#notebook-container');\n",
       "if (notebookContainer) {{\n",
       "    x.observe(notebookContainer, {childList: true});\n",
       "}}\n",
       "\n",
       "// Listen for the clearing of the current output cell\n",
       "var outputEl = gd.closest('.output');\n",
       "if (outputEl) {{\n",
       "    x.observe(outputEl, {childList: true});\n",
       "}}\n",
       "\n",
       "                        })                };                });            </script>        </div>"
      ]
     },
     "metadata": {},
     "output_type": "display_data"
    }
   ],
   "source": [
    "# plot of all results\n",
    "trace_1 = go.Scatter(x = df_count_2014.days,y=df_count_2014[\"count\"],mode = 'markers',name = \"original\",\n",
    "                     marker = dict(size = 10,color=\"rgba(152,0,0,0.5)\")\n",
    "                    )\n",
    "trace_2 = go.Scatter(x = df_count_2014.days,y=regr1.predict(X),mode = 'lines',name = \"Linear reg\",\n",
    "                     marker = dict(size = 10,color=\"rgba(152,100,0,0.5)\")\n",
    "                    )\n",
    "trace_3 = go.Scatter(x = df_count_2014.days,y=pipe.predict(X),mode = 'lines',name = \"Polinomial\",\n",
    "                     marker = dict(size = 10,color=\"rgba(152,0,1000,0.5)\")\n",
    "                    )\n",
    "trace_4 = go.Scatter(x = df_count_2014.days,y=mod_linearsvc.predict(X),mode = 'lines',name = \"SVM\",\n",
    "                     marker = dict(size = 10,color=\"rgba(2,100,100,0.5)\")\n",
    "                     \n",
    "                    )\n",
    "trace_5 = go.Scatter(x = df_count_2014.days,y=mod_reg_fit.predict(X),mode = 'lines',name = \"Tree\",\n",
    "                     marker = dict(size = 10,color=\"rgba(2,0,1000,0.5)\")\n",
    "                     \n",
    "                    )\n",
    "trace_6 = go.Scatter(x = df_count_2014.days,y=neigh.predict(X),mode = 'lines',name = \"KNN\",\n",
    "                     marker = dict(size = 10,color=\"rgba(2,0,10,0.5)\")\n",
    "                     \n",
    "                    )\n",
    "trace_7 = go.Scatter(x = df_count_2014.days,y=np.zeros(len(df_count_2014[\"count\"]))+df_count_2014[\"count\"].mean(),mode = 'lines',name = \"Average number of calls\",\n",
    "                     marker = dict(size = 10,color=\"rgba(20,20,200,0.5)\")\n",
    "                     \n",
    "                    )\n",
    "\n",
    "layout  = dict(title = \"Frequency of call for each day\",\n",
    "               xaxis = dict(title = \"day\",showgrid=False,showline=False,zeroline=False),\n",
    "               yaxis = dict(title = \"count\",showgrid=False,showline=False,zeroline=False)\n",
    "              )\n",
    "\n",
    "data = [trace_1,trace_2,trace_3,trace_4,trace_5,trace_6,trace_7]\n",
    "figure = dict(data=data,layout=layout)\n",
    "iplot(figure)"
   ]
  },
  {
   "cell_type": "markdown",
   "metadata": {},
   "source": [
    "I also apply all these approaches to transformed data where new data is the difference but the results are still bad that why I remove these experiments."
   ]
  },
  {
   "cell_type": "markdown",
   "metadata": {},
   "source": [
    "## The last approach"
   ]
  },
  {
   "cell_type": "markdown",
   "metadata": {},
   "source": [
    "From the plot upper you can see that frequency can be divided into two groups, the average frequency of the first group is around 900, for the second: 3000. That is why I divided the prediction process into three parts:           \n",
    "1)by using clustering algorithms predict two clusters                                              \n",
    "2)now we have labeled data, find the best classification algorithm to predict the test data by using train data. It means that first we should predict the label for test date then also predict frequency.     \n",
    "3)now is time to get the best regression model to predict frequency by using not only day but also label."
   ]
  },
  {
   "cell_type": "markdown",
   "metadata": {},
   "source": [
    "### Clustering on all data"
   ]
  },
  {
   "cell_type": "code",
   "execution_count": 76,
   "metadata": {},
   "outputs": [
    {
     "name": "stderr",
     "output_type": "stream",
     "text": [
      "<ipython-input-76-1f111bf7e14b>:6: SettingWithCopyWarning:\n",
      "\n",
      "\n",
      "A value is trying to be set on a copy of a slice from a DataFrame.\n",
      "Try using .loc[row_indexer,col_indexer] = value instead\n",
      "\n",
      "See the caveats in the documentation: https://pandas.pydata.org/pandas-docs/stable/user_guide/indexing.html#returning-a-view-versus-a-copy\n",
      "\n"
     ]
    }
   ],
   "source": [
    "# by using DBSCAN clustering algorithm split the data to two parts\n",
    "std=np.std(df_count_2014[\"count\"])\n",
    "X_dbscan=df_count_2014[[\"count\",\"days\"]]\n",
    "clustering_dbscan = DBSCAN(eps=std*0.3, min_samples=2).fit(X_dbscan)\n",
    "label=clustering_dbscan.labels_\n",
    "X_dbscan[\"label\"]=label"
   ]
  },
  {
   "cell_type": "code",
   "execution_count": 111,
   "metadata": {},
   "outputs": [
    {
     "data": {
      "application/vnd.plotly.v1+json": {
       "config": {
        "plotlyServerURL": "https://plot.ly"
       },
       "data": [
        {
         "hovertemplate": "color=0<br>x=%{x}<br>y=%{y}<extra></extra>",
         "legendgroup": "0",
         "marker": {
          "color": "#636efa",
          "symbol": "circle"
         },
         "mode": "markers",
         "name": "0",
         "orientation": "v",
         "showlegend": true,
         "type": "scatter",
         "x": [
          1,
          4,
          5,
          11,
          12,
          18,
          19,
          25,
          26,
          32,
          33,
          39,
          40,
          46,
          47,
          53,
          54,
          60,
          61,
          67,
          68,
          74,
          75,
          81,
          82,
          88,
          89,
          95,
          96,
          102,
          103,
          109,
          110,
          116,
          117,
          123,
          124,
          130,
          131,
          137,
          138,
          144,
          145,
          146,
          151,
          152,
          158,
          159,
          165,
          166,
          172,
          173,
          179,
          180,
          185,
          186,
          187,
          193,
          194,
          200,
          201,
          207,
          208,
          214,
          215,
          221,
          222,
          228,
          229,
          235,
          236,
          242,
          243,
          244,
          249,
          250,
          256,
          257,
          263,
          264,
          270,
          271,
          277,
          278,
          284,
          285,
          291,
          292,
          298,
          299,
          305,
          306,
          312,
          313,
          319,
          320,
          326,
          327,
          333,
          334,
          340,
          341,
          347,
          348,
          354,
          355,
          361,
          362
         ],
         "xaxis": "x",
         "y": [
          639,
          718,
          553,
          800,
          567,
          790,
          521,
          744,
          558,
          808,
          464,
          775,
          488,
          845,
          602,
          743,
          475,
          797,
          766,
          758,
          600,
          795,
          778,
          787,
          578,
          724,
          572,
          681,
          645,
          776,
          490,
          697,
          122,
          760,
          585,
          860,
          597,
          719,
          544,
          701,
          554,
          723,
          620,
          778,
          789,
          539,
          844,
          550,
          822,
          497,
          831,
          513,
          788,
          532,
          744,
          764,
          577,
          807,
          502,
          856,
          594,
          812,
          579,
          686,
          569,
          735,
          473,
          718,
          513,
          625,
          493,
          641,
          584,
          850,
          766,
          444,
          651,
          502,
          681,
          457,
          636,
          556,
          626,
          504,
          704,
          591,
          753,
          533,
          866,
          613,
          867,
          616,
          726,
          536,
          752,
          583,
          692,
          622,
          708,
          552,
          835,
          571,
          772,
          441,
          777,
          512,
          666,
          500
         ],
         "yaxis": "y"
        },
        {
         "hovertemplate": "color=1<br>x=%{x}<br>y=%{y}<extra></extra>",
         "legendgroup": "1",
         "marker": {
          "color": "#EF553B",
          "symbol": "circle"
         },
         "mode": "markers",
         "name": "1",
         "orientation": "v",
         "showlegend": true,
         "type": "scatter",
         "x": [
          2,
          3,
          6,
          7,
          8,
          9,
          10,
          13,
          14,
          15,
          16,
          17,
          20,
          21,
          22,
          23,
          24,
          27,
          28,
          29,
          30,
          31,
          34,
          35,
          36,
          37,
          38,
          41,
          42,
          43,
          44,
          45,
          48,
          49,
          50,
          51,
          52,
          55,
          56,
          57,
          58,
          59,
          62,
          63,
          64,
          65,
          66,
          69,
          70,
          71,
          72,
          73,
          76,
          77,
          78,
          79,
          80,
          83,
          84,
          85,
          86,
          87,
          90,
          91,
          92,
          93,
          94,
          97,
          98,
          99,
          100,
          101,
          104,
          105,
          106,
          107,
          108,
          111,
          112,
          113,
          114,
          115,
          118,
          119,
          120,
          121,
          122,
          125,
          126,
          127,
          128,
          129,
          132,
          133,
          134,
          135,
          136,
          140,
          141,
          142,
          143,
          147,
          148,
          149,
          150,
          153,
          154,
          155,
          156,
          157,
          160,
          161,
          162,
          163,
          164,
          167,
          168,
          169,
          170,
          171,
          174,
          175,
          176,
          177,
          178,
          181,
          182,
          183,
          184,
          188,
          189,
          190,
          191,
          192,
          195,
          196,
          197,
          198,
          199,
          202,
          203,
          204,
          205,
          206,
          209,
          210,
          211,
          212,
          213,
          216,
          217,
          218,
          219,
          220,
          223,
          224,
          225,
          226,
          227,
          230,
          231,
          232,
          233,
          234,
          237,
          238,
          239,
          240,
          241,
          245,
          246,
          247,
          248,
          251,
          252,
          253,
          254,
          255,
          258,
          259,
          260,
          261,
          262,
          265,
          266,
          267,
          268,
          269,
          272,
          273,
          274,
          275,
          276,
          279,
          280,
          281,
          282,
          283,
          286,
          287,
          288,
          289,
          290,
          293,
          294,
          295,
          296,
          297,
          300,
          301,
          302,
          303,
          304,
          307,
          308,
          309,
          310,
          311,
          314,
          315,
          316,
          317,
          318,
          321,
          322,
          323,
          324,
          325,
          328,
          329,
          330,
          335,
          336,
          337,
          338,
          339,
          342,
          343,
          344,
          345,
          346,
          349,
          350,
          351,
          352,
          353,
          356,
          357,
          358,
          360,
          363,
          364,
          365
         ],
         "xaxis": "x",
         "y": [
          2920,
          2632,
          2816,
          3054,
          3149,
          2883,
          2693,
          3606,
          3209,
          3003,
          2782,
          2810,
          1908,
          3455,
          3292,
          2901,
          2663,
          3348,
          3156,
          3145,
          3064,
          2762,
          3169,
          2930,
          3121,
          2811,
          2655,
          3496,
          3030,
          3065,
          2924,
          2589,
          1684,
          3575,
          3229,
          3108,
          2784,
          3510,
          3252,
          2991,
          2863,
          3083,
          3495,
          3082,
          3064,
          2795,
          2697,
          3512,
          3254,
          3206,
          2894,
          2675,
          3590,
          3332,
          3174,
          3050,
          2788,
          3587,
          3423,
          3236,
          3322,
          3032,
          2764,
          3807,
          3381,
          3052,
          3006,
          3680,
          3401,
          3212,
          3220,
          3076,
          3483,
          3028,
          3250,
          3208,
          2652,
          3647,
          3324,
          3254,
          3221,
          2913,
          3547,
          3456,
          3441,
          3195,
          3059,
          3666,
          3270,
          3342,
          3241,
          3001,
          3591,
          3532,
          3347,
          3111,
          2923,
          3700,
          3601,
          3196,
          2924,
          3992,
          3846,
          3409,
          3068,
          3791,
          3469,
          3181,
          3060,
          2902,
          3727,
          3566,
          3326,
          2935,
          2793,
          3641,
          3264,
          3312,
          3221,
          3186,
          3905,
          3369,
          3400,
          3385,
          3363,
          3972,
          3443,
          3302,
          3115,
          3951,
          3351,
          3338,
          3320,
          3312,
          3806,
          3524,
          3478,
          3473,
          3144,
          3952,
          3652,
          3520,
          3206,
          3193,
          4224,
          3532,
          3400,
          3224,
          3054,
          3931,
          3246,
          3216,
          3515,
          2974,
          3742,
          3696,
          3757,
          3441,
          3211,
          3876,
          3856,
          3548,
          3395,
          2976,
          4048,
          3408,
          3599,
          3766,
          3297,
          4204,
          3636,
          3603,
          3249,
          3634,
          3485,
          3474,
          3255,
          2949,
          3819,
          3454,
          3286,
          3131,
          3111,
          3850,
          3068,
          3318,
          3099,
          2930,
          3988,
          3535,
          3451,
          3594,
          3315,
          3927,
          3495,
          3422,
          3125,
          2798,
          3122,
          3981,
          3553,
          3056,
          2911,
          3581,
          3419,
          3351,
          3305,
          3067,
          3631,
          3644,
          3263,
          3247,
          2763,
          3846,
          3210,
          3291,
          3155,
          3203,
          3948,
          2187,
          4008,
          3349,
          3095,
          3649,
          3644,
          3302,
          3205,
          3095,
          3772,
          3129,
          2688,
          3707,
          3046,
          3117,
          3136,
          2908,
          3517,
          3187,
          3267,
          3460,
          3322,
          3768,
          3205,
          3357,
          2984,
          3004,
          3671,
          3159,
          1876,
          2351,
          3420,
          3035,
          2189
         ],
         "yaxis": "y"
        },
        {
         "hovertemplate": "color=-1<br>x=%{x}<br>y=%{y}<extra></extra>",
         "legendgroup": "-1",
         "marker": {
          "color": "#00cc96",
          "symbol": "circle"
         },
         "mode": "markers",
         "name": "-1",
         "orientation": "v",
         "showlegend": true,
         "type": "scatter",
         "x": [
          139,
          332
         ],
         "xaxis": "x",
         "y": [
          5108,
          1333
         ],
         "yaxis": "y"
        }
       ],
       "layout": {
        "legend": {
         "title": {
          "text": "color"
         },
         "tracegroupgap": 0
        },
        "template": {
         "data": {
          "bar": [
           {
            "error_x": {
             "color": "#2a3f5f"
            },
            "error_y": {
             "color": "#2a3f5f"
            },
            "marker": {
             "line": {
              "color": "#E5ECF6",
              "width": 0.5
             }
            },
            "type": "bar"
           }
          ],
          "barpolar": [
           {
            "marker": {
             "line": {
              "color": "#E5ECF6",
              "width": 0.5
             }
            },
            "type": "barpolar"
           }
          ],
          "carpet": [
           {
            "aaxis": {
             "endlinecolor": "#2a3f5f",
             "gridcolor": "white",
             "linecolor": "white",
             "minorgridcolor": "white",
             "startlinecolor": "#2a3f5f"
            },
            "baxis": {
             "endlinecolor": "#2a3f5f",
             "gridcolor": "white",
             "linecolor": "white",
             "minorgridcolor": "white",
             "startlinecolor": "#2a3f5f"
            },
            "type": "carpet"
           }
          ],
          "choropleth": [
           {
            "colorbar": {
             "outlinewidth": 0,
             "ticks": ""
            },
            "type": "choropleth"
           }
          ],
          "contour": [
           {
            "colorbar": {
             "outlinewidth": 0,
             "ticks": ""
            },
            "colorscale": [
             [
              0,
              "#0d0887"
             ],
             [
              0.1111111111111111,
              "#46039f"
             ],
             [
              0.2222222222222222,
              "#7201a8"
             ],
             [
              0.3333333333333333,
              "#9c179e"
             ],
             [
              0.4444444444444444,
              "#bd3786"
             ],
             [
              0.5555555555555556,
              "#d8576b"
             ],
             [
              0.6666666666666666,
              "#ed7953"
             ],
             [
              0.7777777777777778,
              "#fb9f3a"
             ],
             [
              0.8888888888888888,
              "#fdca26"
             ],
             [
              1,
              "#f0f921"
             ]
            ],
            "type": "contour"
           }
          ],
          "contourcarpet": [
           {
            "colorbar": {
             "outlinewidth": 0,
             "ticks": ""
            },
            "type": "contourcarpet"
           }
          ],
          "heatmap": [
           {
            "colorbar": {
             "outlinewidth": 0,
             "ticks": ""
            },
            "colorscale": [
             [
              0,
              "#0d0887"
             ],
             [
              0.1111111111111111,
              "#46039f"
             ],
             [
              0.2222222222222222,
              "#7201a8"
             ],
             [
              0.3333333333333333,
              "#9c179e"
             ],
             [
              0.4444444444444444,
              "#bd3786"
             ],
             [
              0.5555555555555556,
              "#d8576b"
             ],
             [
              0.6666666666666666,
              "#ed7953"
             ],
             [
              0.7777777777777778,
              "#fb9f3a"
             ],
             [
              0.8888888888888888,
              "#fdca26"
             ],
             [
              1,
              "#f0f921"
             ]
            ],
            "type": "heatmap"
           }
          ],
          "heatmapgl": [
           {
            "colorbar": {
             "outlinewidth": 0,
             "ticks": ""
            },
            "colorscale": [
             [
              0,
              "#0d0887"
             ],
             [
              0.1111111111111111,
              "#46039f"
             ],
             [
              0.2222222222222222,
              "#7201a8"
             ],
             [
              0.3333333333333333,
              "#9c179e"
             ],
             [
              0.4444444444444444,
              "#bd3786"
             ],
             [
              0.5555555555555556,
              "#d8576b"
             ],
             [
              0.6666666666666666,
              "#ed7953"
             ],
             [
              0.7777777777777778,
              "#fb9f3a"
             ],
             [
              0.8888888888888888,
              "#fdca26"
             ],
             [
              1,
              "#f0f921"
             ]
            ],
            "type": "heatmapgl"
           }
          ],
          "histogram": [
           {
            "marker": {
             "colorbar": {
              "outlinewidth": 0,
              "ticks": ""
             }
            },
            "type": "histogram"
           }
          ],
          "histogram2d": [
           {
            "colorbar": {
             "outlinewidth": 0,
             "ticks": ""
            },
            "colorscale": [
             [
              0,
              "#0d0887"
             ],
             [
              0.1111111111111111,
              "#46039f"
             ],
             [
              0.2222222222222222,
              "#7201a8"
             ],
             [
              0.3333333333333333,
              "#9c179e"
             ],
             [
              0.4444444444444444,
              "#bd3786"
             ],
             [
              0.5555555555555556,
              "#d8576b"
             ],
             [
              0.6666666666666666,
              "#ed7953"
             ],
             [
              0.7777777777777778,
              "#fb9f3a"
             ],
             [
              0.8888888888888888,
              "#fdca26"
             ],
             [
              1,
              "#f0f921"
             ]
            ],
            "type": "histogram2d"
           }
          ],
          "histogram2dcontour": [
           {
            "colorbar": {
             "outlinewidth": 0,
             "ticks": ""
            },
            "colorscale": [
             [
              0,
              "#0d0887"
             ],
             [
              0.1111111111111111,
              "#46039f"
             ],
             [
              0.2222222222222222,
              "#7201a8"
             ],
             [
              0.3333333333333333,
              "#9c179e"
             ],
             [
              0.4444444444444444,
              "#bd3786"
             ],
             [
              0.5555555555555556,
              "#d8576b"
             ],
             [
              0.6666666666666666,
              "#ed7953"
             ],
             [
              0.7777777777777778,
              "#fb9f3a"
             ],
             [
              0.8888888888888888,
              "#fdca26"
             ],
             [
              1,
              "#f0f921"
             ]
            ],
            "type": "histogram2dcontour"
           }
          ],
          "mesh3d": [
           {
            "colorbar": {
             "outlinewidth": 0,
             "ticks": ""
            },
            "type": "mesh3d"
           }
          ],
          "parcoords": [
           {
            "line": {
             "colorbar": {
              "outlinewidth": 0,
              "ticks": ""
             }
            },
            "type": "parcoords"
           }
          ],
          "pie": [
           {
            "automargin": true,
            "type": "pie"
           }
          ],
          "scatter": [
           {
            "marker": {
             "colorbar": {
              "outlinewidth": 0,
              "ticks": ""
             }
            },
            "type": "scatter"
           }
          ],
          "scatter3d": [
           {
            "line": {
             "colorbar": {
              "outlinewidth": 0,
              "ticks": ""
             }
            },
            "marker": {
             "colorbar": {
              "outlinewidth": 0,
              "ticks": ""
             }
            },
            "type": "scatter3d"
           }
          ],
          "scattercarpet": [
           {
            "marker": {
             "colorbar": {
              "outlinewidth": 0,
              "ticks": ""
             }
            },
            "type": "scattercarpet"
           }
          ],
          "scattergeo": [
           {
            "marker": {
             "colorbar": {
              "outlinewidth": 0,
              "ticks": ""
             }
            },
            "type": "scattergeo"
           }
          ],
          "scattergl": [
           {
            "marker": {
             "colorbar": {
              "outlinewidth": 0,
              "ticks": ""
             }
            },
            "type": "scattergl"
           }
          ],
          "scattermapbox": [
           {
            "marker": {
             "colorbar": {
              "outlinewidth": 0,
              "ticks": ""
             }
            },
            "type": "scattermapbox"
           }
          ],
          "scatterpolar": [
           {
            "marker": {
             "colorbar": {
              "outlinewidth": 0,
              "ticks": ""
             }
            },
            "type": "scatterpolar"
           }
          ],
          "scatterpolargl": [
           {
            "marker": {
             "colorbar": {
              "outlinewidth": 0,
              "ticks": ""
             }
            },
            "type": "scatterpolargl"
           }
          ],
          "scatterternary": [
           {
            "marker": {
             "colorbar": {
              "outlinewidth": 0,
              "ticks": ""
             }
            },
            "type": "scatterternary"
           }
          ],
          "surface": [
           {
            "colorbar": {
             "outlinewidth": 0,
             "ticks": ""
            },
            "colorscale": [
             [
              0,
              "#0d0887"
             ],
             [
              0.1111111111111111,
              "#46039f"
             ],
             [
              0.2222222222222222,
              "#7201a8"
             ],
             [
              0.3333333333333333,
              "#9c179e"
             ],
             [
              0.4444444444444444,
              "#bd3786"
             ],
             [
              0.5555555555555556,
              "#d8576b"
             ],
             [
              0.6666666666666666,
              "#ed7953"
             ],
             [
              0.7777777777777778,
              "#fb9f3a"
             ],
             [
              0.8888888888888888,
              "#fdca26"
             ],
             [
              1,
              "#f0f921"
             ]
            ],
            "type": "surface"
           }
          ],
          "table": [
           {
            "cells": {
             "fill": {
              "color": "#EBF0F8"
             },
             "line": {
              "color": "white"
             }
            },
            "header": {
             "fill": {
              "color": "#C8D4E3"
             },
             "line": {
              "color": "white"
             }
            },
            "type": "table"
           }
          ]
         },
         "layout": {
          "annotationdefaults": {
           "arrowcolor": "#2a3f5f",
           "arrowhead": 0,
           "arrowwidth": 1
          },
          "coloraxis": {
           "colorbar": {
            "outlinewidth": 0,
            "ticks": ""
           }
          },
          "colorscale": {
           "diverging": [
            [
             0,
             "#8e0152"
            ],
            [
             0.1,
             "#c51b7d"
            ],
            [
             0.2,
             "#de77ae"
            ],
            [
             0.3,
             "#f1b6da"
            ],
            [
             0.4,
             "#fde0ef"
            ],
            [
             0.5,
             "#f7f7f7"
            ],
            [
             0.6,
             "#e6f5d0"
            ],
            [
             0.7,
             "#b8e186"
            ],
            [
             0.8,
             "#7fbc41"
            ],
            [
             0.9,
             "#4d9221"
            ],
            [
             1,
             "#276419"
            ]
           ],
           "sequential": [
            [
             0,
             "#0d0887"
            ],
            [
             0.1111111111111111,
             "#46039f"
            ],
            [
             0.2222222222222222,
             "#7201a8"
            ],
            [
             0.3333333333333333,
             "#9c179e"
            ],
            [
             0.4444444444444444,
             "#bd3786"
            ],
            [
             0.5555555555555556,
             "#d8576b"
            ],
            [
             0.6666666666666666,
             "#ed7953"
            ],
            [
             0.7777777777777778,
             "#fb9f3a"
            ],
            [
             0.8888888888888888,
             "#fdca26"
            ],
            [
             1,
             "#f0f921"
            ]
           ],
           "sequentialminus": [
            [
             0,
             "#0d0887"
            ],
            [
             0.1111111111111111,
             "#46039f"
            ],
            [
             0.2222222222222222,
             "#7201a8"
            ],
            [
             0.3333333333333333,
             "#9c179e"
            ],
            [
             0.4444444444444444,
             "#bd3786"
            ],
            [
             0.5555555555555556,
             "#d8576b"
            ],
            [
             0.6666666666666666,
             "#ed7953"
            ],
            [
             0.7777777777777778,
             "#fb9f3a"
            ],
            [
             0.8888888888888888,
             "#fdca26"
            ],
            [
             1,
             "#f0f921"
            ]
           ]
          },
          "colorway": [
           "#636efa",
           "#EF553B",
           "#00cc96",
           "#ab63fa",
           "#FFA15A",
           "#19d3f3",
           "#FF6692",
           "#B6E880",
           "#FF97FF",
           "#FECB52"
          ],
          "font": {
           "color": "#2a3f5f"
          },
          "geo": {
           "bgcolor": "white",
           "lakecolor": "white",
           "landcolor": "#E5ECF6",
           "showlakes": true,
           "showland": true,
           "subunitcolor": "white"
          },
          "hoverlabel": {
           "align": "left"
          },
          "hovermode": "closest",
          "mapbox": {
           "style": "light"
          },
          "paper_bgcolor": "white",
          "plot_bgcolor": "#E5ECF6",
          "polar": {
           "angularaxis": {
            "gridcolor": "white",
            "linecolor": "white",
            "ticks": ""
           },
           "bgcolor": "#E5ECF6",
           "radialaxis": {
            "gridcolor": "white",
            "linecolor": "white",
            "ticks": ""
           }
          },
          "scene": {
           "xaxis": {
            "backgroundcolor": "#E5ECF6",
            "gridcolor": "white",
            "gridwidth": 2,
            "linecolor": "white",
            "showbackground": true,
            "ticks": "",
            "zerolinecolor": "white"
           },
           "yaxis": {
            "backgroundcolor": "#E5ECF6",
            "gridcolor": "white",
            "gridwidth": 2,
            "linecolor": "white",
            "showbackground": true,
            "ticks": "",
            "zerolinecolor": "white"
           },
           "zaxis": {
            "backgroundcolor": "#E5ECF6",
            "gridcolor": "white",
            "gridwidth": 2,
            "linecolor": "white",
            "showbackground": true,
            "ticks": "",
            "zerolinecolor": "white"
           }
          },
          "shapedefaults": {
           "line": {
            "color": "#2a3f5f"
           }
          },
          "ternary": {
           "aaxis": {
            "gridcolor": "white",
            "linecolor": "white",
            "ticks": ""
           },
           "baxis": {
            "gridcolor": "white",
            "linecolor": "white",
            "ticks": ""
           },
           "bgcolor": "#E5ECF6",
           "caxis": {
            "gridcolor": "white",
            "linecolor": "white",
            "ticks": ""
           }
          },
          "title": {
           "x": 0.05
          },
          "xaxis": {
           "automargin": true,
           "gridcolor": "white",
           "linecolor": "white",
           "ticks": "",
           "title": {
            "standoff": 15
           },
           "zerolinecolor": "white",
           "zerolinewidth": 2
          },
          "yaxis": {
           "automargin": true,
           "gridcolor": "white",
           "linecolor": "white",
           "ticks": "",
           "title": {
            "standoff": 15
           },
           "zerolinecolor": "white",
           "zerolinewidth": 2
          }
         }
        },
        "title": {
         "text": "Result of DBSCAN clustering"
        },
        "xaxis": {
         "anchor": "y",
         "domain": [
          0,
          1
         ],
         "title": {
          "text": "x"
         }
        },
        "yaxis": {
         "anchor": "x",
         "domain": [
          0,
          1
         ],
         "title": {
          "text": "y"
         }
        }
       }
      },
      "text/html": [
       "<div>                            <div id=\"753ecb1a-e896-4ec8-82e3-2a1162df12ca\" class=\"plotly-graph-div\" style=\"height:525px; width:100%;\"></div>            <script type=\"text/javascript\">                require([\"plotly\"], function(Plotly) {                    window.PLOTLYENV=window.PLOTLYENV || {};                                    if (document.getElementById(\"753ecb1a-e896-4ec8-82e3-2a1162df12ca\")) {                    Plotly.newPlot(                        \"753ecb1a-e896-4ec8-82e3-2a1162df12ca\",                        [{\"hovertemplate\": \"color=0<br>x=%{x}<br>y=%{y}<extra></extra>\", \"legendgroup\": \"0\", \"marker\": {\"color\": \"#636efa\", \"symbol\": \"circle\"}, \"mode\": \"markers\", \"name\": \"0\", \"orientation\": \"v\", \"showlegend\": true, \"type\": \"scatter\", \"x\": [1, 4, 5, 11, 12, 18, 19, 25, 26, 32, 33, 39, 40, 46, 47, 53, 54, 60, 61, 67, 68, 74, 75, 81, 82, 88, 89, 95, 96, 102, 103, 109, 110, 116, 117, 123, 124, 130, 131, 137, 138, 144, 145, 146, 151, 152, 158, 159, 165, 166, 172, 173, 179, 180, 185, 186, 187, 193, 194, 200, 201, 207, 208, 214, 215, 221, 222, 228, 229, 235, 236, 242, 243, 244, 249, 250, 256, 257, 263, 264, 270, 271, 277, 278, 284, 285, 291, 292, 298, 299, 305, 306, 312, 313, 319, 320, 326, 327, 333, 334, 340, 341, 347, 348, 354, 355, 361, 362], \"xaxis\": \"x\", \"y\": [639, 718, 553, 800, 567, 790, 521, 744, 558, 808, 464, 775, 488, 845, 602, 743, 475, 797, 766, 758, 600, 795, 778, 787, 578, 724, 572, 681, 645, 776, 490, 697, 122, 760, 585, 860, 597, 719, 544, 701, 554, 723, 620, 778, 789, 539, 844, 550, 822, 497, 831, 513, 788, 532, 744, 764, 577, 807, 502, 856, 594, 812, 579, 686, 569, 735, 473, 718, 513, 625, 493, 641, 584, 850, 766, 444, 651, 502, 681, 457, 636, 556, 626, 504, 704, 591, 753, 533, 866, 613, 867, 616, 726, 536, 752, 583, 692, 622, 708, 552, 835, 571, 772, 441, 777, 512, 666, 500], \"yaxis\": \"y\"}, {\"hovertemplate\": \"color=1<br>x=%{x}<br>y=%{y}<extra></extra>\", \"legendgroup\": \"1\", \"marker\": {\"color\": \"#EF553B\", \"symbol\": \"circle\"}, \"mode\": \"markers\", \"name\": \"1\", \"orientation\": \"v\", \"showlegend\": true, \"type\": \"scatter\", \"x\": [2, 3, 6, 7, 8, 9, 10, 13, 14, 15, 16, 17, 20, 21, 22, 23, 24, 27, 28, 29, 30, 31, 34, 35, 36, 37, 38, 41, 42, 43, 44, 45, 48, 49, 50, 51, 52, 55, 56, 57, 58, 59, 62, 63, 64, 65, 66, 69, 70, 71, 72, 73, 76, 77, 78, 79, 80, 83, 84, 85, 86, 87, 90, 91, 92, 93, 94, 97, 98, 99, 100, 101, 104, 105, 106, 107, 108, 111, 112, 113, 114, 115, 118, 119, 120, 121, 122, 125, 126, 127, 128, 129, 132, 133, 134, 135, 136, 140, 141, 142, 143, 147, 148, 149, 150, 153, 154, 155, 156, 157, 160, 161, 162, 163, 164, 167, 168, 169, 170, 171, 174, 175, 176, 177, 178, 181, 182, 183, 184, 188, 189, 190, 191, 192, 195, 196, 197, 198, 199, 202, 203, 204, 205, 206, 209, 210, 211, 212, 213, 216, 217, 218, 219, 220, 223, 224, 225, 226, 227, 230, 231, 232, 233, 234, 237, 238, 239, 240, 241, 245, 246, 247, 248, 251, 252, 253, 254, 255, 258, 259, 260, 261, 262, 265, 266, 267, 268, 269, 272, 273, 274, 275, 276, 279, 280, 281, 282, 283, 286, 287, 288, 289, 290, 293, 294, 295, 296, 297, 300, 301, 302, 303, 304, 307, 308, 309, 310, 311, 314, 315, 316, 317, 318, 321, 322, 323, 324, 325, 328, 329, 330, 335, 336, 337, 338, 339, 342, 343, 344, 345, 346, 349, 350, 351, 352, 353, 356, 357, 358, 360, 363, 364, 365], \"xaxis\": \"x\", \"y\": [2920, 2632, 2816, 3054, 3149, 2883, 2693, 3606, 3209, 3003, 2782, 2810, 1908, 3455, 3292, 2901, 2663, 3348, 3156, 3145, 3064, 2762, 3169, 2930, 3121, 2811, 2655, 3496, 3030, 3065, 2924, 2589, 1684, 3575, 3229, 3108, 2784, 3510, 3252, 2991, 2863, 3083, 3495, 3082, 3064, 2795, 2697, 3512, 3254, 3206, 2894, 2675, 3590, 3332, 3174, 3050, 2788, 3587, 3423, 3236, 3322, 3032, 2764, 3807, 3381, 3052, 3006, 3680, 3401, 3212, 3220, 3076, 3483, 3028, 3250, 3208, 2652, 3647, 3324, 3254, 3221, 2913, 3547, 3456, 3441, 3195, 3059, 3666, 3270, 3342, 3241, 3001, 3591, 3532, 3347, 3111, 2923, 3700, 3601, 3196, 2924, 3992, 3846, 3409, 3068, 3791, 3469, 3181, 3060, 2902, 3727, 3566, 3326, 2935, 2793, 3641, 3264, 3312, 3221, 3186, 3905, 3369, 3400, 3385, 3363, 3972, 3443, 3302, 3115, 3951, 3351, 3338, 3320, 3312, 3806, 3524, 3478, 3473, 3144, 3952, 3652, 3520, 3206, 3193, 4224, 3532, 3400, 3224, 3054, 3931, 3246, 3216, 3515, 2974, 3742, 3696, 3757, 3441, 3211, 3876, 3856, 3548, 3395, 2976, 4048, 3408, 3599, 3766, 3297, 4204, 3636, 3603, 3249, 3634, 3485, 3474, 3255, 2949, 3819, 3454, 3286, 3131, 3111, 3850, 3068, 3318, 3099, 2930, 3988, 3535, 3451, 3594, 3315, 3927, 3495, 3422, 3125, 2798, 3122, 3981, 3553, 3056, 2911, 3581, 3419, 3351, 3305, 3067, 3631, 3644, 3263, 3247, 2763, 3846, 3210, 3291, 3155, 3203, 3948, 2187, 4008, 3349, 3095, 3649, 3644, 3302, 3205, 3095, 3772, 3129, 2688, 3707, 3046, 3117, 3136, 2908, 3517, 3187, 3267, 3460, 3322, 3768, 3205, 3357, 2984, 3004, 3671, 3159, 1876, 2351, 3420, 3035, 2189], \"yaxis\": \"y\"}, {\"hovertemplate\": \"color=-1<br>x=%{x}<br>y=%{y}<extra></extra>\", \"legendgroup\": \"-1\", \"marker\": {\"color\": \"#00cc96\", \"symbol\": \"circle\"}, \"mode\": \"markers\", \"name\": \"-1\", \"orientation\": \"v\", \"showlegend\": true, \"type\": \"scatter\", \"x\": [139, 332], \"xaxis\": \"x\", \"y\": [5108, 1333], \"yaxis\": \"y\"}],                        {\"legend\": {\"title\": {\"text\": \"color\"}, \"tracegroupgap\": 0}, \"template\": {\"data\": {\"bar\": [{\"error_x\": {\"color\": \"#2a3f5f\"}, \"error_y\": {\"color\": \"#2a3f5f\"}, \"marker\": {\"line\": {\"color\": \"#E5ECF6\", \"width\": 0.5}}, \"type\": \"bar\"}], \"barpolar\": [{\"marker\": {\"line\": {\"color\": \"#E5ECF6\", \"width\": 0.5}}, \"type\": \"barpolar\"}], \"carpet\": [{\"aaxis\": {\"endlinecolor\": \"#2a3f5f\", \"gridcolor\": \"white\", \"linecolor\": \"white\", \"minorgridcolor\": \"white\", \"startlinecolor\": \"#2a3f5f\"}, \"baxis\": {\"endlinecolor\": \"#2a3f5f\", \"gridcolor\": \"white\", \"linecolor\": \"white\", \"minorgridcolor\": \"white\", \"startlinecolor\": \"#2a3f5f\"}, \"type\": \"carpet\"}], \"choropleth\": [{\"colorbar\": {\"outlinewidth\": 0, \"ticks\": \"\"}, \"type\": \"choropleth\"}], \"contour\": [{\"colorbar\": {\"outlinewidth\": 0, \"ticks\": \"\"}, \"colorscale\": [[0.0, \"#0d0887\"], [0.1111111111111111, \"#46039f\"], [0.2222222222222222, \"#7201a8\"], [0.3333333333333333, \"#9c179e\"], [0.4444444444444444, \"#bd3786\"], [0.5555555555555556, \"#d8576b\"], [0.6666666666666666, \"#ed7953\"], [0.7777777777777778, \"#fb9f3a\"], [0.8888888888888888, \"#fdca26\"], [1.0, \"#f0f921\"]], \"type\": \"contour\"}], \"contourcarpet\": [{\"colorbar\": {\"outlinewidth\": 0, \"ticks\": \"\"}, \"type\": \"contourcarpet\"}], \"heatmap\": [{\"colorbar\": {\"outlinewidth\": 0, \"ticks\": \"\"}, \"colorscale\": [[0.0, \"#0d0887\"], [0.1111111111111111, \"#46039f\"], [0.2222222222222222, \"#7201a8\"], [0.3333333333333333, \"#9c179e\"], [0.4444444444444444, \"#bd3786\"], [0.5555555555555556, \"#d8576b\"], [0.6666666666666666, \"#ed7953\"], [0.7777777777777778, \"#fb9f3a\"], [0.8888888888888888, \"#fdca26\"], [1.0, \"#f0f921\"]], \"type\": \"heatmap\"}], \"heatmapgl\": [{\"colorbar\": {\"outlinewidth\": 0, \"ticks\": \"\"}, \"colorscale\": [[0.0, \"#0d0887\"], [0.1111111111111111, \"#46039f\"], [0.2222222222222222, \"#7201a8\"], [0.3333333333333333, \"#9c179e\"], [0.4444444444444444, \"#bd3786\"], [0.5555555555555556, \"#d8576b\"], [0.6666666666666666, \"#ed7953\"], [0.7777777777777778, \"#fb9f3a\"], [0.8888888888888888, \"#fdca26\"], [1.0, \"#f0f921\"]], \"type\": \"heatmapgl\"}], \"histogram\": [{\"marker\": {\"colorbar\": {\"outlinewidth\": 0, \"ticks\": \"\"}}, \"type\": \"histogram\"}], \"histogram2d\": [{\"colorbar\": {\"outlinewidth\": 0, \"ticks\": \"\"}, \"colorscale\": [[0.0, \"#0d0887\"], [0.1111111111111111, \"#46039f\"], [0.2222222222222222, \"#7201a8\"], [0.3333333333333333, \"#9c179e\"], [0.4444444444444444, \"#bd3786\"], [0.5555555555555556, \"#d8576b\"], [0.6666666666666666, \"#ed7953\"], [0.7777777777777778, \"#fb9f3a\"], [0.8888888888888888, \"#fdca26\"], [1.0, \"#f0f921\"]], \"type\": \"histogram2d\"}], \"histogram2dcontour\": [{\"colorbar\": {\"outlinewidth\": 0, \"ticks\": \"\"}, \"colorscale\": [[0.0, \"#0d0887\"], [0.1111111111111111, \"#46039f\"], [0.2222222222222222, \"#7201a8\"], [0.3333333333333333, \"#9c179e\"], [0.4444444444444444, \"#bd3786\"], [0.5555555555555556, \"#d8576b\"], [0.6666666666666666, \"#ed7953\"], [0.7777777777777778, \"#fb9f3a\"], [0.8888888888888888, \"#fdca26\"], [1.0, \"#f0f921\"]], \"type\": \"histogram2dcontour\"}], \"mesh3d\": [{\"colorbar\": {\"outlinewidth\": 0, \"ticks\": \"\"}, \"type\": \"mesh3d\"}], \"parcoords\": [{\"line\": {\"colorbar\": {\"outlinewidth\": 0, \"ticks\": \"\"}}, \"type\": \"parcoords\"}], \"pie\": [{\"automargin\": true, \"type\": \"pie\"}], \"scatter\": [{\"marker\": {\"colorbar\": {\"outlinewidth\": 0, \"ticks\": \"\"}}, \"type\": \"scatter\"}], \"scatter3d\": [{\"line\": {\"colorbar\": {\"outlinewidth\": 0, \"ticks\": \"\"}}, \"marker\": {\"colorbar\": {\"outlinewidth\": 0, \"ticks\": \"\"}}, \"type\": \"scatter3d\"}], \"scattercarpet\": [{\"marker\": {\"colorbar\": {\"outlinewidth\": 0, \"ticks\": \"\"}}, \"type\": \"scattercarpet\"}], \"scattergeo\": [{\"marker\": {\"colorbar\": {\"outlinewidth\": 0, \"ticks\": \"\"}}, \"type\": \"scattergeo\"}], \"scattergl\": [{\"marker\": {\"colorbar\": {\"outlinewidth\": 0, \"ticks\": \"\"}}, \"type\": \"scattergl\"}], \"scattermapbox\": [{\"marker\": {\"colorbar\": {\"outlinewidth\": 0, \"ticks\": \"\"}}, \"type\": \"scattermapbox\"}], \"scatterpolar\": [{\"marker\": {\"colorbar\": {\"outlinewidth\": 0, \"ticks\": \"\"}}, \"type\": \"scatterpolar\"}], \"scatterpolargl\": [{\"marker\": {\"colorbar\": {\"outlinewidth\": 0, \"ticks\": \"\"}}, \"type\": \"scatterpolargl\"}], \"scatterternary\": [{\"marker\": {\"colorbar\": {\"outlinewidth\": 0, \"ticks\": \"\"}}, \"type\": \"scatterternary\"}], \"surface\": [{\"colorbar\": {\"outlinewidth\": 0, \"ticks\": \"\"}, \"colorscale\": [[0.0, \"#0d0887\"], [0.1111111111111111, \"#46039f\"], [0.2222222222222222, \"#7201a8\"], [0.3333333333333333, \"#9c179e\"], [0.4444444444444444, \"#bd3786\"], [0.5555555555555556, \"#d8576b\"], [0.6666666666666666, \"#ed7953\"], [0.7777777777777778, \"#fb9f3a\"], [0.8888888888888888, \"#fdca26\"], [1.0, \"#f0f921\"]], \"type\": \"surface\"}], \"table\": [{\"cells\": {\"fill\": {\"color\": \"#EBF0F8\"}, \"line\": {\"color\": \"white\"}}, \"header\": {\"fill\": {\"color\": \"#C8D4E3\"}, \"line\": {\"color\": \"white\"}}, \"type\": \"table\"}]}, \"layout\": {\"annotationdefaults\": {\"arrowcolor\": \"#2a3f5f\", \"arrowhead\": 0, \"arrowwidth\": 1}, \"coloraxis\": {\"colorbar\": {\"outlinewidth\": 0, \"ticks\": \"\"}}, \"colorscale\": {\"diverging\": [[0, \"#8e0152\"], [0.1, \"#c51b7d\"], [0.2, \"#de77ae\"], [0.3, \"#f1b6da\"], [0.4, \"#fde0ef\"], [0.5, \"#f7f7f7\"], [0.6, \"#e6f5d0\"], [0.7, \"#b8e186\"], [0.8, \"#7fbc41\"], [0.9, \"#4d9221\"], [1, \"#276419\"]], \"sequential\": [[0.0, \"#0d0887\"], [0.1111111111111111, \"#46039f\"], [0.2222222222222222, \"#7201a8\"], [0.3333333333333333, \"#9c179e\"], [0.4444444444444444, \"#bd3786\"], [0.5555555555555556, \"#d8576b\"], [0.6666666666666666, \"#ed7953\"], [0.7777777777777778, \"#fb9f3a\"], [0.8888888888888888, \"#fdca26\"], [1.0, \"#f0f921\"]], \"sequentialminus\": [[0.0, \"#0d0887\"], [0.1111111111111111, \"#46039f\"], [0.2222222222222222, \"#7201a8\"], [0.3333333333333333, \"#9c179e\"], [0.4444444444444444, \"#bd3786\"], [0.5555555555555556, \"#d8576b\"], [0.6666666666666666, \"#ed7953\"], [0.7777777777777778, \"#fb9f3a\"], [0.8888888888888888, \"#fdca26\"], [1.0, \"#f0f921\"]]}, \"colorway\": [\"#636efa\", \"#EF553B\", \"#00cc96\", \"#ab63fa\", \"#FFA15A\", \"#19d3f3\", \"#FF6692\", \"#B6E880\", \"#FF97FF\", \"#FECB52\"], \"font\": {\"color\": \"#2a3f5f\"}, \"geo\": {\"bgcolor\": \"white\", \"lakecolor\": \"white\", \"landcolor\": \"#E5ECF6\", \"showlakes\": true, \"showland\": true, \"subunitcolor\": \"white\"}, \"hoverlabel\": {\"align\": \"left\"}, \"hovermode\": \"closest\", \"mapbox\": {\"style\": \"light\"}, \"paper_bgcolor\": \"white\", \"plot_bgcolor\": \"#E5ECF6\", \"polar\": {\"angularaxis\": {\"gridcolor\": \"white\", \"linecolor\": \"white\", \"ticks\": \"\"}, \"bgcolor\": \"#E5ECF6\", \"radialaxis\": {\"gridcolor\": \"white\", \"linecolor\": \"white\", \"ticks\": \"\"}}, \"scene\": {\"xaxis\": {\"backgroundcolor\": \"#E5ECF6\", \"gridcolor\": \"white\", \"gridwidth\": 2, \"linecolor\": \"white\", \"showbackground\": true, \"ticks\": \"\", \"zerolinecolor\": \"white\"}, \"yaxis\": {\"backgroundcolor\": \"#E5ECF6\", \"gridcolor\": \"white\", \"gridwidth\": 2, \"linecolor\": \"white\", \"showbackground\": true, \"ticks\": \"\", \"zerolinecolor\": \"white\"}, \"zaxis\": {\"backgroundcolor\": \"#E5ECF6\", \"gridcolor\": \"white\", \"gridwidth\": 2, \"linecolor\": \"white\", \"showbackground\": true, \"ticks\": \"\", \"zerolinecolor\": \"white\"}}, \"shapedefaults\": {\"line\": {\"color\": \"#2a3f5f\"}}, \"ternary\": {\"aaxis\": {\"gridcolor\": \"white\", \"linecolor\": \"white\", \"ticks\": \"\"}, \"baxis\": {\"gridcolor\": \"white\", \"linecolor\": \"white\", \"ticks\": \"\"}, \"bgcolor\": \"#E5ECF6\", \"caxis\": {\"gridcolor\": \"white\", \"linecolor\": \"white\", \"ticks\": \"\"}}, \"title\": {\"x\": 0.05}, \"xaxis\": {\"automargin\": true, \"gridcolor\": \"white\", \"linecolor\": \"white\", \"ticks\": \"\", \"title\": {\"standoff\": 15}, \"zerolinecolor\": \"white\", \"zerolinewidth\": 2}, \"yaxis\": {\"automargin\": true, \"gridcolor\": \"white\", \"linecolor\": \"white\", \"ticks\": \"\", \"title\": {\"standoff\": 15}, \"zerolinecolor\": \"white\", \"zerolinewidth\": 2}}}, \"title\": {\"text\": \"Result of DBSCAN clustering\"}, \"xaxis\": {\"anchor\": \"y\", \"domain\": [0.0, 1.0], \"title\": {\"text\": \"x\"}}, \"yaxis\": {\"anchor\": \"x\", \"domain\": [0.0, 1.0], \"title\": {\"text\": \"y\"}}},                        {\"responsive\": true}                    ).then(function(){\n",
       "                            \n",
       "var gd = document.getElementById('753ecb1a-e896-4ec8-82e3-2a1162df12ca');\n",
       "var x = new MutationObserver(function (mutations, observer) {{\n",
       "        var display = window.getComputedStyle(gd).display;\n",
       "        if (!display || display === 'none') {{\n",
       "            console.log([gd, 'removed!']);\n",
       "            Plotly.purge(gd);\n",
       "            observer.disconnect();\n",
       "        }}\n",
       "}});\n",
       "\n",
       "// Listen for the removal of the full notebook cells\n",
       "var notebookContainer = gd.closest('#notebook-container');\n",
       "if (notebookContainer) {{\n",
       "    x.observe(notebookContainer, {childList: true});\n",
       "}}\n",
       "\n",
       "// Listen for the clearing of the current output cell\n",
       "var outputEl = gd.closest('.output');\n",
       "if (outputEl) {{\n",
       "    x.observe(outputEl, {childList: true});\n",
       "}}\n",
       "\n",
       "                        })                };                });            </script>        </div>"
      ]
     },
     "metadata": {},
     "output_type": "display_data"
    }
   ],
   "source": [
    "fig = px.scatter(x = X_dbscan.days, y = X_dbscan[\"count\"], color=X_dbscan.label.astype(str),\n",
    "                 title=\"Result of DBSCAN clustering\")\n",
    "\n",
    "fig.show()"
   ]
  },
  {
   "cell_type": "markdown",
   "metadata": {},
   "source": [
    "### Train-test split"
   ]
  },
  {
   "cell_type": "code",
   "execution_count": 77,
   "metadata": {},
   "outputs": [],
   "source": [
    "# split new data with an additional label to test and train data\n",
    "train,test = train_test_split(X_dbscan,test_size = 0.2,random_state=42)"
   ]
  },
  {
   "cell_type": "markdown",
   "metadata": {},
   "source": [
    "### Classification on train"
   ]
  },
  {
   "cell_type": "markdown",
   "metadata": {},
   "source": [
    "Now we should find the best classification algorithm."
   ]
  },
  {
   "cell_type": "code",
   "execution_count": 129,
   "metadata": {},
   "outputs": [
    {
     "name": "stdout",
     "output_type": "stream",
     "text": [
      "Score of AdaBoostClassifier:  0.684931506849315\n",
      "Score of SVC:  0.7397260273972602\n",
      "Score of Naive Bayes Classifier:  0.7397260273972602\n",
      "Score of KNN:  0.589041095890411\n",
      "Score of LogisticRegression 0.7397260273972602\n"
     ]
    }
   ],
   "source": [
    "# The first one is AdaBoost Classifier\n",
    "mod1 = ensemble.AdaBoostClassifier(tree.DecisionTreeClassifier(max_depth =21),\n",
    "                                 n_estimators = 200,\n",
    "                                )\n",
    "mod1.fit(train.days.values.reshape(-1,1),train.label);\n",
    "# mod1_pred=mod1.predict(mod1.predict(test.days.values.reshape(1, -1)))\n",
    "print(\"Score of AdaBoostClassifier: \",mod1.score(test.days.values.reshape(-1,1),test.label))\n",
    "\n",
    "\n",
    "######## SVC\n",
    "\n",
    "mod_linearsvc = svm.SVC(kernel=\"rbf\",max_iter=10000)\n",
    "mod_linearsvc.fit(train.days.values.reshape(-1,1),train.label);\n",
    "# mod_linearsvc_pred= mod_linearsvc.predict(mod1.predict(test.days.values.reshape(-1,1)))\n",
    "print(\"Score of SVC: \",mod_linearsvc.score(test.days.values.reshape(-1,1),test.label))\n",
    "\n",
    "######## GaussianNB\n",
    "naive_bayes = GaussianNB()\n",
    "mod_naive_bayes = naive_bayes.fit(train.days.values.reshape(-1,1),train.label)\n",
    "# predict for validation data set\n",
    "naive_bayes_pred = mod_naive_bayes.predict(test.days.values.reshape(-1,1))\n",
    "print(\"Score of Naive Bayes Classifier: \", accuracy_score(test.label,naive_bayes_pred))\n",
    "\n",
    "######## KNN\n",
    "knn=KNeighborsClassifier(2)\n",
    "mod_knn=knn.fit(train.days.values.reshape(-1,1),train.label)\n",
    "knn_pred = mod_knn.predict(test.days.values.reshape(-1,1))\n",
    "print(\"Score of KNN: \", accuracy_score(test.label,knn_pred))\n",
    "\n",
    "####### LogisticRegression\n",
    "log_reg = skl_lm.LogisticRegression(max_iter=1000,tol=0.000001)\n",
    "mod_log_reg = log_reg.fit(train.days.values.reshape(-1,1),train.label)\n",
    "mod_log_reg_pred=mod_log_reg.predict(test.days.values.reshape(-1,1))\n",
    "print( \"Score of LogisticRegression\",accuracy_score(test.label,mod_log_reg_pred))"
   ]
  },
  {
   "cell_type": "code",
   "execution_count": 112,
   "metadata": {},
   "outputs": [
    {
     "name": "stdout",
     "output_type": "stream",
     "text": [
      "max_depth =  2 Score =  0.699724517906336\n",
      "max_depth =  3 Score =  0.7052341597796143\n",
      "max_depth =  4 Score =  0.7052341597796143\n",
      "max_depth =  5 Score =  0.7107438016528925\n",
      "max_depth =  6 Score =  0.7107438016528925\n",
      "max_depth =  7 Score =  0.7162534435261708\n",
      "max_depth =  8 Score =  0.7162534435261708\n",
      "max_depth =  9 Score =  0.721763085399449\n",
      "max_depth =  10 Score =  0.721763085399449\n",
      "max_depth =  11 Score =  0.7272727272727273\n",
      "max_depth =  12 Score =  0.7300275482093664\n",
      "max_depth =  13 Score =  0.7355371900826446\n",
      "max_depth =  14 Score =  0.7355371900826446\n",
      "max_depth =  15 Score =  0.7410468319559229\n",
      "max_depth =  16 Score =  0.7410468319559229\n",
      "max_depth =  17 Score =  0.7465564738292011\n",
      "max_depth =  18 Score =  0.7465564738292011\n",
      "max_depth =  19 Score =  0.7520661157024794\n",
      "max_depth =  20 Score =  0.7520661157024794\n",
      "max_depth =  21 Score =  0.7575757575757576\n"
     ]
    }
   ],
   "source": [
    "for j in np.arange(20)+2:\n",
    "    mod_reg1 = tree.DecisionTreeClassifier(max_depth = j)\n",
    "    mod_reg_fit1 = mod_reg1.fit(X_dbscan.days.values.reshape(-1,1),X_dbscan.label)\n",
    "    print(\"max_depth = \", j, \"Score = \", mod_reg_fit1.score(X_dbscan.days.values.reshape(-1,1),X_dbscan.label))"
   ]
  },
  {
   "cell_type": "code",
   "execution_count": 126,
   "metadata": {},
   "outputs": [
    {
     "name": "stdout",
     "output_type": "stream",
     "text": [
      "max_depth =  2 Score =  0.699724517906336\n",
      "max_depth =  3 Score =  0.7052341597796143\n",
      "max_depth =  4 Score =  0.7052341597796143\n",
      "max_depth =  5 Score =  0.7107438016528925\n",
      "max_depth =  6 Score =  0.7107438016528925\n",
      "max_depth =  7 Score =  0.7162534435261708\n",
      "max_depth =  8 Score =  0.7162534435261708\n",
      "max_depth =  9 Score =  0.721763085399449\n",
      "max_depth =  10 Score =  0.721763085399449\n",
      "max_depth =  11 Score =  0.7272727272727273\n",
      "max_depth =  12 Score =  0.7300275482093664\n",
      "max_depth =  13 Score =  0.7355371900826446\n",
      "max_depth =  14 Score =  0.7355371900826446\n",
      "max_depth =  15 Score =  0.7410468319559229\n",
      "max_depth =  16 Score =  0.7410468319559229\n",
      "max_depth =  17 Score =  0.7465564738292011\n",
      "max_depth =  18 Score =  0.7465564738292011\n",
      "max_depth =  19 Score =  0.7520661157024794\n",
      "max_depth =  20 Score =  0.7520661157024794\n",
      "max_depth =  21 Score =  0.7575757575757576\n"
     ]
    }
   ],
   "source": [
    "for j in np.arange(20)+2:\n",
    "    knn=KNeighborsClassifier(j)\n",
    "    mod_knn=knn.fit(train.days.values.reshape(-1,1),train.label)\n",
    "    knn_pred = mod_knn.predict(test.days.values.reshape(-1,1))\n",
    "    mod_reg1 = tree.DecisionTreeClassifier(max_depth = j)\n",
    "    mod_reg_fit1 = mod_reg1.fit(X_dbscan.days.values.reshape(-1,1),X_dbscan.label)\n",
    "    print(\"max_depth = \", j, \"Score = \", mod_reg_fit1.score(X_dbscan.days.values.reshape(-1,1),X_dbscan.label))"
   ]
  },
  {
   "cell_type": "code",
   "execution_count": 130,
   "metadata": {},
   "outputs": [
    {
     "data": {
      "application/vnd.plotly.v1+json": {
       "config": {
        "plotlyServerURL": "https://plot.ly"
       },
       "data": [
        {
         "hovertemplate": "color=0<br>x=%{x}<br>y=%{y}<extra></extra>",
         "legendgroup": "0",
         "marker": {
          "color": "#636efa",
          "symbol": "circle"
         },
         "mode": "markers",
         "name": "0",
         "orientation": "v",
         "showlegend": true,
         "type": "scatter",
         "x": [
          164,
          34,
          58,
          77,
          269,
          40,
          56,
          200,
          256,
          328,
          102,
          10,
          193,
          287,
          339,
          195,
          362,
          26,
          115,
          174,
          241,
          31,
          293,
          349,
          6,
          234,
          159,
          4,
          286,
          338,
          79,
          326,
          74,
          223,
          125,
          299,
          83,
          95,
          305
         ],
         "xaxis": "x",
         "y": [
          2793,
          3169,
          2863,
          3332,
          2930,
          488,
          3252,
          856,
          651,
          3772,
          776,
          2693,
          807,
          3981,
          2908,
          3806,
          500,
          558,
          2913,
          3905,
          3297,
          2762,
          3581,
          3768,
          2816,
          2976,
          550,
          718,
          3122,
          3136,
          3050,
          692,
          795,
          3742,
          3666,
          613,
          3587,
          681,
          867
         ],
         "yaxis": "y"
        },
        {
         "hovertemplate": "color=1<br>x=%{x}<br>y=%{y}<extra></extra>",
         "legendgroup": "1",
         "marker": {
          "color": "#EF553B",
          "symbol": "circle"
         },
         "mode": "markers",
         "name": "1",
         "orientation": "v",
         "showlegend": true,
         "type": "scatter",
         "x": [
          16,
          308,
          183,
          120,
          127,
          259,
          233,
          225,
          73,
          219,
          169,
          149,
          109,
          43,
          352,
          154,
          64,
          23,
          300,
          310,
          110,
          91,
          57,
          46,
          282,
          212,
          176,
          337,
          94,
          78,
          255,
          47,
          344
         ],
         "xaxis": "x",
         "y": [
          2782,
          3210,
          3302,
          3441,
          3342,
          3454,
          3395,
          3757,
          2675,
          3515,
          3312,
          3409,
          697,
          3065,
          2984,
          3469,
          3064,
          2901,
          3631,
          3155,
          122,
          3807,
          2991,
          845,
          3125,
          3224,
          3400,
          3117,
          3006,
          3174,
          2949,
          602,
          3267
         ],
         "yaxis": "y"
        },
        {
         "hovertemplate": "color=-1<br>x=%{x}<br>y=%{y}<extra></extra>",
         "legendgroup": "-1",
         "marker": {
          "color": "#00cc96",
          "symbol": "circle"
         },
         "mode": "markers",
         "name": "-1",
         "orientation": "v",
         "showlegend": true,
         "type": "scatter",
         "x": [
          138
         ],
         "xaxis": "x",
         "y": [
          554
         ],
         "yaxis": "y"
        }
       ],
       "layout": {
        "legend": {
         "title": {
          "text": "color"
         },
         "tracegroupgap": 0
        },
        "template": {
         "data": {
          "bar": [
           {
            "error_x": {
             "color": "#2a3f5f"
            },
            "error_y": {
             "color": "#2a3f5f"
            },
            "marker": {
             "line": {
              "color": "#E5ECF6",
              "width": 0.5
             }
            },
            "type": "bar"
           }
          ],
          "barpolar": [
           {
            "marker": {
             "line": {
              "color": "#E5ECF6",
              "width": 0.5
             }
            },
            "type": "barpolar"
           }
          ],
          "carpet": [
           {
            "aaxis": {
             "endlinecolor": "#2a3f5f",
             "gridcolor": "white",
             "linecolor": "white",
             "minorgridcolor": "white",
             "startlinecolor": "#2a3f5f"
            },
            "baxis": {
             "endlinecolor": "#2a3f5f",
             "gridcolor": "white",
             "linecolor": "white",
             "minorgridcolor": "white",
             "startlinecolor": "#2a3f5f"
            },
            "type": "carpet"
           }
          ],
          "choropleth": [
           {
            "colorbar": {
             "outlinewidth": 0,
             "ticks": ""
            },
            "type": "choropleth"
           }
          ],
          "contour": [
           {
            "colorbar": {
             "outlinewidth": 0,
             "ticks": ""
            },
            "colorscale": [
             [
              0,
              "#0d0887"
             ],
             [
              0.1111111111111111,
              "#46039f"
             ],
             [
              0.2222222222222222,
              "#7201a8"
             ],
             [
              0.3333333333333333,
              "#9c179e"
             ],
             [
              0.4444444444444444,
              "#bd3786"
             ],
             [
              0.5555555555555556,
              "#d8576b"
             ],
             [
              0.6666666666666666,
              "#ed7953"
             ],
             [
              0.7777777777777778,
              "#fb9f3a"
             ],
             [
              0.8888888888888888,
              "#fdca26"
             ],
             [
              1,
              "#f0f921"
             ]
            ],
            "type": "contour"
           }
          ],
          "contourcarpet": [
           {
            "colorbar": {
             "outlinewidth": 0,
             "ticks": ""
            },
            "type": "contourcarpet"
           }
          ],
          "heatmap": [
           {
            "colorbar": {
             "outlinewidth": 0,
             "ticks": ""
            },
            "colorscale": [
             [
              0,
              "#0d0887"
             ],
             [
              0.1111111111111111,
              "#46039f"
             ],
             [
              0.2222222222222222,
              "#7201a8"
             ],
             [
              0.3333333333333333,
              "#9c179e"
             ],
             [
              0.4444444444444444,
              "#bd3786"
             ],
             [
              0.5555555555555556,
              "#d8576b"
             ],
             [
              0.6666666666666666,
              "#ed7953"
             ],
             [
              0.7777777777777778,
              "#fb9f3a"
             ],
             [
              0.8888888888888888,
              "#fdca26"
             ],
             [
              1,
              "#f0f921"
             ]
            ],
            "type": "heatmap"
           }
          ],
          "heatmapgl": [
           {
            "colorbar": {
             "outlinewidth": 0,
             "ticks": ""
            },
            "colorscale": [
             [
              0,
              "#0d0887"
             ],
             [
              0.1111111111111111,
              "#46039f"
             ],
             [
              0.2222222222222222,
              "#7201a8"
             ],
             [
              0.3333333333333333,
              "#9c179e"
             ],
             [
              0.4444444444444444,
              "#bd3786"
             ],
             [
              0.5555555555555556,
              "#d8576b"
             ],
             [
              0.6666666666666666,
              "#ed7953"
             ],
             [
              0.7777777777777778,
              "#fb9f3a"
             ],
             [
              0.8888888888888888,
              "#fdca26"
             ],
             [
              1,
              "#f0f921"
             ]
            ],
            "type": "heatmapgl"
           }
          ],
          "histogram": [
           {
            "marker": {
             "colorbar": {
              "outlinewidth": 0,
              "ticks": ""
             }
            },
            "type": "histogram"
           }
          ],
          "histogram2d": [
           {
            "colorbar": {
             "outlinewidth": 0,
             "ticks": ""
            },
            "colorscale": [
             [
              0,
              "#0d0887"
             ],
             [
              0.1111111111111111,
              "#46039f"
             ],
             [
              0.2222222222222222,
              "#7201a8"
             ],
             [
              0.3333333333333333,
              "#9c179e"
             ],
             [
              0.4444444444444444,
              "#bd3786"
             ],
             [
              0.5555555555555556,
              "#d8576b"
             ],
             [
              0.6666666666666666,
              "#ed7953"
             ],
             [
              0.7777777777777778,
              "#fb9f3a"
             ],
             [
              0.8888888888888888,
              "#fdca26"
             ],
             [
              1,
              "#f0f921"
             ]
            ],
            "type": "histogram2d"
           }
          ],
          "histogram2dcontour": [
           {
            "colorbar": {
             "outlinewidth": 0,
             "ticks": ""
            },
            "colorscale": [
             [
              0,
              "#0d0887"
             ],
             [
              0.1111111111111111,
              "#46039f"
             ],
             [
              0.2222222222222222,
              "#7201a8"
             ],
             [
              0.3333333333333333,
              "#9c179e"
             ],
             [
              0.4444444444444444,
              "#bd3786"
             ],
             [
              0.5555555555555556,
              "#d8576b"
             ],
             [
              0.6666666666666666,
              "#ed7953"
             ],
             [
              0.7777777777777778,
              "#fb9f3a"
             ],
             [
              0.8888888888888888,
              "#fdca26"
             ],
             [
              1,
              "#f0f921"
             ]
            ],
            "type": "histogram2dcontour"
           }
          ],
          "mesh3d": [
           {
            "colorbar": {
             "outlinewidth": 0,
             "ticks": ""
            },
            "type": "mesh3d"
           }
          ],
          "parcoords": [
           {
            "line": {
             "colorbar": {
              "outlinewidth": 0,
              "ticks": ""
             }
            },
            "type": "parcoords"
           }
          ],
          "pie": [
           {
            "automargin": true,
            "type": "pie"
           }
          ],
          "scatter": [
           {
            "marker": {
             "colorbar": {
              "outlinewidth": 0,
              "ticks": ""
             }
            },
            "type": "scatter"
           }
          ],
          "scatter3d": [
           {
            "line": {
             "colorbar": {
              "outlinewidth": 0,
              "ticks": ""
             }
            },
            "marker": {
             "colorbar": {
              "outlinewidth": 0,
              "ticks": ""
             }
            },
            "type": "scatter3d"
           }
          ],
          "scattercarpet": [
           {
            "marker": {
             "colorbar": {
              "outlinewidth": 0,
              "ticks": ""
             }
            },
            "type": "scattercarpet"
           }
          ],
          "scattergeo": [
           {
            "marker": {
             "colorbar": {
              "outlinewidth": 0,
              "ticks": ""
             }
            },
            "type": "scattergeo"
           }
          ],
          "scattergl": [
           {
            "marker": {
             "colorbar": {
              "outlinewidth": 0,
              "ticks": ""
             }
            },
            "type": "scattergl"
           }
          ],
          "scattermapbox": [
           {
            "marker": {
             "colorbar": {
              "outlinewidth": 0,
              "ticks": ""
             }
            },
            "type": "scattermapbox"
           }
          ],
          "scatterpolar": [
           {
            "marker": {
             "colorbar": {
              "outlinewidth": 0,
              "ticks": ""
             }
            },
            "type": "scatterpolar"
           }
          ],
          "scatterpolargl": [
           {
            "marker": {
             "colorbar": {
              "outlinewidth": 0,
              "ticks": ""
             }
            },
            "type": "scatterpolargl"
           }
          ],
          "scatterternary": [
           {
            "marker": {
             "colorbar": {
              "outlinewidth": 0,
              "ticks": ""
             }
            },
            "type": "scatterternary"
           }
          ],
          "surface": [
           {
            "colorbar": {
             "outlinewidth": 0,
             "ticks": ""
            },
            "colorscale": [
             [
              0,
              "#0d0887"
             ],
             [
              0.1111111111111111,
              "#46039f"
             ],
             [
              0.2222222222222222,
              "#7201a8"
             ],
             [
              0.3333333333333333,
              "#9c179e"
             ],
             [
              0.4444444444444444,
              "#bd3786"
             ],
             [
              0.5555555555555556,
              "#d8576b"
             ],
             [
              0.6666666666666666,
              "#ed7953"
             ],
             [
              0.7777777777777778,
              "#fb9f3a"
             ],
             [
              0.8888888888888888,
              "#fdca26"
             ],
             [
              1,
              "#f0f921"
             ]
            ],
            "type": "surface"
           }
          ],
          "table": [
           {
            "cells": {
             "fill": {
              "color": "#EBF0F8"
             },
             "line": {
              "color": "white"
             }
            },
            "header": {
             "fill": {
              "color": "#C8D4E3"
             },
             "line": {
              "color": "white"
             }
            },
            "type": "table"
           }
          ]
         },
         "layout": {
          "annotationdefaults": {
           "arrowcolor": "#2a3f5f",
           "arrowhead": 0,
           "arrowwidth": 1
          },
          "coloraxis": {
           "colorbar": {
            "outlinewidth": 0,
            "ticks": ""
           }
          },
          "colorscale": {
           "diverging": [
            [
             0,
             "#8e0152"
            ],
            [
             0.1,
             "#c51b7d"
            ],
            [
             0.2,
             "#de77ae"
            ],
            [
             0.3,
             "#f1b6da"
            ],
            [
             0.4,
             "#fde0ef"
            ],
            [
             0.5,
             "#f7f7f7"
            ],
            [
             0.6,
             "#e6f5d0"
            ],
            [
             0.7,
             "#b8e186"
            ],
            [
             0.8,
             "#7fbc41"
            ],
            [
             0.9,
             "#4d9221"
            ],
            [
             1,
             "#276419"
            ]
           ],
           "sequential": [
            [
             0,
             "#0d0887"
            ],
            [
             0.1111111111111111,
             "#46039f"
            ],
            [
             0.2222222222222222,
             "#7201a8"
            ],
            [
             0.3333333333333333,
             "#9c179e"
            ],
            [
             0.4444444444444444,
             "#bd3786"
            ],
            [
             0.5555555555555556,
             "#d8576b"
            ],
            [
             0.6666666666666666,
             "#ed7953"
            ],
            [
             0.7777777777777778,
             "#fb9f3a"
            ],
            [
             0.8888888888888888,
             "#fdca26"
            ],
            [
             1,
             "#f0f921"
            ]
           ],
           "sequentialminus": [
            [
             0,
             "#0d0887"
            ],
            [
             0.1111111111111111,
             "#46039f"
            ],
            [
             0.2222222222222222,
             "#7201a8"
            ],
            [
             0.3333333333333333,
             "#9c179e"
            ],
            [
             0.4444444444444444,
             "#bd3786"
            ],
            [
             0.5555555555555556,
             "#d8576b"
            ],
            [
             0.6666666666666666,
             "#ed7953"
            ],
            [
             0.7777777777777778,
             "#fb9f3a"
            ],
            [
             0.8888888888888888,
             "#fdca26"
            ],
            [
             1,
             "#f0f921"
            ]
           ]
          },
          "colorway": [
           "#636efa",
           "#EF553B",
           "#00cc96",
           "#ab63fa",
           "#FFA15A",
           "#19d3f3",
           "#FF6692",
           "#B6E880",
           "#FF97FF",
           "#FECB52"
          ],
          "font": {
           "color": "#2a3f5f"
          },
          "geo": {
           "bgcolor": "white",
           "lakecolor": "white",
           "landcolor": "#E5ECF6",
           "showlakes": true,
           "showland": true,
           "subunitcolor": "white"
          },
          "hoverlabel": {
           "align": "left"
          },
          "hovermode": "closest",
          "mapbox": {
           "style": "light"
          },
          "paper_bgcolor": "white",
          "plot_bgcolor": "#E5ECF6",
          "polar": {
           "angularaxis": {
            "gridcolor": "white",
            "linecolor": "white",
            "ticks": ""
           },
           "bgcolor": "#E5ECF6",
           "radialaxis": {
            "gridcolor": "white",
            "linecolor": "white",
            "ticks": ""
           }
          },
          "scene": {
           "xaxis": {
            "backgroundcolor": "#E5ECF6",
            "gridcolor": "white",
            "gridwidth": 2,
            "linecolor": "white",
            "showbackground": true,
            "ticks": "",
            "zerolinecolor": "white"
           },
           "yaxis": {
            "backgroundcolor": "#E5ECF6",
            "gridcolor": "white",
            "gridwidth": 2,
            "linecolor": "white",
            "showbackground": true,
            "ticks": "",
            "zerolinecolor": "white"
           },
           "zaxis": {
            "backgroundcolor": "#E5ECF6",
            "gridcolor": "white",
            "gridwidth": 2,
            "linecolor": "white",
            "showbackground": true,
            "ticks": "",
            "zerolinecolor": "white"
           }
          },
          "shapedefaults": {
           "line": {
            "color": "#2a3f5f"
           }
          },
          "ternary": {
           "aaxis": {
            "gridcolor": "white",
            "linecolor": "white",
            "ticks": ""
           },
           "baxis": {
            "gridcolor": "white",
            "linecolor": "white",
            "ticks": ""
           },
           "bgcolor": "#E5ECF6",
           "caxis": {
            "gridcolor": "white",
            "linecolor": "white",
            "ticks": ""
           }
          },
          "title": {
           "x": 0.05
          },
          "xaxis": {
           "automargin": true,
           "gridcolor": "white",
           "linecolor": "white",
           "ticks": "",
           "title": {
            "standoff": 15
           },
           "zerolinecolor": "white",
           "zerolinewidth": 2
          },
          "yaxis": {
           "automargin": true,
           "gridcolor": "white",
           "linecolor": "white",
           "ticks": "",
           "title": {
            "standoff": 15
           },
           "zerolinecolor": "white",
           "zerolinewidth": 2
          }
         }
        },
        "title": {
         "text": "Test data"
        },
        "xaxis": {
         "anchor": "y",
         "domain": [
          0,
          1
         ],
         "title": {
          "text": "x"
         }
        },
        "yaxis": {
         "anchor": "x",
         "domain": [
          0,
          1
         ],
         "title": {
          "text": "y"
         }
        }
       }
      },
      "text/html": [
       "<div>                            <div id=\"109769b7-5e67-4225-8f6e-d03095ebb984\" class=\"plotly-graph-div\" style=\"height:525px; width:100%;\"></div>            <script type=\"text/javascript\">                require([\"plotly\"], function(Plotly) {                    window.PLOTLYENV=window.PLOTLYENV || {};                                    if (document.getElementById(\"109769b7-5e67-4225-8f6e-d03095ebb984\")) {                    Plotly.newPlot(                        \"109769b7-5e67-4225-8f6e-d03095ebb984\",                        [{\"hovertemplate\": \"color=0<br>x=%{x}<br>y=%{y}<extra></extra>\", \"legendgroup\": \"0\", \"marker\": {\"color\": \"#636efa\", \"symbol\": \"circle\"}, \"mode\": \"markers\", \"name\": \"0\", \"orientation\": \"v\", \"showlegend\": true, \"type\": \"scatter\", \"x\": [164, 34, 58, 77, 269, 40, 56, 200, 256, 328, 102, 10, 193, 287, 339, 195, 362, 26, 115, 174, 241, 31, 293, 349, 6, 234, 159, 4, 286, 338, 79, 326, 74, 223, 125, 299, 83, 95, 305], \"xaxis\": \"x\", \"y\": [2793, 3169, 2863, 3332, 2930, 488, 3252, 856, 651, 3772, 776, 2693, 807, 3981, 2908, 3806, 500, 558, 2913, 3905, 3297, 2762, 3581, 3768, 2816, 2976, 550, 718, 3122, 3136, 3050, 692, 795, 3742, 3666, 613, 3587, 681, 867], \"yaxis\": \"y\"}, {\"hovertemplate\": \"color=1<br>x=%{x}<br>y=%{y}<extra></extra>\", \"legendgroup\": \"1\", \"marker\": {\"color\": \"#EF553B\", \"symbol\": \"circle\"}, \"mode\": \"markers\", \"name\": \"1\", \"orientation\": \"v\", \"showlegend\": true, \"type\": \"scatter\", \"x\": [16, 308, 183, 120, 127, 259, 233, 225, 73, 219, 169, 149, 109, 43, 352, 154, 64, 23, 300, 310, 110, 91, 57, 46, 282, 212, 176, 337, 94, 78, 255, 47, 344], \"xaxis\": \"x\", \"y\": [2782, 3210, 3302, 3441, 3342, 3454, 3395, 3757, 2675, 3515, 3312, 3409, 697, 3065, 2984, 3469, 3064, 2901, 3631, 3155, 122, 3807, 2991, 845, 3125, 3224, 3400, 3117, 3006, 3174, 2949, 602, 3267], \"yaxis\": \"y\"}, {\"hovertemplate\": \"color=-1<br>x=%{x}<br>y=%{y}<extra></extra>\", \"legendgroup\": \"-1\", \"marker\": {\"color\": \"#00cc96\", \"symbol\": \"circle\"}, \"mode\": \"markers\", \"name\": \"-1\", \"orientation\": \"v\", \"showlegend\": true, \"type\": \"scatter\", \"x\": [138], \"xaxis\": \"x\", \"y\": [554], \"yaxis\": \"y\"}],                        {\"legend\": {\"title\": {\"text\": \"color\"}, \"tracegroupgap\": 0}, \"template\": {\"data\": {\"bar\": [{\"error_x\": {\"color\": \"#2a3f5f\"}, \"error_y\": {\"color\": \"#2a3f5f\"}, \"marker\": {\"line\": {\"color\": \"#E5ECF6\", \"width\": 0.5}}, \"type\": \"bar\"}], \"barpolar\": [{\"marker\": {\"line\": {\"color\": \"#E5ECF6\", \"width\": 0.5}}, \"type\": \"barpolar\"}], \"carpet\": [{\"aaxis\": {\"endlinecolor\": \"#2a3f5f\", \"gridcolor\": \"white\", \"linecolor\": \"white\", \"minorgridcolor\": \"white\", \"startlinecolor\": \"#2a3f5f\"}, \"baxis\": {\"endlinecolor\": \"#2a3f5f\", \"gridcolor\": \"white\", \"linecolor\": \"white\", \"minorgridcolor\": \"white\", \"startlinecolor\": \"#2a3f5f\"}, \"type\": \"carpet\"}], \"choropleth\": [{\"colorbar\": {\"outlinewidth\": 0, \"ticks\": \"\"}, \"type\": \"choropleth\"}], \"contour\": [{\"colorbar\": {\"outlinewidth\": 0, \"ticks\": \"\"}, \"colorscale\": [[0.0, \"#0d0887\"], [0.1111111111111111, \"#46039f\"], [0.2222222222222222, \"#7201a8\"], [0.3333333333333333, \"#9c179e\"], [0.4444444444444444, \"#bd3786\"], [0.5555555555555556, \"#d8576b\"], [0.6666666666666666, \"#ed7953\"], [0.7777777777777778, \"#fb9f3a\"], [0.8888888888888888, \"#fdca26\"], [1.0, \"#f0f921\"]], \"type\": \"contour\"}], \"contourcarpet\": [{\"colorbar\": {\"outlinewidth\": 0, \"ticks\": \"\"}, \"type\": \"contourcarpet\"}], \"heatmap\": [{\"colorbar\": {\"outlinewidth\": 0, \"ticks\": \"\"}, \"colorscale\": [[0.0, \"#0d0887\"], [0.1111111111111111, \"#46039f\"], [0.2222222222222222, \"#7201a8\"], [0.3333333333333333, \"#9c179e\"], [0.4444444444444444, \"#bd3786\"], [0.5555555555555556, \"#d8576b\"], [0.6666666666666666, \"#ed7953\"], [0.7777777777777778, \"#fb9f3a\"], [0.8888888888888888, \"#fdca26\"], [1.0, \"#f0f921\"]], \"type\": \"heatmap\"}], \"heatmapgl\": [{\"colorbar\": {\"outlinewidth\": 0, \"ticks\": \"\"}, \"colorscale\": [[0.0, \"#0d0887\"], [0.1111111111111111, \"#46039f\"], [0.2222222222222222, \"#7201a8\"], [0.3333333333333333, \"#9c179e\"], [0.4444444444444444, \"#bd3786\"], [0.5555555555555556, \"#d8576b\"], [0.6666666666666666, \"#ed7953\"], [0.7777777777777778, \"#fb9f3a\"], [0.8888888888888888, \"#fdca26\"], [1.0, \"#f0f921\"]], \"type\": \"heatmapgl\"}], \"histogram\": [{\"marker\": {\"colorbar\": {\"outlinewidth\": 0, \"ticks\": \"\"}}, \"type\": \"histogram\"}], \"histogram2d\": [{\"colorbar\": {\"outlinewidth\": 0, \"ticks\": \"\"}, \"colorscale\": [[0.0, \"#0d0887\"], [0.1111111111111111, \"#46039f\"], [0.2222222222222222, \"#7201a8\"], [0.3333333333333333, \"#9c179e\"], [0.4444444444444444, \"#bd3786\"], [0.5555555555555556, \"#d8576b\"], [0.6666666666666666, \"#ed7953\"], [0.7777777777777778, \"#fb9f3a\"], [0.8888888888888888, \"#fdca26\"], [1.0, \"#f0f921\"]], \"type\": \"histogram2d\"}], \"histogram2dcontour\": [{\"colorbar\": {\"outlinewidth\": 0, \"ticks\": \"\"}, \"colorscale\": [[0.0, \"#0d0887\"], [0.1111111111111111, \"#46039f\"], [0.2222222222222222, \"#7201a8\"], [0.3333333333333333, \"#9c179e\"], [0.4444444444444444, \"#bd3786\"], [0.5555555555555556, \"#d8576b\"], [0.6666666666666666, \"#ed7953\"], [0.7777777777777778, \"#fb9f3a\"], [0.8888888888888888, \"#fdca26\"], [1.0, \"#f0f921\"]], \"type\": \"histogram2dcontour\"}], \"mesh3d\": [{\"colorbar\": {\"outlinewidth\": 0, \"ticks\": \"\"}, \"type\": \"mesh3d\"}], \"parcoords\": [{\"line\": {\"colorbar\": {\"outlinewidth\": 0, \"ticks\": \"\"}}, \"type\": \"parcoords\"}], \"pie\": [{\"automargin\": true, \"type\": \"pie\"}], \"scatter\": [{\"marker\": {\"colorbar\": {\"outlinewidth\": 0, \"ticks\": \"\"}}, \"type\": \"scatter\"}], \"scatter3d\": [{\"line\": {\"colorbar\": {\"outlinewidth\": 0, \"ticks\": \"\"}}, \"marker\": {\"colorbar\": {\"outlinewidth\": 0, \"ticks\": \"\"}}, \"type\": \"scatter3d\"}], \"scattercarpet\": [{\"marker\": {\"colorbar\": {\"outlinewidth\": 0, \"ticks\": \"\"}}, \"type\": \"scattercarpet\"}], \"scattergeo\": [{\"marker\": {\"colorbar\": {\"outlinewidth\": 0, \"ticks\": \"\"}}, \"type\": \"scattergeo\"}], \"scattergl\": [{\"marker\": {\"colorbar\": {\"outlinewidth\": 0, \"ticks\": \"\"}}, \"type\": \"scattergl\"}], \"scattermapbox\": [{\"marker\": {\"colorbar\": {\"outlinewidth\": 0, \"ticks\": \"\"}}, \"type\": \"scattermapbox\"}], \"scatterpolar\": [{\"marker\": {\"colorbar\": {\"outlinewidth\": 0, \"ticks\": \"\"}}, \"type\": \"scatterpolar\"}], \"scatterpolargl\": [{\"marker\": {\"colorbar\": {\"outlinewidth\": 0, \"ticks\": \"\"}}, \"type\": \"scatterpolargl\"}], \"scatterternary\": [{\"marker\": {\"colorbar\": {\"outlinewidth\": 0, \"ticks\": \"\"}}, \"type\": \"scatterternary\"}], \"surface\": [{\"colorbar\": {\"outlinewidth\": 0, \"ticks\": \"\"}, \"colorscale\": [[0.0, \"#0d0887\"], [0.1111111111111111, \"#46039f\"], [0.2222222222222222, \"#7201a8\"], [0.3333333333333333, \"#9c179e\"], [0.4444444444444444, \"#bd3786\"], [0.5555555555555556, \"#d8576b\"], [0.6666666666666666, \"#ed7953\"], [0.7777777777777778, \"#fb9f3a\"], [0.8888888888888888, \"#fdca26\"], [1.0, \"#f0f921\"]], \"type\": \"surface\"}], \"table\": [{\"cells\": {\"fill\": {\"color\": \"#EBF0F8\"}, \"line\": {\"color\": \"white\"}}, \"header\": {\"fill\": {\"color\": \"#C8D4E3\"}, \"line\": {\"color\": \"white\"}}, \"type\": \"table\"}]}, \"layout\": {\"annotationdefaults\": {\"arrowcolor\": \"#2a3f5f\", \"arrowhead\": 0, \"arrowwidth\": 1}, \"coloraxis\": {\"colorbar\": {\"outlinewidth\": 0, \"ticks\": \"\"}}, \"colorscale\": {\"diverging\": [[0, \"#8e0152\"], [0.1, \"#c51b7d\"], [0.2, \"#de77ae\"], [0.3, \"#f1b6da\"], [0.4, \"#fde0ef\"], [0.5, \"#f7f7f7\"], [0.6, \"#e6f5d0\"], [0.7, \"#b8e186\"], [0.8, \"#7fbc41\"], [0.9, \"#4d9221\"], [1, \"#276419\"]], \"sequential\": [[0.0, \"#0d0887\"], [0.1111111111111111, \"#46039f\"], [0.2222222222222222, \"#7201a8\"], [0.3333333333333333, \"#9c179e\"], [0.4444444444444444, \"#bd3786\"], [0.5555555555555556, \"#d8576b\"], [0.6666666666666666, \"#ed7953\"], [0.7777777777777778, \"#fb9f3a\"], [0.8888888888888888, \"#fdca26\"], [1.0, \"#f0f921\"]], \"sequentialminus\": [[0.0, \"#0d0887\"], [0.1111111111111111, \"#46039f\"], [0.2222222222222222, \"#7201a8\"], [0.3333333333333333, \"#9c179e\"], [0.4444444444444444, \"#bd3786\"], [0.5555555555555556, \"#d8576b\"], [0.6666666666666666, \"#ed7953\"], [0.7777777777777778, \"#fb9f3a\"], [0.8888888888888888, \"#fdca26\"], [1.0, \"#f0f921\"]]}, \"colorway\": [\"#636efa\", \"#EF553B\", \"#00cc96\", \"#ab63fa\", \"#FFA15A\", \"#19d3f3\", \"#FF6692\", \"#B6E880\", \"#FF97FF\", \"#FECB52\"], \"font\": {\"color\": \"#2a3f5f\"}, \"geo\": {\"bgcolor\": \"white\", \"lakecolor\": \"white\", \"landcolor\": \"#E5ECF6\", \"showlakes\": true, \"showland\": true, \"subunitcolor\": \"white\"}, \"hoverlabel\": {\"align\": \"left\"}, \"hovermode\": \"closest\", \"mapbox\": {\"style\": \"light\"}, \"paper_bgcolor\": \"white\", \"plot_bgcolor\": \"#E5ECF6\", \"polar\": {\"angularaxis\": {\"gridcolor\": \"white\", \"linecolor\": \"white\", \"ticks\": \"\"}, \"bgcolor\": \"#E5ECF6\", \"radialaxis\": {\"gridcolor\": \"white\", \"linecolor\": \"white\", \"ticks\": \"\"}}, \"scene\": {\"xaxis\": {\"backgroundcolor\": \"#E5ECF6\", \"gridcolor\": \"white\", \"gridwidth\": 2, \"linecolor\": \"white\", \"showbackground\": true, \"ticks\": \"\", \"zerolinecolor\": \"white\"}, \"yaxis\": {\"backgroundcolor\": \"#E5ECF6\", \"gridcolor\": \"white\", \"gridwidth\": 2, \"linecolor\": \"white\", \"showbackground\": true, \"ticks\": \"\", \"zerolinecolor\": \"white\"}, \"zaxis\": {\"backgroundcolor\": \"#E5ECF6\", \"gridcolor\": \"white\", \"gridwidth\": 2, \"linecolor\": \"white\", \"showbackground\": true, \"ticks\": \"\", \"zerolinecolor\": \"white\"}}, \"shapedefaults\": {\"line\": {\"color\": \"#2a3f5f\"}}, \"ternary\": {\"aaxis\": {\"gridcolor\": \"white\", \"linecolor\": \"white\", \"ticks\": \"\"}, \"baxis\": {\"gridcolor\": \"white\", \"linecolor\": \"white\", \"ticks\": \"\"}, \"bgcolor\": \"#E5ECF6\", \"caxis\": {\"gridcolor\": \"white\", \"linecolor\": \"white\", \"ticks\": \"\"}}, \"title\": {\"x\": 0.05}, \"xaxis\": {\"automargin\": true, \"gridcolor\": \"white\", \"linecolor\": \"white\", \"ticks\": \"\", \"title\": {\"standoff\": 15}, \"zerolinecolor\": \"white\", \"zerolinewidth\": 2}, \"yaxis\": {\"automargin\": true, \"gridcolor\": \"white\", \"linecolor\": \"white\", \"ticks\": \"\", \"title\": {\"standoff\": 15}, \"zerolinecolor\": \"white\", \"zerolinewidth\": 2}}}, \"title\": {\"text\": \"Test data\"}, \"xaxis\": {\"anchor\": \"y\", \"domain\": [0.0, 1.0], \"title\": {\"text\": \"x\"}}, \"yaxis\": {\"anchor\": \"x\", \"domain\": [0.0, 1.0], \"title\": {\"text\": \"y\"}}},                        {\"responsive\": true}                    ).then(function(){\n",
       "                            \n",
       "var gd = document.getElementById('109769b7-5e67-4225-8f6e-d03095ebb984');\n",
       "var x = new MutationObserver(function (mutations, observer) {{\n",
       "        var display = window.getComputedStyle(gd).display;\n",
       "        if (!display || display === 'none') {{\n",
       "            console.log([gd, 'removed!']);\n",
       "            Plotly.purge(gd);\n",
       "            observer.disconnect();\n",
       "        }}\n",
       "}});\n",
       "\n",
       "// Listen for the removal of the full notebook cells\n",
       "var notebookContainer = gd.closest('#notebook-container');\n",
       "if (notebookContainer) {{\n",
       "    x.observe(notebookContainer, {childList: true});\n",
       "}}\n",
       "\n",
       "// Listen for the clearing of the current output cell\n",
       "var outputEl = gd.closest('.output');\n",
       "if (outputEl) {{\n",
       "    x.observe(outputEl, {childList: true});\n",
       "}}\n",
       "\n",
       "                        })                };                });            </script>        </div>"
      ]
     },
     "metadata": {},
     "output_type": "display_data"
    }
   ],
   "source": [
    "# plot of knn classification\n",
    "fig=px.scatter(x = test.days, y = test[\"count\"], color=mod_knn.predict(test.days.values.reshape(-1,1)).astype(str),\n",
    "                 title=\"Test data\")\n",
    "                    \n",
    "    \n",
    "\n",
    "fig.show()"
   ]
  },
  {
   "cell_type": "code",
   "execution_count": 96,
   "metadata": {},
   "outputs": [
    {
     "data": {
      "application/vnd.plotly.v1+json": {
       "config": {
        "plotlyServerURL": "https://plot.ly"
       },
       "data": [
        {
         "hovertemplate": "color=1<br>x=%{x}<br>y=%{y}<extra></extra>",
         "legendgroup": "1",
         "marker": {
          "color": "#636efa",
          "symbol": "circle"
         },
         "mode": "markers",
         "name": "1",
         "orientation": "v",
         "showlegend": true,
         "type": "scatter",
         "x": [
          164,
          34,
          16,
          308,
          58,
          183,
          77,
          120,
          269,
          127,
          259,
          233,
          56,
          225,
          328,
          10,
          73,
          287,
          339,
          195,
          219,
          169,
          149,
          43,
          352,
          154,
          115,
          64,
          23,
          300,
          174,
          241,
          310,
          31,
          293,
          349,
          91,
          57,
          6,
          234,
          282,
          212,
          176,
          337,
          94,
          286,
          78,
          338,
          255,
          79,
          223,
          125,
          83,
          344
         ],
         "xaxis": "x",
         "y": [
          2793,
          3169,
          2782,
          3210,
          2863,
          3302,
          3332,
          3441,
          2930,
          3342,
          3454,
          3395,
          3252,
          3757,
          3772,
          2693,
          2675,
          3981,
          2908,
          3806,
          3515,
          3312,
          3409,
          3065,
          2984,
          3469,
          2913,
          3064,
          2901,
          3631,
          3905,
          3297,
          3155,
          2762,
          3581,
          3768,
          3807,
          2991,
          2816,
          2976,
          3125,
          3224,
          3400,
          3117,
          3006,
          3122,
          3174,
          3136,
          2949,
          3050,
          3742,
          3666,
          3587,
          3267
         ],
         "yaxis": "y"
        },
        {
         "hovertemplate": "color=0<br>x=%{x}<br>y=%{y}<extra></extra>",
         "legendgroup": "0",
         "marker": {
          "color": "#EF553B",
          "symbol": "circle"
         },
         "mode": "markers",
         "name": "0",
         "orientation": "v",
         "showlegend": true,
         "type": "scatter",
         "x": [
          40,
          138,
          200,
          256,
          102,
          193,
          362,
          26,
          109,
          110,
          46,
          159,
          4,
          47,
          326,
          74,
          299,
          95,
          305
         ],
         "xaxis": "x",
         "y": [
          488,
          554,
          856,
          651,
          776,
          807,
          500,
          558,
          697,
          122,
          845,
          550,
          718,
          602,
          692,
          795,
          613,
          681,
          867
         ],
         "yaxis": "y"
        }
       ],
       "layout": {
        "legend": {
         "title": {
          "text": "color"
         },
         "tracegroupgap": 0
        },
        "template": {
         "data": {
          "bar": [
           {
            "error_x": {
             "color": "#2a3f5f"
            },
            "error_y": {
             "color": "#2a3f5f"
            },
            "marker": {
             "line": {
              "color": "#E5ECF6",
              "width": 0.5
             }
            },
            "type": "bar"
           }
          ],
          "barpolar": [
           {
            "marker": {
             "line": {
              "color": "#E5ECF6",
              "width": 0.5
             }
            },
            "type": "barpolar"
           }
          ],
          "carpet": [
           {
            "aaxis": {
             "endlinecolor": "#2a3f5f",
             "gridcolor": "white",
             "linecolor": "white",
             "minorgridcolor": "white",
             "startlinecolor": "#2a3f5f"
            },
            "baxis": {
             "endlinecolor": "#2a3f5f",
             "gridcolor": "white",
             "linecolor": "white",
             "minorgridcolor": "white",
             "startlinecolor": "#2a3f5f"
            },
            "type": "carpet"
           }
          ],
          "choropleth": [
           {
            "colorbar": {
             "outlinewidth": 0,
             "ticks": ""
            },
            "type": "choropleth"
           }
          ],
          "contour": [
           {
            "colorbar": {
             "outlinewidth": 0,
             "ticks": ""
            },
            "colorscale": [
             [
              0,
              "#0d0887"
             ],
             [
              0.1111111111111111,
              "#46039f"
             ],
             [
              0.2222222222222222,
              "#7201a8"
             ],
             [
              0.3333333333333333,
              "#9c179e"
             ],
             [
              0.4444444444444444,
              "#bd3786"
             ],
             [
              0.5555555555555556,
              "#d8576b"
             ],
             [
              0.6666666666666666,
              "#ed7953"
             ],
             [
              0.7777777777777778,
              "#fb9f3a"
             ],
             [
              0.8888888888888888,
              "#fdca26"
             ],
             [
              1,
              "#f0f921"
             ]
            ],
            "type": "contour"
           }
          ],
          "contourcarpet": [
           {
            "colorbar": {
             "outlinewidth": 0,
             "ticks": ""
            },
            "type": "contourcarpet"
           }
          ],
          "heatmap": [
           {
            "colorbar": {
             "outlinewidth": 0,
             "ticks": ""
            },
            "colorscale": [
             [
              0,
              "#0d0887"
             ],
             [
              0.1111111111111111,
              "#46039f"
             ],
             [
              0.2222222222222222,
              "#7201a8"
             ],
             [
              0.3333333333333333,
              "#9c179e"
             ],
             [
              0.4444444444444444,
              "#bd3786"
             ],
             [
              0.5555555555555556,
              "#d8576b"
             ],
             [
              0.6666666666666666,
              "#ed7953"
             ],
             [
              0.7777777777777778,
              "#fb9f3a"
             ],
             [
              0.8888888888888888,
              "#fdca26"
             ],
             [
              1,
              "#f0f921"
             ]
            ],
            "type": "heatmap"
           }
          ],
          "heatmapgl": [
           {
            "colorbar": {
             "outlinewidth": 0,
             "ticks": ""
            },
            "colorscale": [
             [
              0,
              "#0d0887"
             ],
             [
              0.1111111111111111,
              "#46039f"
             ],
             [
              0.2222222222222222,
              "#7201a8"
             ],
             [
              0.3333333333333333,
              "#9c179e"
             ],
             [
              0.4444444444444444,
              "#bd3786"
             ],
             [
              0.5555555555555556,
              "#d8576b"
             ],
             [
              0.6666666666666666,
              "#ed7953"
             ],
             [
              0.7777777777777778,
              "#fb9f3a"
             ],
             [
              0.8888888888888888,
              "#fdca26"
             ],
             [
              1,
              "#f0f921"
             ]
            ],
            "type": "heatmapgl"
           }
          ],
          "histogram": [
           {
            "marker": {
             "colorbar": {
              "outlinewidth": 0,
              "ticks": ""
             }
            },
            "type": "histogram"
           }
          ],
          "histogram2d": [
           {
            "colorbar": {
             "outlinewidth": 0,
             "ticks": ""
            },
            "colorscale": [
             [
              0,
              "#0d0887"
             ],
             [
              0.1111111111111111,
              "#46039f"
             ],
             [
              0.2222222222222222,
              "#7201a8"
             ],
             [
              0.3333333333333333,
              "#9c179e"
             ],
             [
              0.4444444444444444,
              "#bd3786"
             ],
             [
              0.5555555555555556,
              "#d8576b"
             ],
             [
              0.6666666666666666,
              "#ed7953"
             ],
             [
              0.7777777777777778,
              "#fb9f3a"
             ],
             [
              0.8888888888888888,
              "#fdca26"
             ],
             [
              1,
              "#f0f921"
             ]
            ],
            "type": "histogram2d"
           }
          ],
          "histogram2dcontour": [
           {
            "colorbar": {
             "outlinewidth": 0,
             "ticks": ""
            },
            "colorscale": [
             [
              0,
              "#0d0887"
             ],
             [
              0.1111111111111111,
              "#46039f"
             ],
             [
              0.2222222222222222,
              "#7201a8"
             ],
             [
              0.3333333333333333,
              "#9c179e"
             ],
             [
              0.4444444444444444,
              "#bd3786"
             ],
             [
              0.5555555555555556,
              "#d8576b"
             ],
             [
              0.6666666666666666,
              "#ed7953"
             ],
             [
              0.7777777777777778,
              "#fb9f3a"
             ],
             [
              0.8888888888888888,
              "#fdca26"
             ],
             [
              1,
              "#f0f921"
             ]
            ],
            "type": "histogram2dcontour"
           }
          ],
          "mesh3d": [
           {
            "colorbar": {
             "outlinewidth": 0,
             "ticks": ""
            },
            "type": "mesh3d"
           }
          ],
          "parcoords": [
           {
            "line": {
             "colorbar": {
              "outlinewidth": 0,
              "ticks": ""
             }
            },
            "type": "parcoords"
           }
          ],
          "pie": [
           {
            "automargin": true,
            "type": "pie"
           }
          ],
          "scatter": [
           {
            "marker": {
             "colorbar": {
              "outlinewidth": 0,
              "ticks": ""
             }
            },
            "type": "scatter"
           }
          ],
          "scatter3d": [
           {
            "line": {
             "colorbar": {
              "outlinewidth": 0,
              "ticks": ""
             }
            },
            "marker": {
             "colorbar": {
              "outlinewidth": 0,
              "ticks": ""
             }
            },
            "type": "scatter3d"
           }
          ],
          "scattercarpet": [
           {
            "marker": {
             "colorbar": {
              "outlinewidth": 0,
              "ticks": ""
             }
            },
            "type": "scattercarpet"
           }
          ],
          "scattergeo": [
           {
            "marker": {
             "colorbar": {
              "outlinewidth": 0,
              "ticks": ""
             }
            },
            "type": "scattergeo"
           }
          ],
          "scattergl": [
           {
            "marker": {
             "colorbar": {
              "outlinewidth": 0,
              "ticks": ""
             }
            },
            "type": "scattergl"
           }
          ],
          "scattermapbox": [
           {
            "marker": {
             "colorbar": {
              "outlinewidth": 0,
              "ticks": ""
             }
            },
            "type": "scattermapbox"
           }
          ],
          "scatterpolar": [
           {
            "marker": {
             "colorbar": {
              "outlinewidth": 0,
              "ticks": ""
             }
            },
            "type": "scatterpolar"
           }
          ],
          "scatterpolargl": [
           {
            "marker": {
             "colorbar": {
              "outlinewidth": 0,
              "ticks": ""
             }
            },
            "type": "scatterpolargl"
           }
          ],
          "scatterternary": [
           {
            "marker": {
             "colorbar": {
              "outlinewidth": 0,
              "ticks": ""
             }
            },
            "type": "scatterternary"
           }
          ],
          "surface": [
           {
            "colorbar": {
             "outlinewidth": 0,
             "ticks": ""
            },
            "colorscale": [
             [
              0,
              "#0d0887"
             ],
             [
              0.1111111111111111,
              "#46039f"
             ],
             [
              0.2222222222222222,
              "#7201a8"
             ],
             [
              0.3333333333333333,
              "#9c179e"
             ],
             [
              0.4444444444444444,
              "#bd3786"
             ],
             [
              0.5555555555555556,
              "#d8576b"
             ],
             [
              0.6666666666666666,
              "#ed7953"
             ],
             [
              0.7777777777777778,
              "#fb9f3a"
             ],
             [
              0.8888888888888888,
              "#fdca26"
             ],
             [
              1,
              "#f0f921"
             ]
            ],
            "type": "surface"
           }
          ],
          "table": [
           {
            "cells": {
             "fill": {
              "color": "#EBF0F8"
             },
             "line": {
              "color": "white"
             }
            },
            "header": {
             "fill": {
              "color": "#C8D4E3"
             },
             "line": {
              "color": "white"
             }
            },
            "type": "table"
           }
          ]
         },
         "layout": {
          "annotationdefaults": {
           "arrowcolor": "#2a3f5f",
           "arrowhead": 0,
           "arrowwidth": 1
          },
          "coloraxis": {
           "colorbar": {
            "outlinewidth": 0,
            "ticks": ""
           }
          },
          "colorscale": {
           "diverging": [
            [
             0,
             "#8e0152"
            ],
            [
             0.1,
             "#c51b7d"
            ],
            [
             0.2,
             "#de77ae"
            ],
            [
             0.3,
             "#f1b6da"
            ],
            [
             0.4,
             "#fde0ef"
            ],
            [
             0.5,
             "#f7f7f7"
            ],
            [
             0.6,
             "#e6f5d0"
            ],
            [
             0.7,
             "#b8e186"
            ],
            [
             0.8,
             "#7fbc41"
            ],
            [
             0.9,
             "#4d9221"
            ],
            [
             1,
             "#276419"
            ]
           ],
           "sequential": [
            [
             0,
             "#0d0887"
            ],
            [
             0.1111111111111111,
             "#46039f"
            ],
            [
             0.2222222222222222,
             "#7201a8"
            ],
            [
             0.3333333333333333,
             "#9c179e"
            ],
            [
             0.4444444444444444,
             "#bd3786"
            ],
            [
             0.5555555555555556,
             "#d8576b"
            ],
            [
             0.6666666666666666,
             "#ed7953"
            ],
            [
             0.7777777777777778,
             "#fb9f3a"
            ],
            [
             0.8888888888888888,
             "#fdca26"
            ],
            [
             1,
             "#f0f921"
            ]
           ],
           "sequentialminus": [
            [
             0,
             "#0d0887"
            ],
            [
             0.1111111111111111,
             "#46039f"
            ],
            [
             0.2222222222222222,
             "#7201a8"
            ],
            [
             0.3333333333333333,
             "#9c179e"
            ],
            [
             0.4444444444444444,
             "#bd3786"
            ],
            [
             0.5555555555555556,
             "#d8576b"
            ],
            [
             0.6666666666666666,
             "#ed7953"
            ],
            [
             0.7777777777777778,
             "#fb9f3a"
            ],
            [
             0.8888888888888888,
             "#fdca26"
            ],
            [
             1,
             "#f0f921"
            ]
           ]
          },
          "colorway": [
           "#636efa",
           "#EF553B",
           "#00cc96",
           "#ab63fa",
           "#FFA15A",
           "#19d3f3",
           "#FF6692",
           "#B6E880",
           "#FF97FF",
           "#FECB52"
          ],
          "font": {
           "color": "#2a3f5f"
          },
          "geo": {
           "bgcolor": "white",
           "lakecolor": "white",
           "landcolor": "#E5ECF6",
           "showlakes": true,
           "showland": true,
           "subunitcolor": "white"
          },
          "hoverlabel": {
           "align": "left"
          },
          "hovermode": "closest",
          "mapbox": {
           "style": "light"
          },
          "paper_bgcolor": "white",
          "plot_bgcolor": "#E5ECF6",
          "polar": {
           "angularaxis": {
            "gridcolor": "white",
            "linecolor": "white",
            "ticks": ""
           },
           "bgcolor": "#E5ECF6",
           "radialaxis": {
            "gridcolor": "white",
            "linecolor": "white",
            "ticks": ""
           }
          },
          "scene": {
           "xaxis": {
            "backgroundcolor": "#E5ECF6",
            "gridcolor": "white",
            "gridwidth": 2,
            "linecolor": "white",
            "showbackground": true,
            "ticks": "",
            "zerolinecolor": "white"
           },
           "yaxis": {
            "backgroundcolor": "#E5ECF6",
            "gridcolor": "white",
            "gridwidth": 2,
            "linecolor": "white",
            "showbackground": true,
            "ticks": "",
            "zerolinecolor": "white"
           },
           "zaxis": {
            "backgroundcolor": "#E5ECF6",
            "gridcolor": "white",
            "gridwidth": 2,
            "linecolor": "white",
            "showbackground": true,
            "ticks": "",
            "zerolinecolor": "white"
           }
          },
          "shapedefaults": {
           "line": {
            "color": "#2a3f5f"
           }
          },
          "ternary": {
           "aaxis": {
            "gridcolor": "white",
            "linecolor": "white",
            "ticks": ""
           },
           "baxis": {
            "gridcolor": "white",
            "linecolor": "white",
            "ticks": ""
           },
           "bgcolor": "#E5ECF6",
           "caxis": {
            "gridcolor": "white",
            "linecolor": "white",
            "ticks": ""
           }
          },
          "title": {
           "x": 0.05
          },
          "xaxis": {
           "automargin": true,
           "gridcolor": "white",
           "linecolor": "white",
           "ticks": "",
           "title": {
            "standoff": 15
           },
           "zerolinecolor": "white",
           "zerolinewidth": 2
          },
          "yaxis": {
           "automargin": true,
           "gridcolor": "white",
           "linecolor": "white",
           "ticks": "",
           "title": {
            "standoff": 15
           },
           "zerolinecolor": "white",
           "zerolinewidth": 2
          }
         }
        },
        "title": {
         "text": "Test data"
        },
        "xaxis": {
         "anchor": "y",
         "domain": [
          0,
          1
         ],
         "title": {
          "text": "x"
         }
        },
        "yaxis": {
         "anchor": "x",
         "domain": [
          0,
          1
         ],
         "title": {
          "text": "y"
         }
        }
       }
      },
      "text/html": [
       "<div>                            <div id=\"32c53d0f-3fbc-4b4c-84b7-e1fee2bfffb5\" class=\"plotly-graph-div\" style=\"height:525px; width:100%;\"></div>            <script type=\"text/javascript\">                require([\"plotly\"], function(Plotly) {                    window.PLOTLYENV=window.PLOTLYENV || {};                                    if (document.getElementById(\"32c53d0f-3fbc-4b4c-84b7-e1fee2bfffb5\")) {                    Plotly.newPlot(                        \"32c53d0f-3fbc-4b4c-84b7-e1fee2bfffb5\",                        [{\"hovertemplate\": \"color=1<br>x=%{x}<br>y=%{y}<extra></extra>\", \"legendgroup\": \"1\", \"marker\": {\"color\": \"#636efa\", \"symbol\": \"circle\"}, \"mode\": \"markers\", \"name\": \"1\", \"orientation\": \"v\", \"showlegend\": true, \"type\": \"scatter\", \"x\": [164, 34, 16, 308, 58, 183, 77, 120, 269, 127, 259, 233, 56, 225, 328, 10, 73, 287, 339, 195, 219, 169, 149, 43, 352, 154, 115, 64, 23, 300, 174, 241, 310, 31, 293, 349, 91, 57, 6, 234, 282, 212, 176, 337, 94, 286, 78, 338, 255, 79, 223, 125, 83, 344], \"xaxis\": \"x\", \"y\": [2793, 3169, 2782, 3210, 2863, 3302, 3332, 3441, 2930, 3342, 3454, 3395, 3252, 3757, 3772, 2693, 2675, 3981, 2908, 3806, 3515, 3312, 3409, 3065, 2984, 3469, 2913, 3064, 2901, 3631, 3905, 3297, 3155, 2762, 3581, 3768, 3807, 2991, 2816, 2976, 3125, 3224, 3400, 3117, 3006, 3122, 3174, 3136, 2949, 3050, 3742, 3666, 3587, 3267], \"yaxis\": \"y\"}, {\"hovertemplate\": \"color=0<br>x=%{x}<br>y=%{y}<extra></extra>\", \"legendgroup\": \"0\", \"marker\": {\"color\": \"#EF553B\", \"symbol\": \"circle\"}, \"mode\": \"markers\", \"name\": \"0\", \"orientation\": \"v\", \"showlegend\": true, \"type\": \"scatter\", \"x\": [40, 138, 200, 256, 102, 193, 362, 26, 109, 110, 46, 159, 4, 47, 326, 74, 299, 95, 305], \"xaxis\": \"x\", \"y\": [488, 554, 856, 651, 776, 807, 500, 558, 697, 122, 845, 550, 718, 602, 692, 795, 613, 681, 867], \"yaxis\": \"y\"}],                        {\"legend\": {\"title\": {\"text\": \"color\"}, \"tracegroupgap\": 0}, \"template\": {\"data\": {\"bar\": [{\"error_x\": {\"color\": \"#2a3f5f\"}, \"error_y\": {\"color\": \"#2a3f5f\"}, \"marker\": {\"line\": {\"color\": \"#E5ECF6\", \"width\": 0.5}}, \"type\": \"bar\"}], \"barpolar\": [{\"marker\": {\"line\": {\"color\": \"#E5ECF6\", \"width\": 0.5}}, \"type\": \"barpolar\"}], \"carpet\": [{\"aaxis\": {\"endlinecolor\": \"#2a3f5f\", \"gridcolor\": \"white\", \"linecolor\": \"white\", \"minorgridcolor\": \"white\", \"startlinecolor\": \"#2a3f5f\"}, \"baxis\": {\"endlinecolor\": \"#2a3f5f\", \"gridcolor\": \"white\", \"linecolor\": \"white\", \"minorgridcolor\": \"white\", \"startlinecolor\": \"#2a3f5f\"}, \"type\": \"carpet\"}], \"choropleth\": [{\"colorbar\": {\"outlinewidth\": 0, \"ticks\": \"\"}, \"type\": \"choropleth\"}], \"contour\": [{\"colorbar\": {\"outlinewidth\": 0, \"ticks\": \"\"}, \"colorscale\": [[0.0, \"#0d0887\"], [0.1111111111111111, \"#46039f\"], [0.2222222222222222, \"#7201a8\"], [0.3333333333333333, \"#9c179e\"], [0.4444444444444444, \"#bd3786\"], [0.5555555555555556, \"#d8576b\"], [0.6666666666666666, \"#ed7953\"], [0.7777777777777778, \"#fb9f3a\"], [0.8888888888888888, \"#fdca26\"], [1.0, \"#f0f921\"]], \"type\": \"contour\"}], \"contourcarpet\": [{\"colorbar\": {\"outlinewidth\": 0, \"ticks\": \"\"}, \"type\": \"contourcarpet\"}], \"heatmap\": [{\"colorbar\": {\"outlinewidth\": 0, \"ticks\": \"\"}, \"colorscale\": [[0.0, \"#0d0887\"], [0.1111111111111111, \"#46039f\"], [0.2222222222222222, \"#7201a8\"], [0.3333333333333333, \"#9c179e\"], [0.4444444444444444, \"#bd3786\"], [0.5555555555555556, \"#d8576b\"], [0.6666666666666666, \"#ed7953\"], [0.7777777777777778, \"#fb9f3a\"], [0.8888888888888888, \"#fdca26\"], [1.0, \"#f0f921\"]], \"type\": \"heatmap\"}], \"heatmapgl\": [{\"colorbar\": {\"outlinewidth\": 0, \"ticks\": \"\"}, \"colorscale\": [[0.0, \"#0d0887\"], [0.1111111111111111, \"#46039f\"], [0.2222222222222222, \"#7201a8\"], [0.3333333333333333, \"#9c179e\"], [0.4444444444444444, \"#bd3786\"], [0.5555555555555556, \"#d8576b\"], [0.6666666666666666, \"#ed7953\"], [0.7777777777777778, \"#fb9f3a\"], [0.8888888888888888, \"#fdca26\"], [1.0, \"#f0f921\"]], \"type\": \"heatmapgl\"}], \"histogram\": [{\"marker\": {\"colorbar\": {\"outlinewidth\": 0, \"ticks\": \"\"}}, \"type\": \"histogram\"}], \"histogram2d\": [{\"colorbar\": {\"outlinewidth\": 0, \"ticks\": \"\"}, \"colorscale\": [[0.0, \"#0d0887\"], [0.1111111111111111, \"#46039f\"], [0.2222222222222222, \"#7201a8\"], [0.3333333333333333, \"#9c179e\"], [0.4444444444444444, \"#bd3786\"], [0.5555555555555556, \"#d8576b\"], [0.6666666666666666, \"#ed7953\"], [0.7777777777777778, \"#fb9f3a\"], [0.8888888888888888, \"#fdca26\"], [1.0, \"#f0f921\"]], \"type\": \"histogram2d\"}], \"histogram2dcontour\": [{\"colorbar\": {\"outlinewidth\": 0, \"ticks\": \"\"}, \"colorscale\": [[0.0, \"#0d0887\"], [0.1111111111111111, \"#46039f\"], [0.2222222222222222, \"#7201a8\"], [0.3333333333333333, \"#9c179e\"], [0.4444444444444444, \"#bd3786\"], [0.5555555555555556, \"#d8576b\"], [0.6666666666666666, \"#ed7953\"], [0.7777777777777778, \"#fb9f3a\"], [0.8888888888888888, \"#fdca26\"], [1.0, \"#f0f921\"]], \"type\": \"histogram2dcontour\"}], \"mesh3d\": [{\"colorbar\": {\"outlinewidth\": 0, \"ticks\": \"\"}, \"type\": \"mesh3d\"}], \"parcoords\": [{\"line\": {\"colorbar\": {\"outlinewidth\": 0, \"ticks\": \"\"}}, \"type\": \"parcoords\"}], \"pie\": [{\"automargin\": true, \"type\": \"pie\"}], \"scatter\": [{\"marker\": {\"colorbar\": {\"outlinewidth\": 0, \"ticks\": \"\"}}, \"type\": \"scatter\"}], \"scatter3d\": [{\"line\": {\"colorbar\": {\"outlinewidth\": 0, \"ticks\": \"\"}}, \"marker\": {\"colorbar\": {\"outlinewidth\": 0, \"ticks\": \"\"}}, \"type\": \"scatter3d\"}], \"scattercarpet\": [{\"marker\": {\"colorbar\": {\"outlinewidth\": 0, \"ticks\": \"\"}}, \"type\": \"scattercarpet\"}], \"scattergeo\": [{\"marker\": {\"colorbar\": {\"outlinewidth\": 0, \"ticks\": \"\"}}, \"type\": \"scattergeo\"}], \"scattergl\": [{\"marker\": {\"colorbar\": {\"outlinewidth\": 0, \"ticks\": \"\"}}, \"type\": \"scattergl\"}], \"scattermapbox\": [{\"marker\": {\"colorbar\": {\"outlinewidth\": 0, \"ticks\": \"\"}}, \"type\": \"scattermapbox\"}], \"scatterpolar\": [{\"marker\": {\"colorbar\": {\"outlinewidth\": 0, \"ticks\": \"\"}}, \"type\": \"scatterpolar\"}], \"scatterpolargl\": [{\"marker\": {\"colorbar\": {\"outlinewidth\": 0, \"ticks\": \"\"}}, \"type\": \"scatterpolargl\"}], \"scatterternary\": [{\"marker\": {\"colorbar\": {\"outlinewidth\": 0, \"ticks\": \"\"}}, \"type\": \"scatterternary\"}], \"surface\": [{\"colorbar\": {\"outlinewidth\": 0, \"ticks\": \"\"}, \"colorscale\": [[0.0, \"#0d0887\"], [0.1111111111111111, \"#46039f\"], [0.2222222222222222, \"#7201a8\"], [0.3333333333333333, \"#9c179e\"], [0.4444444444444444, \"#bd3786\"], [0.5555555555555556, \"#d8576b\"], [0.6666666666666666, \"#ed7953\"], [0.7777777777777778, \"#fb9f3a\"], [0.8888888888888888, \"#fdca26\"], [1.0, \"#f0f921\"]], \"type\": \"surface\"}], \"table\": [{\"cells\": {\"fill\": {\"color\": \"#EBF0F8\"}, \"line\": {\"color\": \"white\"}}, \"header\": {\"fill\": {\"color\": \"#C8D4E3\"}, \"line\": {\"color\": \"white\"}}, \"type\": \"table\"}]}, \"layout\": {\"annotationdefaults\": {\"arrowcolor\": \"#2a3f5f\", \"arrowhead\": 0, \"arrowwidth\": 1}, \"coloraxis\": {\"colorbar\": {\"outlinewidth\": 0, \"ticks\": \"\"}}, \"colorscale\": {\"diverging\": [[0, \"#8e0152\"], [0.1, \"#c51b7d\"], [0.2, \"#de77ae\"], [0.3, \"#f1b6da\"], [0.4, \"#fde0ef\"], [0.5, \"#f7f7f7\"], [0.6, \"#e6f5d0\"], [0.7, \"#b8e186\"], [0.8, \"#7fbc41\"], [0.9, \"#4d9221\"], [1, \"#276419\"]], \"sequential\": [[0.0, \"#0d0887\"], [0.1111111111111111, \"#46039f\"], [0.2222222222222222, \"#7201a8\"], [0.3333333333333333, \"#9c179e\"], [0.4444444444444444, \"#bd3786\"], [0.5555555555555556, \"#d8576b\"], [0.6666666666666666, \"#ed7953\"], [0.7777777777777778, \"#fb9f3a\"], [0.8888888888888888, \"#fdca26\"], [1.0, \"#f0f921\"]], \"sequentialminus\": [[0.0, \"#0d0887\"], [0.1111111111111111, \"#46039f\"], [0.2222222222222222, \"#7201a8\"], [0.3333333333333333, \"#9c179e\"], [0.4444444444444444, \"#bd3786\"], [0.5555555555555556, \"#d8576b\"], [0.6666666666666666, \"#ed7953\"], [0.7777777777777778, \"#fb9f3a\"], [0.8888888888888888, \"#fdca26\"], [1.0, \"#f0f921\"]]}, \"colorway\": [\"#636efa\", \"#EF553B\", \"#00cc96\", \"#ab63fa\", \"#FFA15A\", \"#19d3f3\", \"#FF6692\", \"#B6E880\", \"#FF97FF\", \"#FECB52\"], \"font\": {\"color\": \"#2a3f5f\"}, \"geo\": {\"bgcolor\": \"white\", \"lakecolor\": \"white\", \"landcolor\": \"#E5ECF6\", \"showlakes\": true, \"showland\": true, \"subunitcolor\": \"white\"}, \"hoverlabel\": {\"align\": \"left\"}, \"hovermode\": \"closest\", \"mapbox\": {\"style\": \"light\"}, \"paper_bgcolor\": \"white\", \"plot_bgcolor\": \"#E5ECF6\", \"polar\": {\"angularaxis\": {\"gridcolor\": \"white\", \"linecolor\": \"white\", \"ticks\": \"\"}, \"bgcolor\": \"#E5ECF6\", \"radialaxis\": {\"gridcolor\": \"white\", \"linecolor\": \"white\", \"ticks\": \"\"}}, \"scene\": {\"xaxis\": {\"backgroundcolor\": \"#E5ECF6\", \"gridcolor\": \"white\", \"gridwidth\": 2, \"linecolor\": \"white\", \"showbackground\": true, \"ticks\": \"\", \"zerolinecolor\": \"white\"}, \"yaxis\": {\"backgroundcolor\": \"#E5ECF6\", \"gridcolor\": \"white\", \"gridwidth\": 2, \"linecolor\": \"white\", \"showbackground\": true, \"ticks\": \"\", \"zerolinecolor\": \"white\"}, \"zaxis\": {\"backgroundcolor\": \"#E5ECF6\", \"gridcolor\": \"white\", \"gridwidth\": 2, \"linecolor\": \"white\", \"showbackground\": true, \"ticks\": \"\", \"zerolinecolor\": \"white\"}}, \"shapedefaults\": {\"line\": {\"color\": \"#2a3f5f\"}}, \"ternary\": {\"aaxis\": {\"gridcolor\": \"white\", \"linecolor\": \"white\", \"ticks\": \"\"}, \"baxis\": {\"gridcolor\": \"white\", \"linecolor\": \"white\", \"ticks\": \"\"}, \"bgcolor\": \"#E5ECF6\", \"caxis\": {\"gridcolor\": \"white\", \"linecolor\": \"white\", \"ticks\": \"\"}}, \"title\": {\"x\": 0.05}, \"xaxis\": {\"automargin\": true, \"gridcolor\": \"white\", \"linecolor\": \"white\", \"ticks\": \"\", \"title\": {\"standoff\": 15}, \"zerolinecolor\": \"white\", \"zerolinewidth\": 2}, \"yaxis\": {\"automargin\": true, \"gridcolor\": \"white\", \"linecolor\": \"white\", \"ticks\": \"\", \"title\": {\"standoff\": 15}, \"zerolinecolor\": \"white\", \"zerolinewidth\": 2}}}, \"title\": {\"text\": \"Test data\"}, \"xaxis\": {\"anchor\": \"y\", \"domain\": [0.0, 1.0], \"title\": {\"text\": \"x\"}}, \"yaxis\": {\"anchor\": \"x\", \"domain\": [0.0, 1.0], \"title\": {\"text\": \"y\"}}},                        {\"responsive\": true}                    ).then(function(){\n",
       "                            \n",
       "var gd = document.getElementById('32c53d0f-3fbc-4b4c-84b7-e1fee2bfffb5');\n",
       "var x = new MutationObserver(function (mutations, observer) {{\n",
       "        var display = window.getComputedStyle(gd).display;\n",
       "        if (!display || display === 'none') {{\n",
       "            console.log([gd, 'removed!']);\n",
       "            Plotly.purge(gd);\n",
       "            observer.disconnect();\n",
       "        }}\n",
       "}});\n",
       "\n",
       "// Listen for the removal of the full notebook cells\n",
       "var notebookContainer = gd.closest('#notebook-container');\n",
       "if (notebookContainer) {{\n",
       "    x.observe(notebookContainer, {childList: true});\n",
       "}}\n",
       "\n",
       "// Listen for the clearing of the current output cell\n",
       "var outputEl = gd.closest('.output');\n",
       "if (outputEl) {{\n",
       "    x.observe(outputEl, {childList: true});\n",
       "}}\n",
       "\n",
       "                        })                };                });            </script>        </div>"
      ]
     },
     "metadata": {},
     "output_type": "display_data"
    }
   ],
   "source": [
    "# expected view\n",
    "fig = px.scatter(x = test.days, y = test[\"count\"], color=test.label.astype(str),\n",
    "                 title=\"Test data\")\n",
    "\n",
    "\n",
    "fig.show()"
   ]
  },
  {
   "cell_type": "markdown",
   "metadata": {},
   "source": [
    "### Regression "
   ]
  },
  {
   "cell_type": "code",
   "execution_count": 107,
   "metadata": {},
   "outputs": [
    {
     "name": "stdout",
     "output_type": "stream",
     "text": [
      "Score of linear regression for test(clustered data):  0.9318990219794896\n",
      "Score of linear regression for test(classified data):  -0.5272817761397026\n"
     ]
    },
    {
     "name": "stderr",
     "output_type": "stream",
     "text": [
      "<ipython-input-107-2d96f5cc578a>:5: SettingWithCopyWarning:\n",
      "\n",
      "\n",
      "A value is trying to be set on a copy of a slice from a DataFrame.\n",
      "Try using .loc[row_indexer,col_indexer] = value instead\n",
      "\n",
      "See the caveats in the documentation: https://pandas.pydata.org/pandas-docs/stable/user_guide/indexing.html#returning-a-view-versus-a-copy\n",
      "\n"
     ]
    }
   ],
   "source": [
    "regr_new = skl_lm.LinearRegression()\n",
    "X = train.loc[:,[\"days\",\"label\"]]\n",
    "y = train[\"count\"]\n",
    "regr_new.fit(X,y)\n",
    "test[\"pred_label\"]=mod1.predict(test.days.values.reshape(-1,1))\n",
    "\n",
    "print(\"Score of linear regression for test(clustered data): \",regr_new.score(test.loc[:,[\"days\",\"label\"]],test[\"count\"]))\n",
    "\n",
    "print(\"Score of linear regression for test(classified data): \",regr_new.score(test.loc[:,[\"days\",\"pred_label\"]],test[\"count\"]))\n",
    "### here you can see that problem is in the classification process because the approach works only in case of accurate prediction of class"
   ]
  },
  {
   "cell_type": "code",
   "execution_count": 131,
   "metadata": {},
   "outputs": [
    {
     "name": "stdout",
     "output_type": "stream",
     "text": [
      "Scor of Decision Tree(classified data):  -0.6409834289941674\n",
      "Scor of Decision Tree(clustered data):  0.9375453397650134\n"
     ]
    }
   ],
   "source": [
    "##### Decision Tree\n",
    "mod_reg = tree.DecisionTreeRegressor(max_depth = 6)\n",
    "mod_reg_fit = mod_reg.fit(X,y)\n",
    "print(\"Scor of Decision Tree(classified data): \", mod_reg_fit.score(test[[\"days\",\"pred_label\"]],test[\"count\"]))\n",
    "print(\"Scor of Decision Tree(clustered data): \", mod_reg_fit.score(test[[\"days\",\"label\"]],test[\"count\"]))\n",
    "#### the same is here"
   ]
  },
  {
   "cell_type": "markdown",
   "metadata": {},
   "source": [
    "In a conclusion, I think the last approach should work if I can found a good classification algorithm.\n",
    "But from all methods, ARIMA(6,1,1) is the best."
   ]
  },
  {
   "cell_type": "code",
   "execution_count": null,
   "metadata": {},
   "outputs": [],
   "source": []
  }
 ],
 "metadata": {
  "kernelspec": {
   "display_name": "Python 3",
   "language": "python",
   "name": "python3"
  },
  "language_info": {
   "codemirror_mode": {
    "name": "ipython",
    "version": 3
   },
   "file_extension": ".py",
   "mimetype": "text/x-python",
   "name": "python",
   "nbconvert_exporter": "python",
   "pygments_lexer": "ipython3",
   "version": "3.8.3"
  }
 },
 "nbformat": 4,
 "nbformat_minor": 4
}
